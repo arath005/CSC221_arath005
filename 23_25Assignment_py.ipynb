{
  "nbformat": 4,
  "nbformat_minor": 0,
  "metadata": {
    "colab": {
      "provenance": [],
      "include_colab_link": true
    },
    "kernelspec": {
      "name": "python3",
      "display_name": "Python 3"
    },
    "language_info": {
      "name": "python"
    }
  },
  "cells": [
    {
      "cell_type": "markdown",
      "metadata": {
        "id": "view-in-github",
        "colab_type": "text"
      },
      "source": [
        "<a href=\"https://colab.research.google.com/github/arath005/CSC221_arath005/blob/main/23_25Assignment_py.ipynb\" target=\"_parent\"><img src=\"https://colab.research.google.com/assets/colab-badge.svg\" alt=\"Open In Colab\"/></a>"
      ]
    },
    {
      "cell_type": "code",
      "execution_count": 5,
      "metadata": {
        "colab": {
          "base_uri": "https://localhost:8080/"
        },
        "id": "T-POiWCejVL4",
        "outputId": "6230b4e7-4bde-4cc7-c9c7-d7fc8b225111"
      },
      "outputs": [
        {
          "output_type": "stream",
          "name": "stdout",
          "text": [
            "1000\n"
          ]
        }
      ],
      "source": [
        "#Write and test a function that has only positional arguments: def func(a, b)\n",
        "def func(a, b):\n",
        "    return a + b\n",
        "result = func(200, 800)\n",
        "print(result)"
      ]
    },
    {
      "cell_type": "code",
      "source": [
        "#Write and test a function that has variadic arguments: def func(*s)\n",
        "def func(*s):\n",
        "    return sum(s)\n",
        "result = func(100, 150, 200, 250, 300)\n",
        "print(result)"
      ],
      "metadata": {
        "colab": {
          "base_uri": "https://localhost:8080/"
        },
        "id": "rpZbgNGwj2NU",
        "outputId": "17b14ca6-85a1-4028-975c-31fc102bac74"
      },
      "execution_count": 6,
      "outputs": [
        {
          "output_type": "stream",
          "name": "stdout",
          "text": [
            "1000\n"
          ]
        }
      ]
    },
    {
      "cell_type": "code",
      "source": [
        "#Write and test a function that uses only keyword arguments: def func(**kwargs)\n",
        "def func(**kwargs):\n",
        "    return kwargs.get('x', 0) + kwargs.get('y', 0)\n",
        "result = func(x=10, y=20)\n",
        "print(result)"
      ],
      "metadata": {
        "colab": {
          "base_uri": "https://localhost:8080/"
        },
        "id": "5HXojS5Zj5rZ",
        "outputId": "fd0b92a6-446d-415a-ef55-22d469898dcf"
      },
      "execution_count": 7,
      "outputs": [
        {
          "output_type": "stream",
          "name": "stdout",
          "text": [
            "30\n"
          ]
        }
      ]
    },
    {
      "cell_type": "code",
      "source": [
        "#Write and test a function that accepts any inputs: def func(*args, **kwargs). The function should add or subtract all the *args based on a keyword operator='+' or operator='-'\n",
        "def func(operator='+', *args, **kwargs):\n",
        "    if operator == '+':\n",
        "        return sum(args)\n",
        "    elif operator == '-':\n",
        "        return args[0] - sum(args[1:])\n",
        "    else:\n",
        "        raise ValueError(\"Incorrect typed operator, use '+' or '-'\")\n",
        "result_add = func('+', 100, 200, 300)\n",
        "result_subtract = func('-', 2000, 200, 300)\n",
        "\n",
        "print(result_add)\n",
        "print(result_subtract)\n"
      ],
      "metadata": {
        "colab": {
          "base_uri": "https://localhost:8080/"
        },
        "id": "L5xIxgbhj8Ti",
        "outputId": "f8cea9b4-ceab-4be1-84d3-9b1baac368de"
      },
      "execution_count": 12,
      "outputs": [
        {
          "output_type": "stream",
          "name": "stdout",
          "text": [
            "600\n",
            "1500\n"
          ]
        }
      ]
    },
    {
      "cell_type": "code",
      "source": [
        "#Create a global variable and then create a function that uses and changes its value.\n",
        "\n",
        "global_variable = 3000\n",
        "\n",
        "def modify_global_variable(value):\n",
        "    global global_variable\n",
        "    global_variable += value\n",
        "\n",
        "modify_global_variable(500)\n",
        "print(global_variable)\n"
      ],
      "metadata": {
        "colab": {
          "base_uri": "https://localhost:8080/"
        },
        "id": "th1H6v-6kBTx",
        "outputId": "c7ba1189-2ce8-40a3-db50-b9378e7a98a1"
      },
      "execution_count": 14,
      "outputs": [
        {
          "output_type": "stream",
          "name": "stdout",
          "text": [
            "3500\n"
          ]
        }
      ]
    },
    {
      "cell_type": "code",
      "source": [
        "#Create a lambda function that allows the use of sorted(...) such that words are sorted by the number of vowels they contain.\n",
        "sports_terms = [\"football\", \"basketball\", \"soccer\", \"tennis\", \"swimming\", \"gymnastics\", \"volleyball\"]\n",
        "\n",
        "count_vowels = lambda word: sum(1 for char in word if char.lower() in \"aeiou\")\n",
        "\n",
        "sorted_sports_terms = sorted(sports_terms, key=count_vowels)\n",
        "\n",
        "print(sorted_sports_terms)\n"
      ],
      "metadata": {
        "colab": {
          "base_uri": "https://localhost:8080/"
        },
        "id": "6udO43GMkDzs",
        "outputId": "4706196f-8325-4183-cd92-69bb0bbb455f"
      },
      "execution_count": 15,
      "outputs": [
        {
          "output_type": "stream",
          "name": "stdout",
          "text": [
            "['soccer', 'tennis', 'swimming', 'gymnastics', 'football', 'basketball', 'volleyball']\n"
          ]
        }
      ]
    },
    {
      "cell_type": "code",
      "source": [
        "#Write a decorator called logger() that appends the name of the function, all of its arguments, and its return value to a file called log.txt. Use some of your functions above to demonstrate how @logger works.\n",
        "def logger(func):\n",
        "    def wrapper(*args, **kwargs):\n",
        "        result = func(*args, **kwargs)\n",
        "        with open(\"log.txt\", \"a\") as log_file:\n",
        "            log_file.write(f\"{func.__name__}({args}, {kwargs}) -> {result}\\n\")\n",
        "        return result\n",
        "    return wrapper\n",
        "\n",
        "@logger\n",
        "def modify_global_variable(value):\n",
        "    global global_variable\n",
        "    global_variable += value\n",
        "    return global_variable\n",
        "\n",
        "@logger\n",
        "def sort_sports_terms_by_vowels(terms):\n",
        "    count_vowels = lambda word: sum(1 for char in word if char.lower() in \"aeiou\")\n",
        "    return sorted(terms, key=count_vowels)\n",
        "\n",
        "modify_global_variable(500)\n",
        "sort_sports_terms_by_vowels([\"football\", \"basketball\", \"soccer\", \"tennis\"])\n",
        "\n",
        "with open(\"log.txt\", \"r\") as log_file:\n",
        "    print(log_file.read())\n"
      ],
      "metadata": {
        "colab": {
          "base_uri": "https://localhost:8080/"
        },
        "id": "OqS4B2MpkGTL",
        "outputId": "8cbb9902-cb3c-4ce0-b42e-db29d6cd2bee"
      },
      "execution_count": 16,
      "outputs": [
        {
          "output_type": "stream",
          "name": "stdout",
          "text": [
            "modify_global_variable((500,), {}) -> 4000\n",
            "sort_sports_terms_by_vowels((['football', 'basketball', 'soccer', 'tennis'],), {}) -> ['soccer', 'tennis', 'football', 'basketball']\n",
            "\n"
          ]
        }
      ]
    },
    {
      "cell_type": "code",
      "source": [
        "#Show an example of how Python can be used to perform map, filter, and reduce operations.\n",
        "from functools import reduce\n",
        "\n",
        "numbers = [3, 6, 9, 12, 15, 18, 21, 24, 27, 30]\n",
        "\n",
        "squared_numbers = list(map(lambda x: x**2, numbers))\n",
        "print(\"Mapped (squared) numbers:\", squared_numbers)\n",
        "\n",
        "\n",
        "multiples_of_three = list(filter(lambda x: x % 3 == 0, numbers))\n",
        "print(\"Filtered (multiples of three) numbers:\", multiples_of_three)\n",
        "\n",
        "product_of_numbers = reduce(lambda x, y: x * y, numbers)\n",
        "print(\"Reduced (product) result:\", product_of_numbers)\n"
      ],
      "metadata": {
        "colab": {
          "base_uri": "https://localhost:8080/"
        },
        "id": "k9hkUk2vkIxn",
        "outputId": "4d11c46f-cece-49d7-8235-757c5a45fc83"
      },
      "execution_count": 17,
      "outputs": [
        {
          "output_type": "stream",
          "name": "stdout",
          "text": [
            "Mapped (squared) numbers: [9, 36, 81, 144, 225, 324, 441, 576, 729, 900]\n",
            "Filtered (multiples of three) numbers: [3, 6, 9, 12, 15, 18, 21, 24, 27, 30]\n",
            "Reduced (product) result: 214277011200\n"
          ]
        }
      ]
    },
    {
      "cell_type": "code",
      "source": [
        "#Show how you can use exec(...) to make a simple calculator that runs in a loop and allows me to type in ant Python expression (like '5 + 3 - 8 / 12') and print the result by merely passing the expression to exec(...).\n",
        "while True:\n",
        "    expression = input(\"Input a Python expression (or 'exit' to end): \")\n",
        "\n",
        "    if expression.lower() == 'exit':\n",
        "        print(\"Calculator Ended.\")\n",
        "        break\n",
        "\n",
        "    try:\n",
        "        result = eval(expression)\n",
        "        print(\"Result:\", result)\n",
        "    except Exception as e:\n",
        "        print(\"Error:\", e)\n"
      ],
      "metadata": {
        "colab": {
          "base_uri": "https://localhost:8080/"
        },
        "id": "fvrqfv7_kLVU",
        "outputId": "8b7f1e2a-b58f-4808-dbbb-4703e3bf76cf"
      },
      "execution_count": null,
      "outputs": [
        {
          "output_type": "stream",
          "name": "stdout",
          "text": [
            "Input a Python expression (or 'exit' to end): 5 + 3 - 8 / 12\n",
            "Result: 7.333333333333333\n"
          ]
        }
      ]
    }
  ]
}