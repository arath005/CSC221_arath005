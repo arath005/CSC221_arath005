{
  "nbformat": 4,
  "nbformat_minor": 0,
  "metadata": {
    "colab": {
      "provenance": [],
      "authorship_tag": "ABX9TyMxh5I9mjRSD1PQ/bwyn/CD",
      "include_colab_link": true
    },
    "kernelspec": {
      "name": "python3",
      "display_name": "Python 3"
    },
    "language_info": {
      "name": "python"
    }
  },
  "cells": [
    {
      "cell_type": "markdown",
      "metadata": {
        "id": "view-in-github",
        "colab_type": "text"
      },
      "source": [
        "<a href=\"https://colab.research.google.com/github/arath005/CSC221_arath005/blob/main/Assignment15New.ipynb\" target=\"_parent\"><img src=\"https://colab.research.google.com/assets/colab-badge.svg\" alt=\"Open In Colab\"/></a>"
      ]
    },
    {
      "cell_type": "code",
      "source": [
        "city_functions_content = \"\"\"\n",
        "def city_country(city, country):\n",
        "    return f\"{city.title()}, {country.title()}\"\n",
        "\"\"\"\n",
        "\n",
        "with open('city_functions.py', 'w') as file:\n",
        "    file.write(city_functions_content)"
      ],
      "metadata": {
        "id": "gKMhynoIR1Zd"
      },
      "execution_count": 51,
      "outputs": []
    },
    {
      "cell_type": "code",
      "source": [
        "test_cities_content = \"\"\"\n",
        "from city_functions import city_country\n",
        "\n",
        "def test_city_country():\n",
        "    result = city_country('santiago', 'chile')\n",
        "    expected_result = 'Santiago, Chile'\n",
        "    assert result == expected_result\n",
        "\"\"\"\n",
        "\n",
        "with open('test_cities.py', 'w') as file:\n",
        "    file.write(test_cities_content)\n"
      ],
      "metadata": {
        "id": "i5nvAYbZR5H3"
      },
      "execution_count": 52,
      "outputs": []
    },
    {
      "cell_type": "code",
      "source": [
        "!pytest test_cities.py"
      ],
      "metadata": {
        "colab": {
          "base_uri": "https://localhost:8080/"
        },
        "id": "mmLywGk5R8-3",
        "outputId": "77aa651c-179d-458b-d82a-4630062a8fd3"
      },
      "execution_count": 53,
      "outputs": [
        {
          "output_type": "stream",
          "name": "stdout",
          "text": [
            "\u001b[1m======================================= test session starts ========================================\u001b[0m\n",
            "platform linux -- Python 3.10.12, pytest-7.4.3, pluggy-1.3.0\n",
            "rootdir: /content\n",
            "plugins: anyio-3.7.1\n",
            "\u001b[1mcollecting ... \u001b[0m\u001b[1m\rcollected 1 item                                                                                   \u001b[0m\n",
            "\n",
            "test_cities.py \u001b[32m.\u001b[0m\u001b[32m                                                                             [100%]\u001b[0m\n",
            "\n",
            "\u001b[32m======================================== \u001b[32m\u001b[1m1 passed\u001b[0m\u001b[32m in 0.01s\u001b[0m\u001b[32m =========================================\u001b[0m\n"
          ]
        }
      ]
    },
    {
      "cell_type": "code",
      "source": [
        "updated_city_functions_code = \"\"\"\n",
        "def city_country(city, country, population=None):\n",
        "    string = f\"{city.title()}, {country.title()}\"\n",
        "    if population is not None:\n",
        "        string += f\" - population {population}\"\n",
        "    return string\n",
        "\"\"\"\n",
        "\n",
        "with open('updated_city_functions.py', 'w') as file:\n",
        "    file.write(updated_city_functions_code)\n"
      ],
      "metadata": {
        "id": "JQRkdnkTSdxQ"
      },
      "execution_count": 54,
      "outputs": []
    },
    {
      "cell_type": "code",
      "source": [
        "test_cities_content = \"\"\"\n",
        "from updated_city_functions import city_country\n",
        "\n",
        "def test_city_country():\n",
        "    result = city_country('santiago', 'chile')\n",
        "    expected_result = 'Santiago, Chile - population 0'\n",
        "    assert result == expected_result\n",
        "\"\"\"\n",
        "\n",
        "with open('test_cities.py', 'w') as file:\n",
        "    file.write(test_cities_content)\n"
      ],
      "metadata": {
        "id": "Kt__cOkPVicU"
      },
      "execution_count": 55,
      "outputs": []
    },
    {
      "cell_type": "code",
      "source": [
        "!pytest test_cities.py"
      ],
      "metadata": {
        "colab": {
          "base_uri": "https://localhost:8080/"
        },
        "id": "cVu2zwptTHbj",
        "outputId": "44966fe3-86f2-455c-fdee-4849c1993572"
      },
      "execution_count": 56,
      "outputs": [
        {
          "output_type": "stream",
          "name": "stdout",
          "text": [
            "\u001b[1m======================================= test session starts ========================================\u001b[0m\n",
            "platform linux -- Python 3.10.12, pytest-7.4.3, pluggy-1.3.0\n",
            "rootdir: /content\n",
            "plugins: anyio-3.7.1\n",
            "\u001b[1mcollecting ... \u001b[0m\u001b[1m\rcollected 1 item                                                                                   \u001b[0m\n",
            "\n",
            "test_cities.py \u001b[31mF\u001b[0m\u001b[31m                                                                             [100%]\u001b[0m\n",
            "\n",
            "============================================= FAILURES =============================================\n",
            "\u001b[31m\u001b[1m________________________________________ test_city_country _________________________________________\u001b[0m\n",
            "\n",
            "    \u001b[94mdef\u001b[39;49;00m \u001b[92mtest_city_country\u001b[39;49;00m():\u001b[90m\u001b[39;49;00m\n",
            "        result = city_country(\u001b[33m'\u001b[39;49;00m\u001b[33msantiago\u001b[39;49;00m\u001b[33m'\u001b[39;49;00m, \u001b[33m'\u001b[39;49;00m\u001b[33mchile\u001b[39;49;00m\u001b[33m'\u001b[39;49;00m)\u001b[90m\u001b[39;49;00m\n",
            "        expected_result = \u001b[33m'\u001b[39;49;00m\u001b[33mSantiago, Chile - population 0\u001b[39;49;00m\u001b[33m'\u001b[39;49;00m\u001b[90m\u001b[39;49;00m\n",
            ">       \u001b[94massert\u001b[39;49;00m result == expected_result\u001b[90m\u001b[39;49;00m\n",
            "\u001b[1m\u001b[31mE       AssertionError: assert 'Santiago, Chile' == 'Santiago, Ch... population 0'\u001b[0m\n",
            "\u001b[1m\u001b[31mE         - Santiago, Chile - population 0\u001b[0m\n",
            "\u001b[1m\u001b[31mE         + Santiago, Chile\u001b[0m\n",
            "\n",
            "\u001b[1m\u001b[31mtest_cities.py\u001b[0m:7: AssertionError\n",
            "\u001b[36m\u001b[1m===================================== short test summary info ======================================\u001b[0m\n",
            "\u001b[31mFAILED\u001b[0m test_cities.py::\u001b[1mtest_city_country\u001b[0m - AssertionError: assert 'Santiago, Chile' == 'Santiago, Ch... population 0'\n",
            "\u001b[31m======================================== \u001b[31m\u001b[1m1 failed\u001b[0m\u001b[31m in 0.08s\u001b[0m\u001b[31m =========================================\u001b[0m\n"
          ]
        }
      ]
    },
    {
      "cell_type": "code",
      "source": [
        "updated_city_functions_optional_code = \"\"\"\n",
        "def city_country(city, country, population=0):\n",
        "    string = f\"{city.title()}, {country.title()} - population {population}\"\n",
        "    return string\n",
        "\"\"\"\n",
        "\n",
        "with open('updated_city_functions_optional.py', 'w') as file:\n",
        "    file.write(updated_city_functions_optional_code)\n"
      ],
      "metadata": {
        "id": "BLnyzq3vTZAN"
      },
      "execution_count": 60,
      "outputs": []
    },
    {
      "cell_type": "code",
      "source": [
        "test_cities_content = \"\"\"\n",
        "from updated_city_functions_optional import city_country\n",
        "\n",
        "def test_city_country():\n",
        "    result = city_country('santiago', 'chile')\n",
        "    expected_result = 'Santiago, Chile - population 0'\n",
        "    assert result == expected_result\n",
        "\"\"\"\n",
        "\n",
        "with open('test_cities.py', 'w') as file:\n",
        "    file.write(test_cities_content)\n"
      ],
      "metadata": {
        "id": "g5FKbPMPWLO8"
      },
      "execution_count": 61,
      "outputs": []
    },
    {
      "cell_type": "code",
      "source": [
        "!pytest test_cities.py"
      ],
      "metadata": {
        "colab": {
          "base_uri": "https://localhost:8080/"
        },
        "id": "HwrXqS1sTxVe",
        "outputId": "52d26a58-6653-4337-c07b-d6a15c35b6ad"
      },
      "execution_count": 62,
      "outputs": [
        {
          "output_type": "stream",
          "name": "stdout",
          "text": [
            "\u001b[1m======================================= test session starts ========================================\u001b[0m\n",
            "platform linux -- Python 3.10.12, pytest-7.4.3, pluggy-1.3.0\n",
            "rootdir: /content\n",
            "plugins: anyio-3.7.1\n",
            "\u001b[1mcollecting ... \u001b[0m\u001b[1m\rcollected 1 item                                                                                   \u001b[0m\n",
            "\n",
            "test_cities.py \u001b[32m.\u001b[0m\u001b[32m                                                                             [100%]\u001b[0m\n",
            "\n",
            "\u001b[32m======================================== \u001b[32m\u001b[1m1 passed\u001b[0m\u001b[32m in 0.01s\u001b[0m\u001b[32m =========================================\u001b[0m\n"
          ]
        }
      ]
    },
    {
      "cell_type": "code",
      "source": [],
      "metadata": {
        "id": "0FVwb4q5WzRh"
      },
      "execution_count": null,
      "outputs": []
    },
    {
      "cell_type": "code",
      "source": [
        "\n",
        "test_cities_content = \"\"\"\n",
        "import unittest\n",
        "from updated_city_functions import city_country\n",
        "\n",
        "class Cities(unittest.TestCase):\n",
        "\n",
        "    def test_city_country(self):\n",
        "        result = city_country('santiago', 'chile')\n",
        "        expected_result = 'Santiago, Chile'\n",
        "        self.assertEqual(result, expected_result)\n",
        "\n",
        "    def test_city_country_population(self):\n",
        "        result = city_country('santiago', 'chile', population=5_000_000)\n",
        "        expected_result = 'Santiago, Chile - population 5000000'\n",
        "        self.assertEqual(result, expected_result)\n",
        "\n",
        "if __name__ == '__main__':\n",
        "    unittest.main()\n",
        "\"\"\"\n",
        "\n",
        "with open('test_updated_city_functions.py', 'w') as file:\n",
        "    file.write(test_cities_content)\n"
      ],
      "metadata": {
        "id": "gdZYDtILWzsN"
      },
      "execution_count": 65,
      "outputs": []
    },
    {
      "cell_type": "code",
      "source": [
        "!python test_updated_city_functions.py"
      ],
      "metadata": {
        "colab": {
          "base_uri": "https://localhost:8080/"
        },
        "id": "efbpLW8XWzyI",
        "outputId": "c82b3b9c-02cd-441f-c990-e7e4a6fb44af"
      },
      "execution_count": 66,
      "outputs": [
        {
          "output_type": "stream",
          "name": "stdout",
          "text": [
            "..\n",
            "----------------------------------------------------------------------\n",
            "Ran 2 tests in 0.001s\n",
            "\n",
            "OK\n"
          ]
        }
      ]
    }
  ]
}