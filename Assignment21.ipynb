{
  "nbformat": 4,
  "nbformat_minor": 0,
  "metadata": {
    "colab": {
      "provenance": [],
      "include_colab_link": true
    },
    "kernelspec": {
      "name": "python3",
      "display_name": "Python 3"
    },
    "language_info": {
      "name": "python"
    }
  },
  "cells": [
    {
      "cell_type": "markdown",
      "metadata": {
        "id": "view-in-github",
        "colab_type": "text"
      },
      "source": [
        "<a href=\"https://colab.research.google.com/github/arath005/CSC221_arath005/blob/main/Assignment21.ipynb\" target=\"_parent\"><img src=\"https://colab.research.google.com/assets/colab-badge.svg\" alt=\"Open In Colab\"/></a>"
      ]
    },
    {
      "cell_type": "markdown",
      "source": [
        "# Assignment 21\n",
        "## CSC 221\n",
        "- Alex Rathbun\n",
        "\n",
        "### Instructions:\n",
        "Fill in each code cell below the question. We are following along in Chapter 4 of Python Distilled."
      ],
      "metadata": {
        "id": "IAOUzGWE1eDx"
      }
    },
    {
      "cell_type": "code",
      "execution_count": null,
      "metadata": {
        "id": "Gnj3su7i5-lx",
        "colab": {
          "base_uri": "https://localhost:8080/"
        },
        "outputId": "33b8ca3c-5db9-4772-f673-a1282509723f"
      },
      "outputs": [
        {
          "output_type": "stream",
          "name": "stdout",
          "text": [
            "8\n",
            "Hello, World!\n",
            "Hello, 123\n"
          ]
        }
      ],
      "source": [
        "# 4.2 Object Identity and Type\n",
        "\n",
        "# Make a function that performs differently depending on the types of its inputs\n",
        "# cat(a, b) below will work if you pass in two numbers or two strings\n",
        "# Use isinstance to detect when you are getting a string and an int and\n",
        "# automatically convert the int to a string and return the string!\n",
        "\n",
        "# INSERT CODE HERE\n",
        "def cat(a, b):\n",
        "    if isinstance(a, str) and isinstance(b, int):\n",
        "\n",
        "        b = str(b)\n",
        "    return a + b\n",
        "\n",
        "# Test\n",
        "print(cat(3, 5))\n",
        "print(cat(\"Hello, \", \"World!\"))\n",
        "print(cat(\"Hello, \", 123))\n"
      ]
    },
    {
      "cell_type": "code",
      "source": [
        "# Explain the output of the following code\n",
        "import sys\n",
        "\n",
        "class EmptyClass:\n",
        "    def __init__(self):\n",
        "        print('init')\n",
        "    def __del__(self):\n",
        "        print('del')\n",
        "\n",
        "def print_refcount(x):\n",
        "    print(sys.getrefcount(x))\n",
        "\n",
        "f1 = EmptyClass()\n",
        "print_refcount(f1)\n",
        "f2 = f1\n",
        "print_refcount(f1)\n",
        "f3 = f1\n",
        "print_refcount(f1)\n",
        "\n",
        "del f1\n",
        "print_refcount(f3)\n",
        "del f2\n",
        "print_refcount(f3)\n",
        "del f3\n",
        "\n",
        "# INSERT YOUR EXPLANATION HERE\n",
        "\n",
        "#f1 is like a character in our story, and when we create it (EmptyClass()), we say, \"Hey, character, it's your beginning! 'init' is like the starting point.\"\n",
        "#print_refcount(f1) is like asking, \"How many times are people talking about this character?\" It says, \"Right now, one person (or reference) is talking about our character.\"\n",
        "#f2 = f1 is like saying, \"Okay, let's introduce another person who knows our character. Now two people are talking about it.\"\n",
        "#print_refcount(f1) and print_refcount(f3) now both say, \"Two people are talking about our character.\"\n",
        "#When we say del f1, it's like one person saying, \"I'm not interested in this character anymore.\" Now only one person is talking about it.\n",
        "#del f2 is like another person saying, \"I'm done with this character too.\" Now nobody is talking about our character.\n",
        "#del f3 is like saying, \"Alright, everyone's gone. It's the end of our character's story. 'del' is like closing the book.\"\n",
        "#So, in simple terms, the output shows the lifecycle of our character in the story, from the beginning to the end."
      ],
      "metadata": {
        "colab": {
          "base_uri": "https://localhost:8080/"
        },
        "id": "DKFgqiK-jlZg",
        "outputId": "fe013a44-9270-4833-c89c-9209d4f5f09d"
      },
      "execution_count": 1,
      "outputs": [
        {
          "output_type": "stream",
          "name": "stdout",
          "text": [
            "init\n",
            "4\n",
            "5\n",
            "6\n",
            "5\n",
            "4\n",
            "del\n"
          ]
        }
      ]
    },
    {
      "cell_type": "code",
      "source": [
        "# Section 4.4, Part 1\n",
        "# Explain this output. Why does it seem odd?\n",
        "a = [1, 2, 3]\n",
        "b = a\n",
        "b[1] = 99\n",
        "print(a)\n",
        "print(b)\n",
        "\n",
        "# INSERT YOUR EXPLANATION HERE\n",
        "# Because both variables in Python relate to the same list object in memory when you assign a list to another variable (like in 'b = a'), the output appears strange.\n",
        "# So when you modify the list through one variable ('b' in this case), the change is reflected when you access the list through the other variable ('a').\n",
        "# In this instance, when 'b[1] = 99' is executed, it modifies the list that both 'a' and 'b' point to. Therefore, when you print 'a' or 'b' after the modification,\n",
        "#The second element has changed from 2 to 99 in the updated list that you are viewing. If you are unfamiliar with Python's handling of list assignments, this behavior may come as a surprise."
      ],
      "metadata": {
        "colab": {
          "base_uri": "https://localhost:8080/"
        },
        "id": "-pBk9F45ke-W",
        "outputId": "0fbed9cb-0eee-47e6-88a3-8335f318f6eb"
      },
      "execution_count": 2,
      "outputs": [
        {
          "output_type": "stream",
          "name": "stdout",
          "text": [
            "[1, 99, 3]\n",
            "[1, 99, 3]\n"
          ]
        }
      ]
    },
    {
      "cell_type": "code",
      "source": [
        "# Section 4.4, Part 2\n",
        "# Explain this output. Why is it from Part 1?\n",
        "a = [1, 2, 3]\n",
        "b = a[:]\n",
        "b[1] = 99\n",
        "print(a)\n",
        "print(b)\n",
        "\n",
        "# INSERT YOUR EXPLANATION HERE\n",
        "# Unlike in Part 1, where 'b' was assigned to 'a' directly, here 'b' is created as a new list using the slicing syntax 'b = a[:]'.\n",
        "# This creates a copy of the original list 'a', and 'b' becomes a separate list object in memory.\n",
        "# When 'b[1] = 99' is executed, it only modifies the list 'b', not the original list 'a'. So, when you print 'a' and 'b' afterward,\n",
        "# 'a' retains its original values, while 'b' reflects the modification with the updated second element.\n",
        "# This behavior highlights the difference between modifying the original list and creating a copy to work with independently."
      ],
      "metadata": {
        "colab": {
          "base_uri": "https://localhost:8080/"
        },
        "id": "PFG-FWuUnmM6",
        "outputId": "693f20fe-56f1-41ac-ae8c-f2a5eefe0ecb"
      },
      "execution_count": 3,
      "outputs": [
        {
          "output_type": "stream",
          "name": "stdout",
          "text": [
            "[1, 2, 3]\n",
            "[1, 99, 3]\n"
          ]
        }
      ]
    },
    {
      "cell_type": "code",
      "source": [
        "# Section 4.4, Part 3\n",
        "\n",
        "# Explain this output. Why is it from Part 1?\n",
        "# In Part 1, 'b' was assigned to 'a', creating a reference to the same list object. Therefore, when 'b[1] = 99' modified the list through 'b',\n",
        "# it also affected the original list 'a'. This is why the output in Part 3 appears similar to Part 1.\n",
        "\n",
        "a = [1, 2, 3]\n",
        "b = list(a)\n",
        "b[1] = 99\n",
        "print(a)\n",
        "print(b)\n",
        "\n",
        "# Explanation:\n",
        "# In Part 3, we create a new list 'b' by using the 'list()' constructor with 'b = list(a)'. This creates a separate copy of the original list 'a'.\n",
        "# When 'b[1] = 99' is executed, it only modifies the list 'b', not the original list 'a'. So, when you print 'a' and 'b' afterward,\n",
        "# 'a' retains its original values, while 'b' reflects the modification with the updated second element. This is different from Part 1,\n",
        "# highlighting that 'b' is now an independent copy of 'a'.\n"
      ],
      "metadata": {
        "colab": {
          "base_uri": "https://localhost:8080/"
        },
        "id": "gYLWsIv0n1uR",
        "outputId": "e526ea73-3dac-449d-8f46-4694ce36fde5"
      },
      "execution_count": 4,
      "outputs": [
        {
          "output_type": "stream",
          "name": "stdout",
          "text": [
            "[1, 2, 3]\n",
            "[1, 99, 3]\n"
          ]
        }
      ]
    },
    {
      "cell_type": "code",
      "source": [
        "# Section 4.4, Part 4\n",
        "# Now we understand copy vs. reference. What about shallow vs. deep copy?\n",
        "# Here's a shoolow copy. Why are a and b the same?\n",
        "a = [1, [100, 101], 3]\n",
        "b = list(a)\n",
        "b[1][1] = 900\n",
        "print(a)\n",
        "print(b)\n",
        "\n",
        "# INSERT YOUR EXPLANATION HERE\n",
        "#When you create a shallow copy of a list in Python, you are creating a new list object, but the elements inside the new list still reference the same objects as the original list. In other words, the outer structure is copied, but the inner objects are still shared between the original and the copy.\n",
        "#In this example, list a contains three elements: an integer 1, a nested list [100, 101], and another integer 3. When you create a shallow copy b using list(a), you are essentially creating a new list that looks the same as a. However, the inner list [100, 101] is not duplicated; both a and b refer to the same inner list.\n",
        "#So, when you modify the value inside this shared inner list by setting b[1][1] to 900, it affects both a and b because they both point to the same inner list.\n",
        "#To avoid this behavior and create a true independent copy, you would need a deep copy, which would duplicate not only the outer structure but also all the nested objects within the original list.\n"
      ],
      "metadata": {
        "colab": {
          "base_uri": "https://localhost:8080/"
        },
        "id": "8qAscig2oA7D",
        "outputId": "e6d25571-1e5c-4129-ff7c-c1c1f4a13997"
      },
      "execution_count": 5,
      "outputs": [
        {
          "output_type": "stream",
          "name": "stdout",
          "text": [
            "[1, [100, 900], 3]\n",
            "[1, [100, 900], 3]\n"
          ]
        }
      ]
    },
    {
      "cell_type": "code",
      "source": [
        "# Section 4.4, Part 5\n",
        "# Modify the code from the cell above (repeated here) to perform a deepcopy of a\n",
        "# Explain how that is different.\n",
        "import copy\n",
        "\n",
        "a = [1, [100, 101], 3]\n",
        "b = copy.deepcopy(a)  # Perform a deepcopy of a\n",
        "b[1][1] = 900\n",
        "print(a)\n",
        "print(b)\n",
        "\n",
        "# INSERT YOUR EXPLANATION HERE\n",
        "\n",
        "# Explanation:\n",
        "# In this modified code, the deepcopy function from the copy module is used to create a true independent copy of list a.\n",
        "# Unlike a shallow copy, which copies the outer structure but shares references to nested objects,\n",
        "# a deepcopy creates a new list with copies of all elements, including any nested lists or objects.\n",
        "# Therefore, when b[1][1] is set to 900, it only affects the inner list of b, leaving the inner list of a unchanged.\n",
        "# This demonstrates the difference between shallow and deep copies in Python.\n"
      ],
      "metadata": {
        "colab": {
          "base_uri": "https://localhost:8080/"
        },
        "id": "Mc2xAGC-oU3C",
        "outputId": "0b869158-1ba2-441c-bf78-ccf4701f1e36"
      },
      "execution_count": 6,
      "outputs": [
        {
          "output_type": "stream",
          "name": "stdout",
          "text": [
            "[1, [100, 101], 3]\n",
            "[1, [100, 900], 3]\n"
          ]
        }
      ]
    }
  ]
}