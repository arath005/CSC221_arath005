{
  "nbformat": 4,
  "nbformat_minor": 0,
  "metadata": {
    "colab": {
      "provenance": [],
      "authorship_tag": "ABX9TyNUBFGiq2dTzGxowCYtAMUS",
      "include_colab_link": true
    },
    "kernelspec": {
      "name": "python3",
      "display_name": "Python 3"
    },
    "language_info": {
      "name": "python"
    }
  },
  "cells": [
    {
      "cell_type": "markdown",
      "metadata": {
        "id": "view-in-github",
        "colab_type": "text"
      },
      "source": [
        "<a href=\"https://colab.research.google.com/github/arath005/CSC221_arath005/blob/main/Assignment26_28.ipynb\" target=\"_parent\"><img src=\"https://colab.research.google.com/assets/colab-badge.svg\" alt=\"Open In Colab\"/></a>"
      ]
    },
    {
      "cell_type": "markdown",
      "source": [
        "Alexander Rathbun\n",
        "csc 221"
      ],
      "metadata": {
        "id": "a0J-YcfFuBLq"
      }
    },
    {
      "cell_type": "code",
      "execution_count": 6,
      "metadata": {
        "colab": {
          "base_uri": "https://localhost:8080/"
        },
        "id": "4JaM1SBKt5R7",
        "outputId": "55707534-964a-4df9-874e-41529aa22ff8"
      },
      "outputs": [
        {
          "output_type": "stream",
          "name": "stdout",
          "text": [
            "5 3.14 Hello, World!\n"
          ]
        }
      ],
      "source": [
        "#Cell 1\n",
        "integer_variable = 5\n",
        "float_variable = 3.14\n",
        "string_variable = \"Hello, World!\"\n",
        "\n",
        "print(integer_variable, float_variable, string_variable)\n"
      ]
    },
    {
      "cell_type": "code",
      "source": [
        "#Cell 2\n",
        "something = \"variable\"\n",
        "formatted_string = f'Something like this with {something} in it.'\n",
        "print(formatted_string)"
      ],
      "metadata": {
        "colab": {
          "base_uri": "https://localhost:8080/"
        },
        "id": "lsrrB0fHumJb",
        "outputId": "f3efb3ba-2509-434f-fc79-d25ea259d3f2"
      },
      "execution_count": 7,
      "outputs": [
        {
          "output_type": "stream",
          "name": "stdout",
          "text": [
            "Something like this with variable in it.\n"
          ]
        }
      ]
    },
    {
      "cell_type": "code",
      "source": [
        "#Cell 3\n",
        "example_string = \"Hello, World!\"\n",
        "print(example_string.upper())\n",
        "print(example_string.lower())\n",
        "print(example_string.replace(\"Hello\", \"Hi\"))"
      ],
      "metadata": {
        "colab": {
          "base_uri": "https://localhost:8080/"
        },
        "id": "5GKalqTpuqMR",
        "outputId": "852325ba-00d3-4554-d56f-5d984611bb06"
      },
      "execution_count": 9,
      "outputs": [
        {
          "output_type": "stream",
          "name": "stdout",
          "text": [
            "HELLO, WORLD!\n",
            "hello, world!\n",
            "Hi, World!\n"
          ]
        }
      ]
    },
    {
      "cell_type": "code",
      "source": [
        "#Cell 4\n",
        "my_list = [1, 2, 3, 4, 5]\n",
        "print(sum(my_list))"
      ],
      "metadata": {
        "colab": {
          "base_uri": "https://localhost:8080/"
        },
        "id": "zbS4QyJvu0Y8",
        "outputId": "31233172-3303-4f26-9c18-f92695049d5c"
      },
      "execution_count": 10,
      "outputs": [
        {
          "output_type": "stream",
          "name": "stdout",
          "text": [
            "15\n"
          ]
        }
      ]
    },
    {
      "cell_type": "code",
      "source": [
        "#Cell 5\n",
        "list_of_lists = [[1, 2, 3], [4, 5, 6], [7, 8, 9]]\n",
        "print(list_of_lists[1][2])"
      ],
      "metadata": {
        "colab": {
          "base_uri": "https://localhost:8080/"
        },
        "id": "u-G58JmGu1nP",
        "outputId": "9ebb40f0-9477-4ca1-9152-ccb1428d9e9d"
      },
      "execution_count": 11,
      "outputs": [
        {
          "output_type": "stream",
          "name": "stdout",
          "text": [
            "6\n"
          ]
        }
      ]
    },
    {
      "cell_type": "code",
      "source": [
        "#Cell 6\n",
        "original_list = [3, 1, 4, 1, 5, 9, 2]\n",
        "sorted_list = sorted(original_list)\n",
        "print(sorted_list)"
      ],
      "metadata": {
        "colab": {
          "base_uri": "https://localhost:8080/"
        },
        "id": "4KjYPThau4wL",
        "outputId": "f605474e-ee23-436f-ed79-e03de96fa245"
      },
      "execution_count": 12,
      "outputs": [
        {
          "output_type": "stream",
          "name": "stdout",
          "text": [
            "[1, 1, 2, 3, 4, 5, 9]\n"
          ]
        }
      ]
    },
    {
      "cell_type": "code",
      "source": [
        "#Cell 7\n",
        "for num in range(5):\n",
        "    print(num)\n"
      ],
      "metadata": {
        "colab": {
          "base_uri": "https://localhost:8080/"
        },
        "id": "U6K0uL-Iu77i",
        "outputId": "0bc2c174-c396-44d7-eff7-e272187252ba"
      },
      "execution_count": 13,
      "outputs": [
        {
          "output_type": "stream",
          "name": "stdout",
          "text": [
            "0\n",
            "1\n",
            "2\n",
            "3\n",
            "4\n"
          ]
        }
      ]
    },
    {
      "cell_type": "code",
      "source": [
        "#Cell 8\n",
        "squares_not_multiple_of_7 = [x**2 for x in range(1, 1001) if x % 7 != 0]\n",
        "print(squares_not_multiple_of_7[:10])"
      ],
      "metadata": {
        "colab": {
          "base_uri": "https://localhost:8080/"
        },
        "id": "nJ3ZoI6ou_fi",
        "outputId": "c37c02f4-dedd-4cb1-91da-deeeee565466"
      },
      "execution_count": 14,
      "outputs": [
        {
          "output_type": "stream",
          "name": "stdout",
          "text": [
            "[1, 4, 9, 16, 25, 36, 64, 81, 100, 121]\n"
          ]
        }
      ]
    },
    {
      "cell_type": "code",
      "source": [
        "#Cell 9\n",
        "def sieve_of_eratosthenes(limit):\n",
        "    primes = []\n",
        "    is_prime = [True] * (limit + 1)\n",
        "    is_prime[0] = is_prime[1] = False\n",
        "\n",
        "    for number in range(2, int(limit**0.5) + 1):\n",
        "        if is_prime[number]:\n",
        "            primes.append(number)\n",
        "            for multiple in range(number * number, limit + 1, number):\n",
        "                is_prime[multiple] = False\n",
        "\n",
        "    for number in range(int(limit**0.5) + 1, limit + 1):\n",
        "        if is_prime[number]:\n",
        "            primes.append(number)\n",
        "\n",
        "    return primes\n",
        "\n",
        "\n",
        "primes_up_to_1000 = sieve_of_eratosthenes(1000)\n",
        "\n",
        "\n",
        "print(primes_up_to_1000)"
      ],
      "metadata": {
        "colab": {
          "base_uri": "https://localhost:8080/"
        },
        "id": "H-CDMR3PvFLG",
        "outputId": "00977959-2e89-4f90-e981-23c1cd049ccd"
      },
      "execution_count": 15,
      "outputs": [
        {
          "output_type": "stream",
          "name": "stdout",
          "text": [
            "[2, 3, 5, 7, 11, 13, 17, 19, 23, 29, 31, 37, 41, 43, 47, 53, 59, 61, 67, 71, 73, 79, 83, 89, 97, 101, 103, 107, 109, 113, 127, 131, 137, 139, 149, 151, 157, 163, 167, 173, 179, 181, 191, 193, 197, 199, 211, 223, 227, 229, 233, 239, 241, 251, 257, 263, 269, 271, 277, 281, 283, 293, 307, 311, 313, 317, 331, 337, 347, 349, 353, 359, 367, 373, 379, 383, 389, 397, 401, 409, 419, 421, 431, 433, 439, 443, 449, 457, 461, 463, 467, 479, 487, 491, 499, 503, 509, 521, 523, 541, 547, 557, 563, 569, 571, 577, 587, 593, 599, 601, 607, 613, 617, 619, 631, 641, 643, 647, 653, 659, 661, 673, 677, 683, 691, 701, 709, 719, 727, 733, 739, 743, 751, 757, 761, 769, 773, 787, 797, 809, 811, 821, 823, 827, 829, 839, 853, 857, 859, 863, 877, 881, 883, 887, 907, 911, 919, 929, 937, 941, 947, 953, 967, 971, 977, 983, 991, 997]\n"
          ]
        }
      ]
    },
    {
      "cell_type": "code",
      "source": [
        "#Cell 10\n",
        "def sieve_of_eratosthenes_generator(limit):\n",
        "    is_prime = [True] * (limit + 1)\n",
        "    is_prime[0] = is_prime[1] = False\n",
        "\n",
        "    for number in range(2, int(limit**0.5) + 1):\n",
        "        if is_prime[number]:\n",
        "            yield number\n",
        "            for multiple in range(number * number, limit + 1, number):\n",
        "                is_prime[multiple] = False\n",
        "\n",
        "    for number in range(int(limit**0.5) + 1, limit + 1):\n",
        "        if is_prime[number]:\n",
        "            yield number\n",
        "\n",
        "\n",
        "N = 200\n",
        "my_prime_generator = sieve_of_eratosthenes_generator(10000)\n",
        "for x in range(N):\n",
        "    print(next(my_prime_generator))\n"
      ],
      "metadata": {
        "colab": {
          "base_uri": "https://localhost:8080/"
        },
        "id": "vQqo4T79vuyt",
        "outputId": "7d3c5e2b-7647-42ea-c1a2-614c39b8838f"
      },
      "execution_count": 16,
      "outputs": [
        {
          "output_type": "stream",
          "name": "stdout",
          "text": [
            "2\n",
            "3\n",
            "5\n",
            "7\n",
            "11\n",
            "13\n",
            "17\n",
            "19\n",
            "23\n",
            "29\n",
            "31\n",
            "37\n",
            "41\n",
            "43\n",
            "47\n",
            "53\n",
            "59\n",
            "61\n",
            "67\n",
            "71\n",
            "73\n",
            "79\n",
            "83\n",
            "89\n",
            "97\n",
            "101\n",
            "103\n",
            "107\n",
            "109\n",
            "113\n",
            "127\n",
            "131\n",
            "137\n",
            "139\n",
            "149\n",
            "151\n",
            "157\n",
            "163\n",
            "167\n",
            "173\n",
            "179\n",
            "181\n",
            "191\n",
            "193\n",
            "197\n",
            "199\n",
            "211\n",
            "223\n",
            "227\n",
            "229\n",
            "233\n",
            "239\n",
            "241\n",
            "251\n",
            "257\n",
            "263\n",
            "269\n",
            "271\n",
            "277\n",
            "281\n",
            "283\n",
            "293\n",
            "307\n",
            "311\n",
            "313\n",
            "317\n",
            "331\n",
            "337\n",
            "347\n",
            "349\n",
            "353\n",
            "359\n",
            "367\n",
            "373\n",
            "379\n",
            "383\n",
            "389\n",
            "397\n",
            "401\n",
            "409\n",
            "419\n",
            "421\n",
            "431\n",
            "433\n",
            "439\n",
            "443\n",
            "449\n",
            "457\n",
            "461\n",
            "463\n",
            "467\n",
            "479\n",
            "487\n",
            "491\n",
            "499\n",
            "503\n",
            "509\n",
            "521\n",
            "523\n",
            "541\n",
            "547\n",
            "557\n",
            "563\n",
            "569\n",
            "571\n",
            "577\n",
            "587\n",
            "593\n",
            "599\n",
            "601\n",
            "607\n",
            "613\n",
            "617\n",
            "619\n",
            "631\n",
            "641\n",
            "643\n",
            "647\n",
            "653\n",
            "659\n",
            "661\n",
            "673\n",
            "677\n",
            "683\n",
            "691\n",
            "701\n",
            "709\n",
            "719\n",
            "727\n",
            "733\n",
            "739\n",
            "743\n",
            "751\n",
            "757\n",
            "761\n",
            "769\n",
            "773\n",
            "787\n",
            "797\n",
            "809\n",
            "811\n",
            "821\n",
            "823\n",
            "827\n",
            "829\n",
            "839\n",
            "853\n",
            "857\n",
            "859\n",
            "863\n",
            "877\n",
            "881\n",
            "883\n",
            "887\n",
            "907\n",
            "911\n",
            "919\n",
            "929\n",
            "937\n",
            "941\n",
            "947\n",
            "953\n",
            "967\n",
            "971\n",
            "977\n",
            "983\n",
            "991\n",
            "997\n",
            "1009\n",
            "1013\n",
            "1019\n",
            "1021\n",
            "1031\n",
            "1033\n",
            "1039\n",
            "1049\n",
            "1051\n",
            "1061\n",
            "1063\n",
            "1069\n",
            "1087\n",
            "1091\n",
            "1093\n",
            "1097\n",
            "1103\n",
            "1109\n",
            "1117\n",
            "1123\n",
            "1129\n",
            "1151\n",
            "1153\n",
            "1163\n",
            "1171\n",
            "1181\n",
            "1187\n",
            "1193\n",
            "1201\n",
            "1213\n",
            "1217\n",
            "1223\n"
          ]
        }
      ]
    },
    {
      "cell_type": "code",
      "source": [
        "#Cell 11\n",
        "import random\n",
        "\n",
        "random_integers = [random.randint(1, 100) for _ in range(1000)]\n",
        "print(min(random_integers), max(random_integers), sum(random_integers), sum(random_integers) / len(random_integers))"
      ],
      "metadata": {
        "colab": {
          "base_uri": "https://localhost:8080/"
        },
        "id": "JJExohOOwdZ_",
        "outputId": "3fc66d03-cf5e-494a-ed3d-ff9fad025607"
      },
      "execution_count": 18,
      "outputs": [
        {
          "output_type": "stream",
          "name": "stdout",
          "text": [
            "1 100 49300 49.3\n"
          ]
        }
      ]
    },
    {
      "cell_type": "code",
      "source": [
        "#Cell 12\n",
        "def simple_function(x):\n",
        "    if x < 0:\n",
        "        return \"Negative\"\n",
        "    elif x == 0:\n",
        "        return \"Zero\"\n",
        "    else:\n",
        "        return \"Positive\"\n",
        "\n",
        "result = simple_function(3)\n",
        "print(result)\n",
        "result = simple_function(-1)\n",
        "print(result)"
      ],
      "metadata": {
        "colab": {
          "base_uri": "https://localhost:8080/"
        },
        "id": "VSZZa8D0we7k",
        "outputId": "6e8c2cf0-96c9-48ea-bfa2-d9d7a5bef7ea"
      },
      "execution_count": 20,
      "outputs": [
        {
          "output_type": "stream",
          "name": "stdout",
          "text": [
            "Positive\n",
            "Negative\n"
          ]
        }
      ]
    },
    {
      "cell_type": "code",
      "source": [
        "#Cell 13\n",
        "# Good\n",
        "def function():\n",
        "    if x:\n",
        "        print(\"x is true\")\n",
        "\n",
        "# Bad - Avoid using tabs\n",
        "def function():\n",
        "\tif x:\n",
        "\t\tprint(\"x is true\")\n",
        "\n",
        "def spam(value1, value2):\n",
        "    print(f\"value1: {value1}, value2: {value2}\")\n",
        "\n",
        "# Good\n",
        "def good_example():\n",
        "    ham = [1]\n",
        "    eggs = 2\n",
        "    spam(ham[0], {eggs: 2})\n",
        "\n",
        "# Bad - Avoid extra spaces immediately inside parentheses\n",
        "def bad_example():\n",
        "    ham = [1]\n",
        "    eggs = 2\n",
        "    spam( ham[ 0 ], { eggs: 2 } )\n",
        "\n",
        "# Call the functions\n",
        "good_example()\n",
        "bad_example()\n",
        "\n",
        "\n",
        "# Good\n",
        "def function_with_long_name(\n",
        "        parameter1, parameter2, parameter3, parameter4):\n",
        "  print(\"Hi\")\n",
        "# Bad - Exceeds 79 characters\n",
        "def function_with_long_name(parameter1, parameter2, parameter3, parameter4):\n",
        "  print(\"Hi\")"
      ],
      "metadata": {
        "colab": {
          "base_uri": "https://localhost:8080/"
        },
        "id": "CVGJ_6Yxwl7U",
        "outputId": "c0f75f23-052d-4275-8ddd-9faa59b07d45"
      },
      "execution_count": 96,
      "outputs": [
        {
          "output_type": "stream",
          "name": "stdout",
          "text": [
            "value1: 1, value2: {2: 2}\n",
            "value1: 1, value2: {2: 2}\n"
          ]
        }
      ]
    },
    {
      "cell_type": "code",
      "source": [
        "#Cell 14\n",
        "%%file testfile.txt\n",
        "Amy, cat\n",
        "Fred, dog\n",
        "Hunter, dog\n",
        "Peena, parakeet\n",
        "Rover, dog"
      ],
      "metadata": {
        "colab": {
          "base_uri": "https://localhost:8080/"
        },
        "id": "ZDFu-I9gxD4X",
        "outputId": "01b77961-9947-4412-892c-be3cdada0603"
      },
      "execution_count": 22,
      "outputs": [
        {
          "output_type": "stream",
          "name": "stdout",
          "text": [
            "Overwriting testfile.txt\n"
          ]
        }
      ]
    },
    {
      "cell_type": "code",
      "source": [
        "#Cell 15\n",
        "with open('testfile.txt', 'r') as file:\n",
        "    pet_data = [line.strip().split(', ') for line in file]\n",
        "\n",
        "pet_dict = dict(pet_data)\n",
        "print(pet_dict)\n",
        "pet_name = 'Fred'\n",
        "print(f'{pet_name} has a {pet_dict[pet_name]}')\n"
      ],
      "metadata": {
        "colab": {
          "base_uri": "https://localhost:8080/"
        },
        "id": "ULTzNtSUxMW5",
        "outputId": "9f21cfba-dfee-4494-9037-baf3bfa77854"
      },
      "execution_count": 23,
      "outputs": [
        {
          "output_type": "stream",
          "name": "stdout",
          "text": [
            "{'Amy': 'cat', 'Fred': 'dog', 'Hunter': 'dog', 'Peena': 'parakeet', 'Rover': 'dog'}\n",
            "Fred has a dog\n"
          ]
        }
      ]
    },
    {
      "cell_type": "code",
      "source": [
        "#Cell 16\n",
        "unique_pet_types = set(pet_dict.values())\n",
        "print(unique_pet_types)\n"
      ],
      "metadata": {
        "colab": {
          "base_uri": "https://localhost:8080/"
        },
        "id": "5ywETwsVxNoS",
        "outputId": "a4f6b127-df64-4917-9a4c-8e7845ceec98"
      },
      "execution_count": 24,
      "outputs": [
        {
          "output_type": "stream",
          "name": "stdout",
          "text": [
            "{'cat', 'parakeet', 'dog'}\n"
          ]
        }
      ]
    },
    {
      "cell_type": "code",
      "source": [
        "#Cell 17\n",
        "number = 80\n",
        "while number >= 16:\n",
        "    print(number)\n",
        "    number -= 8"
      ],
      "metadata": {
        "colab": {
          "base_uri": "https://localhost:8080/"
        },
        "id": "evIaWj7KxRev",
        "outputId": "7982b592-baa4-4572-b90b-b32734dac2bd"
      },
      "execution_count": 25,
      "outputs": [
        {
          "output_type": "stream",
          "name": "stdout",
          "text": [
            "80\n",
            "72\n",
            "64\n",
            "56\n",
            "48\n",
            "40\n",
            "32\n",
            "24\n",
            "16\n"
          ]
        }
      ]
    },
    {
      "cell_type": "code",
      "source": [
        "#Cell 18\n",
        "def min_max_sum_tuple(a, b, c):\n",
        "    return min(a, b, c), max(a, b, c), a + b + c\n",
        "\n",
        "result_tuple = min_max_sum_tuple(1, 2, 3)\n",
        "print(result_tuple)"
      ],
      "metadata": {
        "colab": {
          "base_uri": "https://localhost:8080/"
        },
        "id": "b7exrX_VxbtP",
        "outputId": "c1ccc416-6f93-409d-f530-f59fd1fd5d33"
      },
      "execution_count": 26,
      "outputs": [
        {
          "output_type": "stream",
          "name": "stdout",
          "text": [
            "(1, 3, 6)\n"
          ]
        }
      ]
    },
    {
      "cell_type": "code",
      "source": [
        "#Cell 19\n",
        "def min_max_sum_tuple_varargs(*numbers):\n",
        "    return min(numbers), max(numbers), sum(numbers)\n",
        "\n",
        "result_varargs = min_max_sum_tuple_varargs(1, 2, 3, 4, 5)\n",
        "print(result_varargs)"
      ],
      "metadata": {
        "colab": {
          "base_uri": "https://localhost:8080/"
        },
        "id": "wyDGyBH6xepA",
        "outputId": "06dccc0e-e9d1-4936-f6e5-8a7daa4551bf"
      },
      "execution_count": 27,
      "outputs": [
        {
          "output_type": "stream",
          "name": "stdout",
          "text": [
            "(1, 5, 15)\n"
          ]
        }
      ]
    },
    {
      "cell_type": "code",
      "source": [
        "#Cell 20\n",
        "def traceroo(func):\n",
        "    def newfunc(*args, **kwargs):\n",
        "        print(f'TRACEROO {func.__name__} {args} {kwargs}')\n",
        "        return func(*args, **kwargs)\n",
        "    return newfunc\n",
        "@traceroo\n",
        "def f1(a, b, c):\n",
        "  return a + b + c\n",
        "\n",
        "\n",
        "f1d = traceroo(f1)\n",
        "print(f1(3, 2, 1))\n",
        "print(f1d(3, 2, 1))\n",
        "\n",
        "@traceroo\n",
        "def f4():\n",
        "    print(\"Hi... I'm f4\")\n",
        "\n",
        "f4()"
      ],
      "metadata": {
        "colab": {
          "base_uri": "https://localhost:8080/"
        },
        "id": "DZvh5v0exhWg",
        "outputId": "bff20cc9-9730-4f1b-e332-1eff788f85a5"
      },
      "execution_count": 103,
      "outputs": [
        {
          "output_type": "stream",
          "name": "stdout",
          "text": [
            "TRACEROO f1 (3, 2, 1) {}\n",
            "6\n",
            "TRACEROO newfunc (3, 2, 1) {}\n",
            "TRACEROO f1 (3, 2, 1) {}\n",
            "6\n",
            "TRACEROO f4 () {}\n",
            "Hi... I'm f4\n"
          ]
        }
      ]
    },
    {
      "cell_type": "code",
      "source": [
        "#Cell 21\n",
        "class MyClass:\n",
        "    def __init__(self, value):\n",
        "        self.value = value\n",
        "\n",
        "    def __repr__(self):\n",
        "        return f'MyClass({self.value})'\n",
        "\n",
        "    def __str__(self):\n",
        "        return f'This is an instance of MyClass with value {self.value}'\n",
        "\n",
        "    def __add__(self, other):\n",
        "        return MyClass(self.value + other.value)\n",
        "\n",
        "obj1 = MyClass(5)\n",
        "obj2 = MyClass(10)\n",
        "print(obj1)\n",
        "print(obj2)\n",
        "print(obj1 + obj2)\n"
      ],
      "metadata": {
        "colab": {
          "base_uri": "https://localhost:8080/"
        },
        "id": "DkXqO8baxmzZ",
        "outputId": "d28958d6-30ef-4d91-8a96-5e82c2bc948a"
      },
      "execution_count": 29,
      "outputs": [
        {
          "output_type": "stream",
          "name": "stdout",
          "text": [
            "This is an instance of MyClass with value 5\n",
            "This is an instance of MyClass with value 10\n",
            "This is an instance of MyClass with value 15\n"
          ]
        }
      ]
    },
    {
      "cell_type": "code",
      "source": [
        "#Cell 22\n",
        "import math\n",
        "\n",
        "def find_birthdate_in_pi(birthdate, pi_digits):\n",
        "    birthdate_str = str(birthdate)\n",
        "    pi_digits_str = str(pi_digits)\n",
        "\n",
        "    index = pi_digits_str.find(birthdate_str)\n",
        "    return index\n",
        "\n",
        "\n",
        "pi_decimal_places = format(math.pi, '.2140000000f')\n",
        "\n",
        "\n",
        "birthdate_search_result = find_birthdate_in_pi(\"3112\", pi_decimal_places)\n",
        "\n",
        "if birthdate_search_result != -1:\n",
        "    print(\"Birth date found at position:\", birthdate_search_result)\n",
        "else:\n",
        "    print(\"Birth date not found in the decimal places of pi.\")\n"
      ],
      "metadata": {
        "colab": {
          "base_uri": "https://localhost:8080/"
        },
        "id": "-hkrIwdPxs3q",
        "outputId": "2ba91af3-0940-4ab7-d64a-fd715928697a"
      },
      "execution_count": 97,
      "outputs": [
        {
          "output_type": "stream",
          "name": "stdout",
          "text": [
            "Birth date not found in the decimal places of pi.\n"
          ]
        }
      ]
    },
    {
      "cell_type": "markdown",
      "source": [
        "final_functions.py"
      ],
      "metadata": {
        "id": "LEoq1tC52jhy"
      }
    },
    {
      "cell_type": "code",
      "source": [
        "\n",
        "%%file final_functions.py\n",
        "import math\n",
        "from mpmath import mp\n",
        "\n",
        "def sieve_of_eratosthenes(limit):\n",
        "    primes = []\n",
        "    is_prime = [True] * (limit + 1)\n",
        "    is_prime[0] = is_prime[1] = False\n",
        "\n",
        "    for number in range(2, int(limit**0.5) + 1):\n",
        "        if is_prime[number]:\n",
        "            primes.append(number)\n",
        "            for multiple in range(number * number, limit + 1, number):\n",
        "                is_prime[multiple] = False\n",
        "\n",
        "    for number in range(int(limit**0.5) + 1, limit + 1):\n",
        "        if is_prime[number]:\n",
        "            primes.append(number)\n",
        "\n",
        "    return primes\n",
        "\n",
        "def sieve_of_eratosthenes_generator(limit):\n",
        "    is_prime = [True] * (limit + 1)\n",
        "    is_prime[0] = is_prime[1] = False\n",
        "\n",
        "    for number in range(2, int(limit**0.5) + 1):\n",
        "        if is_prime[number]:\n",
        "            yield number\n",
        "            for multiple in range(number * number, limit + 1, number):\n",
        "                is_prime[multiple] = False\n",
        "\n",
        "    for number in range(int(limit**0.5) + 1, limit + 1):\n",
        "        if is_prime[number]:\n",
        "            yield number\n",
        "\n",
        "def get_pi_with_precision(precision):\n",
        "    mp.dps = precision\n",
        "    return mp.pi\n"
      ],
      "metadata": {
        "colab": {
          "base_uri": "https://localhost:8080/"
        },
        "id": "Xyux71VT2fUf",
        "outputId": "fddb30a1-cf23-4cbb-8045-99a77124977d"
      },
      "execution_count": 89,
      "outputs": [
        {
          "output_type": "stream",
          "name": "stdout",
          "text": [
            "Overwriting final_functions.py\n"
          ]
        }
      ]
    },
    {
      "cell_type": "code",
      "source": [
        "!python final_functions.py"
      ],
      "metadata": {
        "id": "cHXPu9Hd384a"
      },
      "execution_count": 90,
      "outputs": []
    },
    {
      "cell_type": "markdown",
      "source": [
        "final.py"
      ],
      "metadata": {
        "id": "mdoOCmQJ2nB8"
      }
    },
    {
      "cell_type": "code",
      "source": [
        "\n",
        "%%file final.py\n",
        "\n",
        "from final_functions import sieve_of_eratosthenes, sieve_of_eratosthenes_generator, get_pi_with_precision\n",
        "\n",
        "\n",
        "primes_up_to_10 = sieve_of_eratosthenes(10)\n",
        "print(\"Primes up to 10:\", primes_up_to_10)\n",
        "\n",
        "my_prime_generator = sieve_of_eratosthenes_generator(30)\n",
        "print(\"Primes generated using generator:\", list(my_prime_generator))\n",
        "\n",
        "pi_with_precision_50 = get_pi_with_precision(50)\n",
        "print(\"Pi with precision 50:\", pi_with_precision_50)\n"
      ],
      "metadata": {
        "colab": {
          "base_uri": "https://localhost:8080/"
        },
        "id": "PgFWAG8w2mli",
        "outputId": "f75b7065-4de7-45af-c68d-c40b8f485fca"
      },
      "execution_count": 87,
      "outputs": [
        {
          "output_type": "stream",
          "name": "stdout",
          "text": [
            "Overwriting final.py\n"
          ]
        }
      ]
    },
    {
      "cell_type": "code",
      "source": [
        "!python final.py"
      ],
      "metadata": {
        "colab": {
          "base_uri": "https://localhost:8080/"
        },
        "id": "FbgTZ5dU4E9I",
        "outputId": "0398a73f-0ecf-4a35-eed1-544243588459"
      },
      "execution_count": 88,
      "outputs": [
        {
          "output_type": "stream",
          "name": "stdout",
          "text": [
            "Primes up to 10: [3, 4, 6, 8, 10]\n",
            "Primes generated using generator: [2, 3, 5, 7, 11, 13, 17, 19, 23, 29]\n",
            "Pi with precision 50: 3.1415926535897932384626433832795028841971693993751\n"
          ]
        }
      ]
    },
    {
      "cell_type": "markdown",
      "source": [
        "test_final.py\n"
      ],
      "metadata": {
        "id": "ety8hpq_2prN"
      }
    },
    {
      "cell_type": "code",
      "source": [
        "\n",
        "%%file test_final.py\n",
        "\n",
        "from final_functions import sieve_of_eratosthenes, sieve_of_eratosthenes_generator, get_pi_with_precision\n",
        "\n",
        "def test_sieve_of_eratosthenes():\n",
        "    primes_up_to_10 = sieve_of_eratosthenes(10)\n",
        "    assert primes_up_to_10 == [2, 3, 5, 7]\n",
        "\n",
        "def test_sieve_of_eratosthenes_generator():\n",
        "    my_prime_generator = sieve_of_eratosthenes_generator(30)\n",
        "    primes_generated = list(my_prime_generator)\n",
        "    assert primes_generated == [2, 3, 5, 7, 11, 13, 17, 19, 23, 29]\n",
        "\n",
        "def test_get_pi_with_precision():\n",
        "    pi_with_precision_50 = get_pi_with_precision(50)\n",
        "    assert str(pi_with_precision_50)[:10] == '3.14159265'\n"
      ],
      "metadata": {
        "colab": {
          "base_uri": "https://localhost:8080/"
        },
        "id": "RGM2D0hs2p3s",
        "outputId": "14926351-5c57-4181-8323-29d3d4f478a5"
      },
      "execution_count": 79,
      "outputs": [
        {
          "output_type": "stream",
          "name": "stdout",
          "text": [
            "Writing test_final.py\n"
          ]
        }
      ]
    },
    {
      "cell_type": "code",
      "source": [
        "!pytest test_final.py"
      ],
      "metadata": {
        "colab": {
          "base_uri": "https://localhost:8080/"
        },
        "id": "dI6NCBcj4MgV",
        "outputId": "468d9ed0-5d52-40ca-c803-c1cdcb8d1be4"
      },
      "execution_count": 81,
      "outputs": [
        {
          "output_type": "stream",
          "name": "stdout",
          "text": [
            "\u001b[1m======================================= test session starts ========================================\u001b[0m\n",
            "platform linux -- Python 3.10.12, pytest-7.4.3, pluggy-1.3.0\n",
            "rootdir: /content\n",
            "plugins: anyio-3.7.1\n",
            "\u001b[1mcollecting ... \u001b[0m\u001b[1m\rcollected 3 items                                                                                  \u001b[0m\n",
            "\n",
            "test_final.py \u001b[32m.\u001b[0m\u001b[32m.\u001b[0m\u001b[32m.\u001b[0m\u001b[32m                                                                            [100%]\u001b[0m\n",
            "\n",
            "\u001b[32m======================================== \u001b[32m\u001b[1m3 passed\u001b[0m\u001b[32m in 0.04s\u001b[0m\u001b[32m =========================================\u001b[0m\n"
          ]
        }
      ]
    },
    {
      "cell_type": "markdown",
      "source": [
        "bug"
      ],
      "metadata": {
        "id": "auA0poIo3PcG"
      }
    },
    {
      "cell_type": "code",
      "source": [
        "\n",
        "%%file final_functions.py\n",
        "import math\n",
        "from mpmath import mp\n",
        "\n",
        "def sieve_of_eratosthenes(limit):\n",
        "    primes = []\n",
        "    is_prime = [True] * (limit + 1)\n",
        "    is_prime[0] = is_prime[1] = False\n",
        "\n",
        "    for number in range(3, int(limit**0.5) + 1, 2):\n",
        "        if is_prime[number]:\n",
        "            primes.append(number)\n",
        "            for multiple in range(number * number, limit + 1, number * 2):\n",
        "                is_prime[multiple] = False\n",
        "\n",
        "    for number in range(int(limit**0.5) + 1, limit + 1, 2):\n",
        "        if is_prime[number]:\n",
        "            primes.append(number)\n",
        "\n",
        "    return primes\n",
        "\n",
        "def sieve_of_eratosthenes_generator(limit):\n",
        "    is_prime = [True] * (limit + 1)\n",
        "    is_prime[0] = is_prime[1] = False\n",
        "\n",
        "    for number in range(2, int(limit**0.5) + 1):\n",
        "        if is_prime[number]:\n",
        "            yield number\n",
        "            for multiple in range(number * number, limit + 1, number):\n",
        "                is_prime[multiple] = False\n",
        "\n",
        "    for number in range(int(limit**0.5) + 1, limit + 1):\n",
        "        if is_prime[number]:\n",
        "            yield number\n",
        "\n",
        "def get_pi_with_precision(precision):\n",
        "    mp.dps = precision\n",
        "    return mp.pi\n"
      ],
      "metadata": {
        "colab": {
          "base_uri": "https://localhost:8080/"
        },
        "id": "FMDI2A9h3NH8",
        "outputId": "0c8157d9-039c-436c-d59c-b9ed7359abf8"
      },
      "execution_count": 82,
      "outputs": [
        {
          "output_type": "stream",
          "name": "stdout",
          "text": [
            "Overwriting final_functions.py\n"
          ]
        }
      ]
    },
    {
      "cell_type": "code",
      "source": [
        "!python final_functions.py"
      ],
      "metadata": {
        "id": "Qmrmzgzm4bC_"
      },
      "execution_count": 85,
      "outputs": []
    },
    {
      "cell_type": "code",
      "source": [
        "!pytest test_final.py"
      ],
      "metadata": {
        "colab": {
          "base_uri": "https://localhost:8080/"
        },
        "id": "Ub5fL1aK4t0l",
        "outputId": "51e65518-e84d-4f7c-b704-e737f1f7fde4"
      },
      "execution_count": 86,
      "outputs": [
        {
          "output_type": "stream",
          "name": "stdout",
          "text": [
            "\u001b[1m======================================= test session starts ========================================\u001b[0m\n",
            "platform linux -- Python 3.10.12, pytest-7.4.3, pluggy-1.3.0\n",
            "rootdir: /content\n",
            "plugins: anyio-3.7.1\n",
            "\u001b[1mcollecting ... \u001b[0m\u001b[1m\rcollected 3 items                                                                                  \u001b[0m\n",
            "\n",
            "test_final.py \u001b[31mF\u001b[0m\u001b[32m.\u001b[0m\u001b[32m.\u001b[0m\u001b[31m                                                                            [100%]\u001b[0m\n",
            "\n",
            "============================================= FAILURES =============================================\n",
            "\u001b[31m\u001b[1m____________________________________ test_sieve_of_eratosthenes ____________________________________\u001b[0m\n",
            "\n",
            "    \u001b[94mdef\u001b[39;49;00m \u001b[92mtest_sieve_of_eratosthenes\u001b[39;49;00m():\u001b[90m\u001b[39;49;00m\n",
            "        primes_up_to_10 = sieve_of_eratosthenes(\u001b[94m10\u001b[39;49;00m)\u001b[90m\u001b[39;49;00m\n",
            ">       \u001b[94massert\u001b[39;49;00m primes_up_to_10 == [\u001b[94m2\u001b[39;49;00m, \u001b[94m3\u001b[39;49;00m, \u001b[94m5\u001b[39;49;00m, \u001b[94m7\u001b[39;49;00m]\u001b[90m\u001b[39;49;00m\n",
            "\u001b[1m\u001b[31mE       assert [3, 4, 6, 8, 10] == [2, 3, 5, 7]\u001b[0m\n",
            "\u001b[1m\u001b[31mE         At index 0 diff: 3 != 2\u001b[0m\n",
            "\u001b[1m\u001b[31mE         Left contains one more item: 10\u001b[0m\n",
            "\u001b[1m\u001b[31mE         Use -v to get more diff\u001b[0m\n",
            "\n",
            "\u001b[1m\u001b[31mtest_final.py\u001b[0m:6: AssertionError\n",
            "\u001b[36m\u001b[1m===================================== short test summary info ======================================\u001b[0m\n",
            "\u001b[31mFAILED\u001b[0m test_final.py::\u001b[1mtest_sieve_of_eratosthenes\u001b[0m - assert [3, 4, 6, 8, 10] == [2, 3, 5, 7]\n",
            "\u001b[31m=================================== \u001b[31m\u001b[1m1 failed\u001b[0m, \u001b[32m2 passed\u001b[0m\u001b[31m in 0.20s\u001b[0m\u001b[31m ====================================\u001b[0m\n"
          ]
        }
      ]
    }
  ]
}