{
  "nbformat": 4,
  "nbformat_minor": 0,
  "metadata": {
    "colab": {
      "provenance": [],
      "authorship_tag": "ABX9TyPrV/gaGdi+Ji8p7CKlc59t",
      "include_colab_link": true
    },
    "kernelspec": {
      "name": "python3",
      "display_name": "Python 3"
    },
    "language_info": {
      "name": "python"
    }
  },
  "cells": [
    {
      "cell_type": "markdown",
      "metadata": {
        "id": "view-in-github",
        "colab_type": "text"
      },
      "source": [
        "<a href=\"https://colab.research.google.com/github/arath005/CSC221_arath005/blob/main/Assignment16.ipynb\" target=\"_parent\"><img src=\"https://colab.research.google.com/assets/colab-badge.svg\" alt=\"Open In Colab\"/></a>"
      ]
    },
    {
      "cell_type": "markdown",
      "source": [
        "1.1"
      ],
      "metadata": {
        "id": "l1iwcL4lQvlO"
      }
    },
    {
      "cell_type": "markdown",
      "source": [
        "There are many different ways to run python, some use idle, some vscode, some colab.\n",
        "You can use code to print out simple stuff or do simple math problems(when your starting out)"
      ],
      "metadata": {
        "id": "TQoqaGIRRa-s"
      }
    },
    {
      "cell_type": "code",
      "execution_count": 2,
      "metadata": {
        "colab": {
          "base_uri": "https://localhost:8080/"
        },
        "id": "m8atLWK4Qcje",
        "outputId": "c7a827b9-74ee-4095-b108-0e4f79bba47f"
      },
      "outputs": [
        {
          "output_type": "stream",
          "name": "stdout",
          "text": [
            "hello World\n"
          ]
        }
      ],
      "source": [
        "print(\"hello World\")"
      ]
    },
    {
      "cell_type": "code",
      "source": [
        "378 + 8374"
      ],
      "metadata": {
        "colab": {
          "base_uri": "https://localhost:8080/"
        },
        "id": "pXdJcAggRsPK",
        "outputId": "1c12e802-ff7f-46ce-b153-4fb0083d06f0"
      },
      "execution_count": 3,
      "outputs": [
        {
          "output_type": "execute_result",
          "data": {
            "text/plain": [
              "8752"
            ]
          },
          "metadata": {},
          "execution_count": 3
        }
      ]
    },
    {
      "cell_type": "markdown",
      "source": [
        "1.2"
      ],
      "metadata": {
        "id": "eLXKRTmrR513"
      }
    },
    {
      "cell_type": "markdown",
      "source": [
        "you can call a .py file to run it directly too"
      ],
      "metadata": {
        "id": "kjzA076kSLyc"
      }
    },
    {
      "cell_type": "code",
      "source": [
        "python3 hello.py"
      ],
      "metadata": {
        "colab": {
          "base_uri": "https://localhost:8080/",
          "height": 179
        },
        "id": "jdAEg6duRuEJ",
        "outputId": "10009554-1dea-478c-c89a-bc2ce210dd19"
      },
      "execution_count": 5,
      "outputs": [
        {
          "output_type": "error",
          "ename": "NameError",
          "evalue": "ignored",
          "traceback": [
            "\u001b[0;31m---------------------------------------------------------------------------\u001b[0m",
            "\u001b[0;31mNameError\u001b[0m                                 Traceback (most recent call last)",
            "\u001b[0;32m<ipython-input-5-5edae8ee871d>\u001b[0m in \u001b[0;36m<cell line: 1>\u001b[0;34m()\u001b[0m\n\u001b[0;32m----> 1\u001b[0;31m \u001b[0mhello\u001b[0m\u001b[0;34m.\u001b[0m\u001b[0mpy\u001b[0m\u001b[0;34m\u001b[0m\u001b[0;34m\u001b[0m\u001b[0m\n\u001b[0m",
            "\u001b[0;31mNameError\u001b[0m: name 'hello' is not defined"
          ]
        }
      ]
    },
    {
      "cell_type": "markdown",
      "source": [
        "this doesnt work on here but u get my point"
      ],
      "metadata": {
        "id": "FcGHf_WZSVM7"
      }
    },
    {
      "cell_type": "markdown",
      "source": [
        "1.3"
      ],
      "metadata": {
        "id": "DaS06v93SYeB"
      }
    },
    {
      "cell_type": "markdown",
      "source": [
        "you can make variable and set them equal to almost anything"
      ],
      "metadata": {
        "id": "sEbCNzC7Scl-"
      }
    },
    {
      "cell_type": "code",
      "source": [
        "x = 81\n",
        "32 + x"
      ],
      "metadata": {
        "colab": {
          "base_uri": "https://localhost:8080/"
        },
        "id": "NNiMv3GqSho2",
        "outputId": "28bb1a95-f5a7-444f-f3b1-41aab08fd99a"
      },
      "execution_count": 6,
      "outputs": [
        {
          "output_type": "execute_result",
          "data": {
            "text/plain": [
              "113"
            ]
          },
          "metadata": {},
          "execution_count": 6
        }
      ]
    },
    {
      "cell_type": "code",
      "source": [
        "hav = 180\n",
        "hab = 82\n",
        "e = 1\n",
        "hav + hab - e"
      ],
      "metadata": {
        "colab": {
          "base_uri": "https://localhost:8080/"
        },
        "id": "c7n34KDMSsQz",
        "outputId": "6957e52a-7fae-4594-b4fe-8a2f98f775df"
      },
      "execution_count": 7,
      "outputs": [
        {
          "output_type": "execute_result",
          "data": {
            "text/plain": [
              "261"
            ]
          },
          "metadata": {},
          "execution_count": 7
        }
      ]
    },
    {
      "cell_type": "markdown",
      "source": [
        "1.4"
      ],
      "metadata": {
        "id": "gRSr43QuS8w0"
      }
    },
    {
      "cell_type": "markdown",
      "source": [
        "math, you can do math in python usinfg simple operations"
      ],
      "metadata": {
        "id": "zBD6f_W2S_N-"
      }
    },
    {
      "cell_type": "code",
      "source": [
        "xx = x + x\n",
        "xz = hav + hab\n",
        "print(xx)\n",
        "print(xz)\n",
        "if x > 1:\n",
        "  print('yes')\n",
        "elif x < 1:\n",
        "  print ('no')"
      ],
      "metadata": {
        "colab": {
          "base_uri": "https://localhost:8080/"
        },
        "id": "jw2HoLy7S_DD",
        "outputId": "dc465982-8916-4cb7-a5fa-82ecf6830020"
      },
      "execution_count": 12,
      "outputs": [
        {
          "output_type": "stream",
          "name": "stdout",
          "text": [
            "162\n",
            "262\n",
            "yes\n"
          ]
        }
      ]
    },
    {
      "cell_type": "markdown",
      "source": [
        "this also moves into and, or and not respectively"
      ],
      "metadata": {
        "id": "2gu2UHrWT1BK"
      }
    },
    {
      "cell_type": "markdown",
      "source": [
        "1.5"
      ],
      "metadata": {
        "id": "8OkTmhiUT7j-"
      }
    },
    {
      "cell_type": "markdown",
      "source": [
        "conditional statements are played only if the condition is met"
      ],
      "metadata": {
        "id": "1stjeNxCT-T2"
      }
    },
    {
      "cell_type": "code",
      "source": [
        "if x > 1:\n",
        "  print('yes')\n",
        "elif x < 1:\n",
        "  print ('no')"
      ],
      "metadata": {
        "colab": {
          "base_uri": "https://localhost:8080/"
        },
        "id": "4RhHoILaUEJ1",
        "outputId": "fc808eeb-f009-4a2c-cbcd-71820f0d87fc"
      },
      "execution_count": 13,
      "outputs": [
        {
          "output_type": "stream",
          "name": "stdout",
          "text": [
            "yes\n"
          ]
        }
      ]
    },
    {
      "cell_type": "markdown",
      "source": [
        "1.6"
      ],
      "metadata": {
        "id": "lByMB9yDUK8I"
      }
    },
    {
      "cell_type": "markdown",
      "source": [
        "text strings a sring of text which can be numbers or letters.\n",
        "You can manipulate them using certian commands"
      ],
      "metadata": {
        "id": "xMkvXTapUMUh"
      }
    },
    {
      "cell_type": "code",
      "source": [
        "x = \"12\"\n",
        "y = \"32\"\n",
        "x + y"
      ],
      "metadata": {
        "colab": {
          "base_uri": "https://localhost:8080/",
          "height": 35
        },
        "id": "75jvmlwvUfO4",
        "outputId": "181639d9-5976-45e6-d943-8e3738ff5243"
      },
      "execution_count": 14,
      "outputs": [
        {
          "output_type": "execute_result",
          "data": {
            "text/plain": [
              "'1232'"
            ],
            "application/vnd.google.colaboratory.intrinsic+json": {
              "type": "string"
            }
          },
          "metadata": {},
          "execution_count": 14
        }
      ]
    },
    {
      "cell_type": "markdown",
      "source": [
        "1.7 file input and output"
      ],
      "metadata": {
        "id": "BfApfMxIUnFH"
      }
    },
    {
      "cell_type": "markdown",
      "source": [
        "You can use files and look =into them and manipulate them\n",
        "example below"
      ],
      "metadata": {
        "id": "4zApQ0UPUoBw"
      }
    },
    {
      "cell_type": "code",
      "source": [
        "with open('file.txt') as file:\n",
        "  for line in file:\n",
        "    print(line, end='')"
      ],
      "metadata": {
        "colab": {
          "base_uri": "https://localhost:8080/",
          "height": 214
        },
        "id": "zJDECjLUU_Nk",
        "outputId": "08bdccb0-ddc9-47e9-db62-7895ece65ca0"
      },
      "execution_count": 23,
      "outputs": [
        {
          "output_type": "error",
          "ename": "FileNotFoundError",
          "evalue": "ignored",
          "traceback": [
            "\u001b[0;31m---------------------------------------------------------------------------\u001b[0m",
            "\u001b[0;31mFileNotFoundError\u001b[0m                         Traceback (most recent call last)",
            "\u001b[0;32m<ipython-input-23-92b853ddbd5e>\u001b[0m in \u001b[0;36m<cell line: 1>\u001b[0;34m()\u001b[0m\n\u001b[0;32m----> 1\u001b[0;31m \u001b[0;32mwith\u001b[0m \u001b[0mopen\u001b[0m\u001b[0;34m(\u001b[0m\u001b[0;34m'file.txt'\u001b[0m\u001b[0;34m)\u001b[0m \u001b[0;32mas\u001b[0m \u001b[0mfile\u001b[0m\u001b[0;34m:\u001b[0m\u001b[0;34m\u001b[0m\u001b[0;34m\u001b[0m\u001b[0m\n\u001b[0m\u001b[1;32m      2\u001b[0m   \u001b[0;32mfor\u001b[0m \u001b[0mline\u001b[0m \u001b[0;32min\u001b[0m \u001b[0mfile\u001b[0m\u001b[0;34m:\u001b[0m\u001b[0;34m\u001b[0m\u001b[0;34m\u001b[0m\u001b[0m\n\u001b[1;32m      3\u001b[0m     \u001b[0mprint\u001b[0m\u001b[0;34m(\u001b[0m\u001b[0mline\u001b[0m\u001b[0;34m,\u001b[0m \u001b[0mend\u001b[0m\u001b[0;34m=\u001b[0m\u001b[0;34m''\u001b[0m\u001b[0;34m)\u001b[0m\u001b[0;34m\u001b[0m\u001b[0;34m\u001b[0m\u001b[0m\n",
            "\u001b[0;31mFileNotFoundError\u001b[0m: [Errno 2] No such file or directory: 'file.txt'"
          ]
        }
      ]
    },
    {
      "cell_type": "markdown",
      "source": [
        "1.8 Lists"
      ],
      "metadata": {
        "id": "EoNM29soVbES"
      }
    },
    {
      "cell_type": "markdown",
      "source": [
        "lists are basically a folder that you can put stuff in like names"
      ],
      "metadata": {
        "id": "LzImRms5Vdww"
      }
    },
    {
      "cell_type": "code",
      "source": [
        "names = ['alex', 'gabby', 'ned', 'jake']\n",
        "a = names[2]\n",
        "names[2] = 'gab'\n",
        "print(names[-1])"
      ],
      "metadata": {
        "colab": {
          "base_uri": "https://localhost:8080/"
        },
        "id": "8h0QF0X5Vd9P",
        "outputId": "b89df356-db01-4ab4-ea9b-0a1e8a34d7a3"
      },
      "execution_count": 26,
      "outputs": [
        {
          "output_type": "stream",
          "name": "stdout",
          "text": [
            "jake\n"
          ]
        }
      ]
    },
    {
      "cell_type": "markdown",
      "source": [
        "you have commands like .append and .insert\n",
        "you can also have it write each individual letter"
      ],
      "metadata": {
        "id": "vtaTJg91WJ4k"
      }
    },
    {
      "cell_type": "code",
      "source": [
        "letters = list('alex')\n",
        "print(letters)"
      ],
      "metadata": {
        "colab": {
          "base_uri": "https://localhost:8080/"
        },
        "id": "a6A4IgrJWWl8",
        "outputId": "a45eee75-520a-4252-eae0-ea760a9a62fa"
      },
      "execution_count": 28,
      "outputs": [
        {
          "output_type": "stream",
          "name": "stdout",
          "text": [
            "['a', 'l', 'e', 'x']\n"
          ]
        }
      ]
    },
    {
      "cell_type": "markdown",
      "source": [
        "1.9 Tuples"
      ],
      "metadata": {
        "id": "qqMRcFgEWilo"
      }
    },
    {
      "cell_type": "markdown",
      "source": [
        "Tuples are used to store multiple items in a single variable. Tuple is one of 4 built-in data types in Python used to store collections of data, the other 3 are List, Set, and Dictionary, all with different qualities and usage. A tuple is a collection which is ordered and unchangeable."
      ],
      "metadata": {
        "id": "edcsd8YMW1fH"
      }
    },
    {
      "cell_type": "code",
      "source": [
        "fruits = (\"apple\", \"banana\", \"cherry\")"
      ],
      "metadata": {
        "id": "J0SrpLvpWkzM"
      },
      "execution_count": 30,
      "outputs": []
    },
    {
      "cell_type": "code",
      "source": [
        "first_fruit = fruits[0]\n",
        "second_fruit = fruits[1]"
      ],
      "metadata": {
        "id": "UnGeC-EgXGEU"
      },
      "execution_count": 31,
      "outputs": []
    },
    {
      "cell_type": "code",
      "source": [
        "fruit1, fruit2, fruit3 = fruits\n",
        "print(fruit1)\n",
        "print(fruit2)\n",
        "print(fruit3)"
      ],
      "metadata": {
        "colab": {
          "base_uri": "https://localhost:8080/"
        },
        "id": "zfs5kv09XKyd",
        "outputId": "fb7503e6-99bb-47b2-b6fa-ad05577dfd00"
      },
      "execution_count": 32,
      "outputs": [
        {
          "output_type": "stream",
          "name": "stdout",
          "text": [
            "apple\n",
            "banana\n",
            "cherry\n"
          ]
        }
      ]
    },
    {
      "cell_type": "markdown",
      "source": [
        "1.10 sets"
      ],
      "metadata": {
        "id": "k6X3mSHgXYeS"
      }
    },
    {
      "cell_type": "markdown",
      "source": [
        "A set is an unordered collection of unique objects you can add stuff to them or take stuff out. you can combine them or sepparate them"
      ],
      "metadata": {
        "id": "e2iejq_-Xz8f"
      }
    },
    {
      "cell_type": "code",
      "source": [
        "my_set = {1, 2, 3}\n",
        "empty_set = set()"
      ],
      "metadata": {
        "id": "pdN8Rc7dXatd"
      },
      "execution_count": 33,
      "outputs": []
    },
    {
      "cell_type": "code",
      "source": [
        "my_set.add(4)\n",
        "my_set.remove(2)\n",
        "my_set.discard(5)"
      ],
      "metadata": {
        "id": "qn1ICwfGXc43"
      },
      "execution_count": 34,
      "outputs": []
    },
    {
      "cell_type": "code",
      "source": [
        "set1 = {1, 2, 3}\n",
        "set2 = {3, 4, 5}\n",
        "union_set = set1.union(set2)\n",
        "intersection_set = set1.intersection(set2)\n",
        "difference_set = set1.difference(set2)"
      ],
      "metadata": {
        "id": "3uY7UDL1Xg_l"
      },
      "execution_count": 38,
      "outputs": []
    },
    {
      "cell_type": "code",
      "source": [
        "my_set = {1, 2, 3}\n",
        "for item in my_set:\n",
        "    print(item)"
      ],
      "metadata": {
        "colab": {
          "base_uri": "https://localhost:8080/"
        },
        "id": "0OncUrK7Xj1d",
        "outputId": "9956cade-a8db-471c-8cbd-ec8a009fa242"
      },
      "execution_count": 36,
      "outputs": [
        {
          "output_type": "stream",
          "name": "stdout",
          "text": [
            "1\n",
            "2\n",
            "3\n"
          ]
        }
      ]
    },
    {
      "cell_type": "markdown",
      "source": [
        "1.11 Dictionaries"
      ],
      "metadata": {
        "id": "uZiX5c3MYCdH"
      }
    },
    {
      "cell_type": "markdown",
      "source": [
        "Dictionaries in Python are incredibly useful for organizing and managing key-value data. You can easily access, modify, and iterate through the elements, making them a powerful tool for a wide range of tasks."
      ],
      "metadata": {
        "id": "21JXnylBYofh"
      }
    },
    {
      "cell_type": "code",
      "source": [
        "my_dict = {\"name\": \"John\", \"age\": 30, \"city\": \"New York\"}\n",
        "\n",
        "name = my_dict[\"name\"]\n",
        "age = my_dict.get(\"age\", 25)\n",
        "\n",
        "my_dict[\"age\"] = 31\n",
        "my_dict[\"country\"] = \"USA\"\n",
        "\n",
        "del my_dict[\"city\"]\n",
        "country = my_dict.pop(\"country\")\n",
        "\n",
        "for key, value in my_dict.items():\n",
        "    print(key, value)\n"
      ],
      "metadata": {
        "colab": {
          "base_uri": "https://localhost:8080/"
        },
        "id": "jcpKg0NcYPNP",
        "outputId": "6efd54d9-47d4-4594-9b54-60a007792c86"
      },
      "execution_count": 40,
      "outputs": [
        {
          "output_type": "stream",
          "name": "stdout",
          "text": [
            "name John\n",
            "age 31\n"
          ]
        }
      ]
    },
    {
      "cell_type": "markdown",
      "source": [
        "1.12 iteration and looping"
      ],
      "metadata": {
        "id": "tY1porJvYqPS"
      }
    },
    {
      "cell_type": "markdown",
      "source": [
        "There are many ways to loop in python"
      ],
      "metadata": {
        "id": "0EfDZeB6Yu7a"
      }
    },
    {
      "cell_type": "code",
      "source": [
        "hi = 'hello'\n",
        "for i in hi:\n",
        "  print('hey')"
      ],
      "metadata": {
        "colab": {
          "base_uri": "https://localhost:8080/"
        },
        "id": "9WDAH7vQZamF",
        "outputId": "a64dbd9a-b6cb-485f-85d6-0d07d3a0979a"
      },
      "execution_count": 45,
      "outputs": [
        {
          "output_type": "stream",
          "name": "stdout",
          "text": [
            "hey\n",
            "hey\n",
            "hey\n",
            "hey\n",
            "hey\n"
          ]
        }
      ]
    },
    {
      "cell_type": "code",
      "source": [
        "for i in range(1,4):\n",
        "  print(\"hi\")"
      ],
      "metadata": {
        "colab": {
          "base_uri": "https://localhost:8080/"
        },
        "id": "EJk67SHcY5Ky",
        "outputId": "660f5930-ce53-47d2-c677-c926bd5402c3"
      },
      "execution_count": 43,
      "outputs": [
        {
          "output_type": "stream",
          "name": "stdout",
          "text": [
            "hi\n",
            "hi\n",
            "hi\n"
          ]
        }
      ]
    },
    {
      "cell_type": "code",
      "source": [
        "x = 0\n",
        "while True:\n",
        "  print('hi')\n",
        "  x = x + 1\n",
        "  if x == 10:\n",
        "    break"
      ],
      "metadata": {
        "colab": {
          "base_uri": "https://localhost:8080/"
        },
        "id": "htX2cOB_ZAoc",
        "outputId": "a089ac2c-f546-4495-88f3-57579665924e"
      },
      "execution_count": 44,
      "outputs": [
        {
          "output_type": "stream",
          "name": "stdout",
          "text": [
            "hi\n",
            "hi\n",
            "hi\n",
            "hi\n",
            "hi\n",
            "hi\n",
            "hi\n",
            "hi\n",
            "hi\n",
            "hi\n"
          ]
        }
      ]
    },
    {
      "cell_type": "markdown",
      "source": [
        "1.13 function"
      ],
      "metadata": {
        "id": "D2rhrwcoZnpu"
      }
    },
    {
      "cell_type": "markdown",
      "source": [
        "functions are things you can call"
      ],
      "metadata": {
        "id": "7yWfGfE_ZrK0"
      }
    },
    {
      "cell_type": "code",
      "source": [
        "def math(x, y):\n",
        "  return x + y"
      ],
      "metadata": {
        "id": "WPRDKhs7Zt7v"
      },
      "execution_count": 46,
      "outputs": []
    },
    {
      "cell_type": "code",
      "source": [
        "math(23, 43)"
      ],
      "metadata": {
        "colab": {
          "base_uri": "https://localhost:8080/"
        },
        "id": "isIRDbU_Z5wP",
        "outputId": "ab33762d-0327-47ee-e0c0-a7b7a30603ee"
      },
      "execution_count": 47,
      "outputs": [
        {
          "output_type": "execute_result",
          "data": {
            "text/plain": [
              "66"
            ]
          },
          "metadata": {},
          "execution_count": 47
        }
      ]
    },
    {
      "cell_type": "markdown",
      "source": [
        "1.14 exceptions"
      ],
      "metadata": {
        "id": "UtNzTGFDZ-kL"
      }
    },
    {
      "cell_type": "markdown",
      "source": [
        "Exceptions in Python are used to handle unexpected events and errors during program execution. You can use try and except blocks to catch and manage exceptions, preventing crashes. Python has a hierarchy of built-in exception types and allows you to create custom exceptions. It's important to provide informative error messages and follow best practices when handling exceptions."
      ],
      "metadata": {
        "id": "Txh7nZcKaTKa"
      }
    },
    {
      "cell_type": "code",
      "source": [
        "try:\n",
        "    x = 10 / 0\n",
        "except ZeroDivisionError:\n",
        "    print(\"Error: Division by zero\")\n",
        "else:\n",
        "    print(\"No exception occurred\")\n",
        "finally:\n",
        "    print(\"Finally block executed\")\n"
      ],
      "metadata": {
        "colab": {
          "base_uri": "https://localhost:8080/"
        },
        "id": "S5GxJawJaA4g",
        "outputId": "873692eb-1859-437e-ccd2-1c738451d373"
      },
      "execution_count": 48,
      "outputs": [
        {
          "output_type": "stream",
          "name": "stdout",
          "text": [
            "Error: Division by zero\n",
            "Finally block executed\n"
          ]
        }
      ]
    },
    {
      "cell_type": "markdown",
      "source": [
        "1.15 program termination"
      ],
      "metadata": {
        "id": "HpK3JyRsaY7_"
      }
    },
    {
      "cell_type": "markdown",
      "source": [
        "i think it basically closes the program or ends it"
      ],
      "metadata": {
        "id": "HJ925kpTakXb"
      }
    },
    {
      "cell_type": "code",
      "source": [
        "try:\n",
        "    file = open(\"missing.txt\", \"r\")\n",
        "except FileNotFoundError:\n",
        "    print(\"File not found\")\n"
      ],
      "metadata": {
        "colab": {
          "base_uri": "https://localhost:8080/"
        },
        "id": "U_0q0H6pbHcZ",
        "outputId": "c0e3e60a-8460-43e8-fd7d-fe332f6463c4"
      },
      "execution_count": 51,
      "outputs": [
        {
          "output_type": "stream",
          "name": "stdout",
          "text": [
            "File not found\n"
          ]
        }
      ]
    },
    {
      "cell_type": "markdown",
      "source": [
        "1.16 Objects and Classes"
      ],
      "metadata": {
        "id": "SLt3cr8YaxL_"
      }
    },
    {
      "cell_type": "markdown",
      "source": [
        "In programming, classes are like templates that define how objects should behave, and objects are instances of these templates that represent things in the real world. This concept helps organize and model data effectively in software development."
      ],
      "metadata": {
        "id": "_4v7nUCSbc3w"
      }
    },
    {
      "cell_type": "code",
      "source": [
        "class Dog:\n",
        "    def __init__(self, name, breed):\n",
        "        self.name = name\n",
        "        self.breed = breed\n",
        "\n",
        "    def bark(self):\n",
        "        return \"Woof!\"\n",
        "\n",
        "my_dog = Dog(\"Buddy\", \"Golden Retriever\")\n",
        "\n",
        "print(f\"My dog's name is {my_dog.name}. It says {my_dog.bark()}\")\n"
      ],
      "metadata": {
        "colab": {
          "base_uri": "https://localhost:8080/"
        },
        "id": "JewZ_HZKb5oZ",
        "outputId": "94025e85-87cf-43ea-b278-9d11b0493d15"
      },
      "execution_count": 52,
      "outputs": [
        {
          "output_type": "stream",
          "name": "stdout",
          "text": [
            "My dog's name is Buddy. It says Woof!\n"
          ]
        }
      ]
    },
    {
      "cell_type": "code",
      "source": [
        "class Student:\n",
        "    def __init__(self, name, age):\n",
        "        self.name = name\n",
        "        self.age = age\n",
        "\n",
        "student1 = Student(\"Alice\", 20)\n",
        "\n",
        "print(f\"Student's name: {student1.name}, age: {student1.age}\")\n"
      ],
      "metadata": {
        "colab": {
          "base_uri": "https://localhost:8080/"
        },
        "id": "4NmCbF6kb8P5",
        "outputId": "be8bb161-aa4f-4cd6-dac6-3d0f4c705b86"
      },
      "execution_count": 53,
      "outputs": [
        {
          "output_type": "stream",
          "name": "stdout",
          "text": [
            "Student's name: Alice, age: 20\n"
          ]
        }
      ]
    },
    {
      "cell_type": "markdown",
      "source": [
        "1.17 Modules"
      ],
      "metadata": {
        "id": "wudtDpd6b_l_"
      }
    },
    {
      "cell_type": "markdown",
      "source": [
        "modules are ways to cut up more complex projects so that you dont get overwhelmed\n",
        "you use import and the such to carry stuff over from other modules\n",
        "basically another file"
      ],
      "metadata": {
        "id": "DDRr31IbcCPN"
      }
    },
    {
      "cell_type": "markdown",
      "source": [
        "1.18 script writing"
      ],
      "metadata": {
        "id": "DpB-V2Jcc8uv"
      }
    },
    {
      "cell_type": "markdown",
      "source": [
        "basically just writing code i think"
      ],
      "metadata": {
        "id": "epI6jEUJc_a1"
      }
    },
    {
      "cell_type": "markdown",
      "source": [
        "1.19 packages\n"
      ],
      "metadata": {
        "id": "AqHXQCKrdCOm"
      }
    },
    {
      "cell_type": "markdown",
      "source": [
        "you can install packages like pytest and pygame"
      ],
      "metadata": {
        "id": "K2J44oNwdFx8"
      }
    },
    {
      "cell_type": "markdown",
      "source": [
        "1.20 structuring an application"
      ],
      "metadata": {
        "id": "VFaQJjzwdP5l"
      }
    },
    {
      "cell_type": "markdown",
      "source": [
        "use __init__ ???"
      ],
      "metadata": {
        "id": "8YbPYnWKdTsl"
      }
    },
    {
      "cell_type": "markdown",
      "source": [
        "1.21 Managing third part packages"
      ],
      "metadata": {
        "id": "JGUmJytpdaF9"
      }
    },
    {
      "cell_type": "markdown",
      "source": [
        "installed the same way as normal packages i think"
      ],
      "metadata": {
        "id": "_QgffQv7dgA3"
      }
    }
  ]
}