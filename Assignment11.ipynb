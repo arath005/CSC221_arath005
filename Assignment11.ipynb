{
  "nbformat": 4,
  "nbformat_minor": 0,
  "metadata": {
    "colab": {
      "provenance": [],
      "authorship_tag": "ABX9TyPAlJCD6dnkOocbOfBqDack",
      "include_colab_link": true
    },
    "kernelspec": {
      "name": "python3",
      "display_name": "Python 3"
    },
    "language_info": {
      "name": "python"
    }
  },
  "cells": [
    {
      "cell_type": "markdown",
      "metadata": {
        "id": "view-in-github",
        "colab_type": "text"
      },
      "source": [
        "<a href=\"https://colab.research.google.com/github/arath005/CSC221_arath005/blob/main/Assignment11.ipynb\" target=\"_parent\"><img src=\"https://colab.research.google.com/assets/colab-badge.svg\" alt=\"Open In Colab\"/></a>"
      ]
    },
    {
      "cell_type": "code",
      "source": [
        "class Dog():\n",
        "  \"\"\"A simple attempt to model a dog.\"\"\"\n",
        "\n",
        "  def __init__(self, name, age):\n",
        "    \"\"\"Initialize name and age attributes.\"\"\"\n",
        "    self.name = name\n",
        "    self.age = age\n",
        "\n",
        "  def sit(self):\n",
        "    \"\"\"Stimulate a dog sitting in response to a command.\"\"\"\n",
        "    print(self.name.title() + \" is now sitting.\")\n",
        "\n",
        "  def roll_over(self):\n",
        "    \"\"\"Stimulate rolling over in response to a command.\"\"\"\n",
        "    print(self.name.title() + \" rolled over!\")"
      ],
      "metadata": {
        "id": "xJ0VruYoHfYn"
      },
      "execution_count": 7,
      "outputs": []
    },
    {
      "cell_type": "code",
      "source": [
        "my_dog = Dog('willie', 6)\n",
        "my_dog.sit()\n",
        "my_dog.roll_over()\n",
        "\n",
        "print(\"My dog's name is \" + my_dog.name.title() + \".\")\n",
        "print(\"My dog is \" + str(my_dog.age) + \" years old.\")"
      ],
      "metadata": {
        "colab": {
          "base_uri": "https://localhost:8080/"
        },
        "id": "BM3yY6-4Iotf",
        "outputId": "905e2534-57d8-4b18-e4dd-454ca1634eff"
      },
      "execution_count": 10,
      "outputs": [
        {
          "output_type": "stream",
          "name": "stdout",
          "text": [
            "Willie is now sitting.\n",
            "Willie rolled over!\n",
            "My dog's name is Willie.\n",
            "My dog is 6 years old.\n"
          ]
        }
      ]
    },
    {
      "cell_type": "code",
      "source": [
        "my_dog = Dog('willie', 6)\n",
        "your_dog = Dog('lucy', 3)\n",
        "\n",
        "print(\"My dog's name is \" + my_dog.name.title() + \".\")\n",
        "print(\"My dog is \" + str(my_dog.age) + \" years old.\")\n",
        "my_dog.sit()\n",
        "print(\"\\nYour dog's name is \" + your_dog.name.title() + \".\")\n",
        "print(\"Your dog is \" + str(your_dog.age) + \" years old.\")\n",
        "your_dog.sit()\n"
      ],
      "metadata": {
        "colab": {
          "base_uri": "https://localhost:8080/"
        },
        "id": "N_G_q3qQJE0e",
        "outputId": "d46096f9-b326-4759-cd66-c5198c3a1709"
      },
      "execution_count": 11,
      "outputs": [
        {
          "output_type": "stream",
          "name": "stdout",
          "text": [
            "My dog's name is Willie.\n",
            "My dog is 6 years old.\n",
            "Willie is now sitting.\n",
            "\n",
            "Your dog's name is Lucy.\n",
            "Your dog is 3 years old.\n",
            "Lucy is now sitting.\n"
          ]
        }
      ]
    },
    {
      "cell_type": "markdown",
      "source": [
        "9-1, 9-2, 9-3"
      ],
      "metadata": {
        "id": "VJiqYwhMFTiw"
      }
    },
    {
      "cell_type": "code",
      "execution_count": 1,
      "metadata": {
        "colab": {
          "base_uri": "https://localhost:8080/"
        },
        "id": "Y5BVSMnPFNqb",
        "outputId": "39fa56f1-a29b-4d1b-f222-8a29b2aca233"
      },
      "outputs": [
        {
          "output_type": "stream",
          "name": "stdout",
          "text": [
            "The Mean Queen\n",
            "pizza\n",
            "\n",
            "The Mean Queen serves wonderful pizza.\n",
            "\n",
            "The Mean Queen is open. Come on in!\n"
          ]
        }
      ],
      "source": [
        "class Restaurant():\n",
        "    \"\"\"A class representing a restaurant.\"\"\"\n",
        "\n",
        "    def __init__(self, name, cuisine_type):\n",
        "        \"\"\"Initialize the restaurant.\"\"\"\n",
        "        self.name = name.title()\n",
        "        self.cuisine_type = cuisine_type\n",
        "\n",
        "    def describe_restaurant(self):\n",
        "        \"\"\"Display a summary of the restaurant.\"\"\"\n",
        "        msg = f\"{self.name} serves wonderful {self.cuisine_type}.\"\n",
        "        print(f\"\\n{msg}\")\n",
        "\n",
        "    def open_restaurant(self):\n",
        "        \"\"\"Display a message that the restaurant is open.\"\"\"\n",
        "        msg = f\"{self.name} is open. Come on in!\"\n",
        "        print(f\"\\n{msg}\")\n",
        "\n",
        "restaurant = Restaurant('the mean queen', 'pizza')\n",
        "print(restaurant.name)\n",
        "print(restaurant.cuisine_type)\n",
        "\n",
        "restaurant.describe_restaurant()\n",
        "restaurant.open_restaurant()"
      ]
    },
    {
      "cell_type": "code",
      "source": [
        "class Restaurant():\n",
        "    \"\"\"A class representing a restaurant.\"\"\"\n",
        "\n",
        "    def __init__(self, name, cuisine_type):\n",
        "        \"\"\"Initialize the restaurant.\"\"\"\n",
        "        self.name = name.title()\n",
        "        self.cuisine_type = cuisine_type\n",
        "\n",
        "    def describe_restaurant(self):\n",
        "        \"\"\"Display a summary of the restaurant.\"\"\"\n",
        "        msg = f\"{self.name} serves wonderful {self.cuisine_type}.\"\n",
        "        print(f\"\\n{msg}\")\n",
        "\n",
        "    def open_restaurant(self):\n",
        "        \"\"\"Display a message that the restaurant is open.\"\"\"\n",
        "        msg = f\"{self.name} is open. Come on in!\"\n",
        "        print(f\"\\n{msg}\")\n",
        "\n",
        "mean_queen = Restaurant('the mean queen', 'pizza')\n",
        "mean_queen.describe_restaurant()\n",
        "\n",
        "ludvigs = Restaurant(\"ludvig's bistro\", 'seafood')\n",
        "ludvigs.describe_restaurant()\n",
        "\n",
        "mango_thai = Restaurant('mango thai', 'thai food')\n",
        "mango_thai.describe_restaurant()"
      ],
      "metadata": {
        "colab": {
          "base_uri": "https://localhost:8080/"
        },
        "id": "eyNLmvzfFnZZ",
        "outputId": "9959c247-1e0f-4665-d0fd-0a5b84e5bb45"
      },
      "execution_count": 2,
      "outputs": [
        {
          "output_type": "stream",
          "name": "stdout",
          "text": [
            "\n",
            "The Mean Queen serves wonderful pizza.\n",
            "\n",
            "Ludvig'S Bistro serves wonderful seafood.\n",
            "\n",
            "Mango Thai serves wonderful thai food.\n"
          ]
        }
      ]
    },
    {
      "cell_type": "code",
      "source": [
        "class User():\n",
        "    \"\"\"Represent a simple user profile.\"\"\"\n",
        "\n",
        "    def __init__(self, first_name, last_name, username, email, location):\n",
        "        \"\"\"Initialize the user.\"\"\"\n",
        "        self.first_name = first_name.title()\n",
        "        self.last_name = last_name.title()\n",
        "        self.username = username\n",
        "        self.email = email\n",
        "        self.location = location.title()\n",
        "\n",
        "    def describe_user(self):\n",
        "        \"\"\"Display a summary of the user's information.\"\"\"\n",
        "        print(f\"\\n{self.first_name} {self.last_name}\")\n",
        "        print(f\"  Username: {self.username}\")\n",
        "        print(f\"  Email: {self.email}\")\n",
        "        print(f\"  Location: {self.location}\")\n",
        "\n",
        "    def greet_user(self):\n",
        "        \"\"\"Display a personalized greeting to the user.\"\"\"\n",
        "        print(f\"\\nWelcome back, {self.username}!\")\n",
        "\n",
        "eric = User('eric', 'matthes', 'e_matthes', 'e_matthes@example.com', 'alaska')\n",
        "eric.describe_user()\n",
        "eric.greet_user()\n",
        "\n",
        "willie = User('willie', 'burger', 'willieburger', 'wb@example.com', 'alaska')\n",
        "willie.describe_user()\n",
        "willie.greet_user()"
      ],
      "metadata": {
        "colab": {
          "base_uri": "https://localhost:8080/"
        },
        "id": "IrzOqASNFrpi",
        "outputId": "04c74de4-93eb-47e2-e627-5c06cb1cd8d2"
      },
      "execution_count": 3,
      "outputs": [
        {
          "output_type": "stream",
          "name": "stdout",
          "text": [
            "\n",
            "Eric Matthes\n",
            "  Username: e_matthes\n",
            "  Email: e_matthes@example.com\n",
            "  Location: Alaska\n",
            "\n",
            "Welcome back, e_matthes!\n",
            "\n",
            "Willie Burger\n",
            "  Username: willieburger\n",
            "  Email: wb@example.com\n",
            "  Location: Alaska\n",
            "\n",
            "Welcome back, willieburger!\n"
          ]
        }
      ]
    },
    {
      "cell_type": "code",
      "source": [
        "\"\"\"A class that can be used to represent a car.\"\"\"\n",
        "\n",
        "class Car():\n",
        "  \"\"\"A simple attempt to represent a car.\"\"\"\n",
        "\n",
        "  def __init__(self, make, model, year):\n",
        "    \"\"\"Initialize attributes to describe a car.\"\"\"\n",
        "    self.make = make\n",
        "    self.model = model\n",
        "    self.year = year\n",
        "    self.odometer_reading = 0\n",
        "\n",
        "  def get_descriptive_name(self):\n",
        "    \"\"\"Return a neatly formatted descripive name.\"\"\"\n",
        "    long_name = str(self.year) + ' ' + self.make + ' ' + self.model\n",
        "    return long_name.title()\n",
        "\n",
        "  def read_odometer(self):\n",
        "    \"\"\"Print a statement showing the car's mileage.\"\"\"\n",
        "    print(\"This car has \" + str(self.odometer_reading) + \" miles on it.\")\n",
        "\n",
        "  def update_odometer(self, mileage):\n",
        "    \"\"\"\n",
        "    Set the odometer reading to the given value.\n",
        "    Reject the change if it attempts to roll the odometer back.\n",
        "    \"\"\"\n",
        "    if mileage >= self.odometer_reading:\n",
        "      self.odometer_reading = mileage\n",
        "    else:\n",
        "      print(\"You can't roll back an odometer!\")\n",
        "\n",
        "  def increment_odometer(self, miles):\n",
        "    \"\"\"Add the given amount to the odometer reading.\"\"\"\n",
        "    self.odometer_reading += miles\n",
        "\n",
        "class ElectricCar(Car):\n",
        "  \"\"\"Represent aspects of a car, specific to electric vehicles.\"\"\"\n",
        "\n",
        "  def __init__(self, make, model, year):\n",
        "    \"\"\"\n",
        "    Initialize attributes of the parent class.\n",
        "    Then initialize attributes specific to an electric car.\n",
        "    \"\"\"\n",
        "    super(ElectricCar, self).__init__(make, model, year)\n",
        "    self.battery = Battery()\n",
        "\n",
        "  def describe_battery(self):\n",
        "    \"\"\"Print a statement describing the battery size.\"\"\"\n",
        "    print(\"This car has a \" + str(self.battery_size) + \"-kWh battery.\")\n",
        "\n",
        "  def fill_gas_tank():\n",
        "    \"\"\"Electric cars don't have gas tanks.\"\"\"\n",
        "    print(\"This car doesn't need a gas tank!\")\n",
        "\n",
        "class Battery():\n",
        "  \"\"\"A simple attempt to model a battery for an electric car.\"\"\"\n",
        "\n",
        "  def __init__(self, battery_size=70):\n",
        "    \"\"\"Initialize the battery's attributes.\"\"\"\n",
        "    self.battery_size = battery_size\n",
        "\n",
        "  def describe_battery(self):\n",
        "    \"\"\"Print a statement describing the battery size.\"\"\"\n",
        "    print(\"This car has a \" + str(self.battery_size) + \"-kWh battery.\")\n",
        "\n",
        "  def get_range(self):\n",
        "    \"\"\"Print a statement about the range this battery provides.\"\"\"\n",
        "    if self.battery_size == 70:\n",
        "      range = 240\n",
        "    elif self.battery_size == 85:\n",
        "      range = 270\n",
        "    message = \"This car can go approximately \" + str(range)\n",
        "    message += \" miles on a full charge.\"\n",
        "    print(message)\n",
        "\n",
        "\n",
        "\n",
        "my_tesla = ElectricCar('tesla', 'model s', 2016)\n",
        "print(my_tesla.get_descriptive_name())\n",
        "my_tesla.battery.describe_battery()\n",
        "my_tesla.battery.get_range()\n",
        "\n",
        "\n",
        "my_used_car = Car('subaru', 'outback', 2013)\n",
        "print(my_used_car.get_descriptive_name())\n",
        "my_used_car.update_odometer(23500)\n",
        "my_used_car.read_odometer()\n",
        "my_used_car.increment_odometer(100)\n",
        "my_used_car.read_odometer()\n",
        "my_new_car = Car('audi', 'a4', 2016)\n",
        "print(my_new_car.get_descriptive_name())\n",
        "my_new_car.update_odometer(23)\n",
        "my_new_car.read_odometer()\n"
      ],
      "metadata": {
        "colab": {
          "base_uri": "https://localhost:8080/"
        },
        "id": "n3NLmWWaJ75I",
        "outputId": "11559159-d1a7-4d5a-aec0-461682c25676"
      },
      "execution_count": 28,
      "outputs": [
        {
          "output_type": "stream",
          "name": "stdout",
          "text": [
            "2016 Tesla Model S\n",
            "This car has a 70-kWh battery.\n",
            "This car can go approximately 240 miles on a full charge.\n",
            "2013 Subaru Outback\n",
            "This car has 23500 miles on it.\n",
            "This car has 23600 miles on it.\n",
            "2016 Audi A4\n",
            "This car has 23 miles on it.\n"
          ]
        }
      ]
    },
    {
      "cell_type": "markdown",
      "source": [
        "9-6, 9-7"
      ],
      "metadata": {
        "id": "x3zLLh8oFbGE"
      }
    },
    {
      "cell_type": "code",
      "source": [
        "class Restaurant():\n",
        "    \"\"\"A class representing a restaurant.\"\"\"\n",
        "\n",
        "    def __init__(self, name, cuisine_type):\n",
        "        \"\"\"Initialize the restaurant.\"\"\"\n",
        "        self.name = name.title()\n",
        "        self.cuisine_type = cuisine_type\n",
        "        self.number_served = 0\n",
        "\n",
        "    def describe_restaurant(self):\n",
        "        \"\"\"Display a summary of the restaurant.\"\"\"\n",
        "        msg = f\"{self.name} serves wonderful {self.cuisine_type}.\"\n",
        "        print(f\"\\n{msg}\")\n",
        "\n",
        "    def open_restaurant(self):\n",
        "        \"\"\"Display a message that the restaurant is open.\"\"\"\n",
        "        msg = f\"{self.name} is open. Come on in!\"\n",
        "        print(f\"\\n{msg}\")\n",
        "\n",
        "    def set_number_served(self, number_served):\n",
        "        \"\"\"Allow user to set the number of customers that have been served.\"\"\"\n",
        "        self.number_served = number_served\n",
        "\n",
        "    def increment_number_served(self, additional_served):\n",
        "        \"\"\"Allow user to increment the number of customers served.\"\"\"\n",
        "        self.number_served += additional_served\n",
        "\n",
        "\n",
        "class IceCreamStand(Restaurant):\n",
        "    \"\"\"Represent an ice cream stand.\"\"\"\n",
        "\n",
        "    def __init__(self, name, cuisine_type='ice_cream'):\n",
        "        \"\"\"Initialize an ice cream stand.\"\"\"\n",
        "        super().__init__(name, cuisine_type)\n",
        "        self.flavors = []\n",
        "\n",
        "    def show_flavors(self):\n",
        "        \"\"\"Display the flavors available.\"\"\"\n",
        "        print(\"\\nWe have the following flavors available:\")\n",
        "        for flavor in self.flavors:\n",
        "            print(f\"- {flavor.title()}\")\n",
        "\n",
        "\n",
        "big_one = IceCreamStand('The Big One')\n",
        "big_one.flavors = ['vanilla', 'chocolate', 'black cherry']\n",
        "\n",
        "big_one.describe_restaurant()\n",
        "big_one.show_flavors()"
      ],
      "metadata": {
        "colab": {
          "base_uri": "https://localhost:8080/"
        },
        "id": "uhm3xgGtFgnQ",
        "outputId": "f8af5e39-f402-49c1-8d10-3733866ad5bc"
      },
      "execution_count": 4,
      "outputs": [
        {
          "output_type": "stream",
          "name": "stdout",
          "text": [
            "\n",
            "The Big One serves wonderful ice_cream.\n",
            "\n",
            "We have the following flavors available:\n",
            "- Vanilla\n",
            "- Chocolate\n",
            "- Black Cherry\n"
          ]
        }
      ]
    },
    {
      "cell_type": "code",
      "source": [
        "class User():\n",
        "    \"\"\"Represent a simple user profile.\"\"\"\n",
        "\n",
        "    def __init__(self, first_name, last_name, username, email, location):\n",
        "        \"\"\"Initialize the user.\"\"\"\n",
        "        self.first_name = first_name.title()\n",
        "        self.last_name = last_name.title()\n",
        "        self.username = username\n",
        "        self.email = email\n",
        "        self.location = location.title()\n",
        "        self.login_attempts = 0\n",
        "\n",
        "    def describe_user(self):\n",
        "        \"\"\"Display a summary of the user's information.\"\"\"\n",
        "        print(f\"\\n{self.first_name} {self.last_name}\")\n",
        "        print(f\"  Username: {self.username}\")\n",
        "        print(f\"  Email: {self.email}\")\n",
        "        print(f\"  Location: {self.location}\")\n",
        "\n",
        "    def greet_user(self):\n",
        "        \"\"\"Display a personalized greeting to the user.\"\"\"\n",
        "        print(f\"\\nWelcome back, {self.username}!\")\n",
        "\n",
        "    def increment_login_attempts(self):\n",
        "        \"\"\"Increment the value of login_attempts.\"\"\"\n",
        "        self.login_attempts += 1\n",
        "\n",
        "    def reset_login_attempts(self):\n",
        "        \"\"\"Reset login_attempts to 0.\"\"\"\n",
        "        self.login_attempts = 0\n",
        "\n",
        "\n",
        "class Admin(User):\n",
        "    \"\"\"A user with administrative privileges.\"\"\"\n",
        "\n",
        "    def __init__(self, first_name, last_name, username, email, location):\n",
        "        \"\"\"Initialize the admin.\"\"\"\n",
        "        super().__init__(first_name, last_name, username, email, location)\n",
        "        self.privileges = []\n",
        "\n",
        "    def show_privileges(self):\n",
        "        \"\"\"Display the privileges this administrator has.\"\"\"\n",
        "        print(\"\\nPrivileges:\")\n",
        "        for privilege in self.privileges:\n",
        "            print(f\"- {privilege}\")\n",
        "\n",
        "\n",
        "eric = Admin('eric', 'matthes', 'e_matthes', 'e_matthes@example.com', 'alaska')\n",
        "eric.describe_user()\n",
        "\n",
        "eric.privileges = [\n",
        "    'can reset passwords',\n",
        "    'can moderate discussions',\n",
        "    'can suspend accounts',\n",
        "    ]\n",
        "\n",
        "eric.show_privileges()"
      ],
      "metadata": {
        "colab": {
          "base_uri": "https://localhost:8080/"
        },
        "id": "ccsiKb6OF7gv",
        "outputId": "4b274047-6a2d-4dca-d2b7-820e3f7a83cf"
      },
      "execution_count": 5,
      "outputs": [
        {
          "output_type": "stream",
          "name": "stdout",
          "text": [
            "\n",
            "Eric Matthes\n",
            "  Username: e_matthes\n",
            "  Email: e_matthes@example.com\n",
            "  Location: Alaska\n",
            "\n",
            "Privileges:\n",
            "- can reset passwords\n",
            "- can moderate discussions\n",
            "- can suspend accounts\n"
          ]
        }
      ]
    }
  ]
}