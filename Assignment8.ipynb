{
  "nbformat": 4,
  "nbformat_minor": 0,
  "metadata": {
    "colab": {
      "provenance": [],
      "authorship_tag": "ABX9TyNgFsuNbKkA+QgL+lEtBBUe",
      "include_colab_link": true
    },
    "kernelspec": {
      "name": "python3",
      "display_name": "Python 3"
    },
    "language_info": {
      "name": "python"
    }
  },
  "cells": [
    {
      "cell_type": "markdown",
      "metadata": {
        "id": "view-in-github",
        "colab_type": "text"
      },
      "source": [
        "<a href=\"https://colab.research.google.com/github/arath005/CSC221_arath005/blob/main/Assignment8.ipynb\" target=\"_parent\"><img src=\"https://colab.research.google.com/assets/colab-badge.svg\" alt=\"Open In Colab\"/></a>"
      ]
    },
    {
      "cell_type": "code",
      "execution_count": 1,
      "metadata": {
        "colab": {
          "base_uri": "https://localhost:8080/"
        },
        "id": "JWVD0U12yEVc",
        "outputId": "0171e27d-0de3-4ba3-f3dc-5cbf9ebce833"
      },
      "outputs": [
        {
          "output_type": "stream",
          "name": "stdout",
          "text": [
            "Tel me something, and i will repeat it back to you: hi\n",
            "hi\n"
          ]
        }
      ],
      "source": [
        "message = input(\"Tel me something, and i will repeat it back to you: \")\n",
        "print(message)"
      ]
    },
    {
      "cell_type": "code",
      "source": [
        "name = input(\"please enter your name: \")\n",
        "print(f\"\\nHello, {name}!\")"
      ],
      "metadata": {
        "colab": {
          "base_uri": "https://localhost:8080/"
        },
        "id": "IX8TdVkzyO7L",
        "outputId": "367b8537-ab31-426d-ca12-2cc94fa4cc02"
      },
      "execution_count": 3,
      "outputs": [
        {
          "output_type": "stream",
          "name": "stdout",
          "text": [
            "please enter your name: Alex\n",
            "\n",
            "Hello, Alex!\n"
          ]
        }
      ]
    },
    {
      "cell_type": "code",
      "source": [
        "prompt = \"If you share your name, we can personalize the message you see.\"\n",
        "prompt += \"\\nWhat is your first name? \"\n",
        "\n",
        "name = input(prompt)\n",
        "print(f\"\\nHello, {name}!\")"
      ],
      "metadata": {
        "colab": {
          "base_uri": "https://localhost:8080/"
        },
        "id": "DV97VoyTyhTt",
        "outputId": "7f3f7110-3190-46e7-8e70-2bc77f7bbe75"
      },
      "execution_count": 5,
      "outputs": [
        {
          "output_type": "stream",
          "name": "stdout",
          "text": [
            "If you share your name, we can personalize the message you see.\n",
            "What is your first name? Alex\n",
            "\n",
            "Hello, Alex!\n"
          ]
        }
      ]
    },
    {
      "cell_type": "code",
      "source": [
        "age = input(\"How old are you? \")"
      ],
      "metadata": {
        "colab": {
          "base_uri": "https://localhost:8080/"
        },
        "id": "f3-RMNOOy8Vo",
        "outputId": "c7057911-4b3d-40e6-d3cb-da6bf576a2cc"
      },
      "execution_count": 7,
      "outputs": [
        {
          "name": "stdout",
          "output_type": "stream",
          "text": [
            "How old are you? 21\n"
          ]
        }
      ]
    },
    {
      "cell_type": "code",
      "source": [
        "age = int(age)\n",
        "age >= 18"
      ],
      "metadata": {
        "colab": {
          "base_uri": "https://localhost:8080/"
        },
        "id": "vZ84SaEhzFgN",
        "outputId": "8baf1406-ed42-4d91-d738-d36cda4f6b63"
      },
      "execution_count": 10,
      "outputs": [
        {
          "output_type": "execute_result",
          "data": {
            "text/plain": [
              "True"
            ]
          },
          "metadata": {},
          "execution_count": 10
        }
      ]
    },
    {
      "cell_type": "code",
      "source": [
        "height = input(\"How tall are you, in inches? \")\n",
        "height = int(height)\n",
        "\n",
        "if height >= 48:\n",
        "  print(\"\\nYou're tall enough to ride!\")\n",
        "else:\n",
        "  print(\"\\nYou'll be able to ride when you're a little older.\")"
      ],
      "metadata": {
        "colab": {
          "base_uri": "https://localhost:8080/"
        },
        "id": "Uaqu3k_FzG2J",
        "outputId": "2f4022e7-c3d0-47ce-e4f7-6872986a1b74"
      },
      "execution_count": 12,
      "outputs": [
        {
          "output_type": "stream",
          "name": "stdout",
          "text": [
            "How tall are you, in inches? 47\n",
            "\n",
            "You'll be able to ride when you're a little older.\n"
          ]
        }
      ]
    },
    {
      "cell_type": "code",
      "source": [
        "4 % 3\n"
      ],
      "metadata": {
        "colab": {
          "base_uri": "https://localhost:8080/"
        },
        "id": "-qnL7a0vzsuq",
        "outputId": "af762553-0028-4e7c-fa87-2010ccafb5bf"
      },
      "execution_count": 16,
      "outputs": [
        {
          "output_type": "execute_result",
          "data": {
            "text/plain": [
              "1"
            ]
          },
          "metadata": {},
          "execution_count": 16
        }
      ]
    },
    {
      "cell_type": "code",
      "source": [
        "5 % 3"
      ],
      "metadata": {
        "colab": {
          "base_uri": "https://localhost:8080/"
        },
        "id": "Q21j1vdaz4Jf",
        "outputId": "7923e9f6-4cea-4847-b40a-f62fd7005d60"
      },
      "execution_count": 17,
      "outputs": [
        {
          "output_type": "execute_result",
          "data": {
            "text/plain": [
              "2"
            ]
          },
          "metadata": {},
          "execution_count": 17
        }
      ]
    },
    {
      "cell_type": "code",
      "source": [
        "6 % 3"
      ],
      "metadata": {
        "colab": {
          "base_uri": "https://localhost:8080/"
        },
        "id": "HslgEU4pz5i7",
        "outputId": "6a86795a-d278-4d64-fbca-633f0f5169cf"
      },
      "execution_count": 18,
      "outputs": [
        {
          "output_type": "execute_result",
          "data": {
            "text/plain": [
              "0"
            ]
          },
          "metadata": {},
          "execution_count": 18
        }
      ]
    },
    {
      "cell_type": "code",
      "source": [
        "7%3"
      ],
      "metadata": {
        "colab": {
          "base_uri": "https://localhost:8080/"
        },
        "id": "bRWxwDkJz7eE",
        "outputId": "abef6483-10f2-4c53-eee8-d5b52ab7f56e"
      },
      "execution_count": 19,
      "outputs": [
        {
          "output_type": "execute_result",
          "data": {
            "text/plain": [
              "1"
            ]
          },
          "metadata": {},
          "execution_count": 19
        }
      ]
    },
    {
      "cell_type": "code",
      "source": [
        "number = input(\"Enter a number, and I'll tell you if it's even or odd: \")\n",
        "number = int(number)\n",
        "\n",
        "if number % 2 == 0:\n",
        "  print(f\"\\nThe number {number} is even.\")\n",
        "else:\n",
        "  print(f\"\\nThe number {number} is odd.\")"
      ],
      "metadata": {
        "colab": {
          "base_uri": "https://localhost:8080/"
        },
        "id": "ty9AQ-b5z8xX",
        "outputId": "1fd21ba2-6117-4894-9252-81bd7e384e2e"
      },
      "execution_count": 22,
      "outputs": [
        {
          "output_type": "stream",
          "name": "stdout",
          "text": [
            "Enter a number, and I'll tell you if it's even or odd: 1\n",
            "\n",
            "The number 1 is odd.\n"
          ]
        }
      ]
    },
    {
      "cell_type": "markdown",
      "source": [
        "7-1, 7-3"
      ],
      "metadata": {
        "id": "FIeToEwt0iYZ"
      }
    },
    {
      "cell_type": "code",
      "source": [
        "car = input(\"What kind of car would you like? \")\n",
        "\n",
        "print(f\"Let me see if I can find you a {car.title()}.\")"
      ],
      "metadata": {
        "colab": {
          "base_uri": "https://localhost:8080/"
        },
        "id": "qQU2OPbJ0c51",
        "outputId": "9f36a6c9-5a5f-4d32-8120-15a5aba5fa80"
      },
      "execution_count": 27,
      "outputs": [
        {
          "output_type": "stream",
          "name": "stdout",
          "text": [
            "What kind of car would you like? camaro\n",
            "Let me see if I can find you a Camaro.\n"
          ]
        }
      ]
    },
    {
      "cell_type": "code",
      "source": [
        "number = input(\"Give me a number, please: \")\n",
        "number = int(number)\n",
        "\n",
        "if number % 10 == 0:\n",
        "    print(f\"{number} is a multiple of 10.\")\n",
        "else:\n",
        "    print(f\"{number} is not a multiple of 10.\")"
      ],
      "metadata": {
        "colab": {
          "base_uri": "https://localhost:8080/"
        },
        "id": "NRDT-ksQ06T4",
        "outputId": "bae2ef80-bef9-46f6-bba0-3b2aa5b579c4"
      },
      "execution_count": 29,
      "outputs": [
        {
          "output_type": "stream",
          "name": "stdout",
          "text": [
            "Give me a number, please: 200000\n",
            "200000 is a multiple of 10.\n"
          ]
        }
      ]
    },
    {
      "cell_type": "code",
      "source": [
        "current_number = 1\n",
        "while current_number <= 5:\n",
        "  print(current_number)\n",
        "  current_number += 1"
      ],
      "metadata": {
        "colab": {
          "base_uri": "https://localhost:8080/"
        },
        "id": "l_YZkw4F0_sK",
        "outputId": "fa9a90fc-ddeb-42d1-961e-2d83c2a7dae5"
      },
      "execution_count": 31,
      "outputs": [
        {
          "output_type": "stream",
          "name": "stdout",
          "text": [
            "1\n",
            "2\n",
            "3\n",
            "4\n",
            "5\n"
          ]
        }
      ]
    },
    {
      "cell_type": "code",
      "source": [
        "prompt = \"\\nTell me something, and I will repeat it back to you.\"\n",
        "prompt += \"\\nEnter 'quit' to end the program.\"\n",
        "\n",
        "message = \" \"\n",
        "while message != 'quit':\n",
        "  message = input(prompt)\n",
        "  if message != 'quit':\n",
        "    print(message)"
      ],
      "metadata": {
        "colab": {
          "base_uri": "https://localhost:8080/"
        },
        "id": "aNB2Q4_r1jIS",
        "outputId": "0a61ffd5-ddeb-4387-b981-499a3abc423a"
      },
      "execution_count": 36,
      "outputs": [
        {
          "name": "stdout",
          "output_type": "stream",
          "text": [
            "\n",
            "Tell me something, and I will repeat it back to you.\n",
            "Enter 'quit' to end the program.hi\n",
            "hi\n",
            "\n",
            "Tell me something, and I will repeat it back to you.\n",
            "Enter 'quit' to end the program.quit\n"
          ]
        }
      ]
    },
    {
      "cell_type": "code",
      "source": [
        "prompt = \"\\nTell me something, and I will repeat it back to you.\"\n",
        "prompt += \"\\nEnter 'quit' to end the program.\"\n",
        "\n",
        "active = True\n",
        "while active:\n",
        "  message = input(prompt)\n",
        "\n",
        "  if message == 'quit':\n",
        "    active = False\n",
        "  else:\n",
        "    print(message)"
      ],
      "metadata": {
        "colab": {
          "base_uri": "https://localhost:8080/"
        },
        "id": "yh4okI_w2CcX",
        "outputId": "dc1d20e6-3f32-424d-9a23-d30ab2b66a51"
      },
      "execution_count": 37,
      "outputs": [
        {
          "name": "stdout",
          "output_type": "stream",
          "text": [
            "\n",
            "Tell me something, and I will repeat it back to you.\n",
            "Enter 'quit' to end the program.sw\n",
            "sw\n",
            "\n",
            "Tell me something, and I will repeat it back to you.\n",
            "Enter 'quit' to end the program.quit\n"
          ]
        }
      ]
    },
    {
      "cell_type": "code",
      "source": [
        "prompt = \"\\nPlease enter the name of a city you have visited:\"\n",
        "prompt += \"\\n(Enter 'quit' when you are finished.)\"\n",
        "\n",
        "while True:\n",
        "  city = input(prompt)\n",
        "\n",
        "  if city == 'quit':\n",
        "    break\n",
        "  else:\n",
        "    print(f\"I'd love to go to {city.title()}!\")"
      ],
      "metadata": {
        "colab": {
          "base_uri": "https://localhost:8080/"
        },
        "id": "kJz3VUFe2tHr",
        "outputId": "1748d6e4-1afd-4ef5-848d-43de7dc0611b"
      },
      "execution_count": 38,
      "outputs": [
        {
          "name": "stdout",
          "output_type": "stream",
          "text": [
            "\n",
            "Please enter the name of a city you have visited:\n",
            "(Enter 'quit' when you are finished.)new york\n",
            "I'd love to go to New York!\n",
            "\n",
            "Please enter the name of a city you have visited:\n",
            "(Enter 'quit' when you are finished.)quit\n"
          ]
        }
      ]
    },
    {
      "cell_type": "code",
      "source": [
        "current_number = 0\n",
        "while current_number < 10:\n",
        "  current_number += 1\n",
        "  if current_number % 2 == 0:\n",
        "    continue\n",
        "\n",
        "  print(current_number)"
      ],
      "metadata": {
        "colab": {
          "base_uri": "https://localhost:8080/"
        },
        "id": "Esp8gcY13Wdm",
        "outputId": "f7036116-7d93-4c71-d5e0-ae9549e7cf4a"
      },
      "execution_count": 39,
      "outputs": [
        {
          "output_type": "stream",
          "name": "stdout",
          "text": [
            "1\n",
            "3\n",
            "5\n",
            "7\n",
            "9\n"
          ]
        }
      ]
    },
    {
      "cell_type": "code",
      "source": [
        "x = 1\n",
        "while x <= 5:\n",
        "  print(x)\n",
        "  x += 1"
      ],
      "metadata": {
        "colab": {
          "base_uri": "https://localhost:8080/"
        },
        "id": "YnCe21JQ3xb9",
        "outputId": "59d4501f-7c3f-48ff-fd70-20ca7c9f9907"
      },
      "execution_count": 40,
      "outputs": [
        {
          "output_type": "stream",
          "name": "stdout",
          "text": [
            "1\n",
            "2\n",
            "3\n",
            "4\n",
            "5\n"
          ]
        }
      ]
    },
    {
      "cell_type": "markdown",
      "source": [
        "7-5, 7-6"
      ],
      "metadata": {
        "id": "jq1tRzjW3_As"
      }
    },
    {
      "cell_type": "code",
      "source": [
        "prompt = \"How old are you?\"\n",
        "prompt += \"\\nEnter 'quit' when you are finished. \"\n",
        "\n",
        "while True:\n",
        "    age = input(prompt)\n",
        "    if age == 'quit':\n",
        "        break\n",
        "    age = int(age)\n",
        "\n",
        "    if age < 3:\n",
        "        print(\"  You get in free!\")\n",
        "    elif age < 13:\n",
        "        print(\"  Your ticket is $10.\")\n",
        "    else:\n",
        "        print(\"  Your ticket is $15.\")\n"
      ],
      "metadata": {
        "colab": {
          "base_uri": "https://localhost:8080/"
        },
        "id": "km2AOhcZ4Bep",
        "outputId": "2b581ed5-ac53-4b89-8997-24e2beb0344e"
      },
      "execution_count": 41,
      "outputs": [
        {
          "name": "stdout",
          "output_type": "stream",
          "text": [
            "How old are you?\n",
            "Enter 'quit' when you are finished. 19\n",
            "  Your ticket is $15.\n",
            "How old are you?\n",
            "Enter 'quit' when you are finished. 2\n",
            "  You get in free!\n",
            "How old are you?\n",
            "Enter 'quit' when you are finished. quit\n"
          ]
        }
      ]
    },
    {
      "cell_type": "code",
      "source": [
        "prompt = \"How old are you?\"\n",
        "prompt += \"\\nEnter 'quit' when you are finished. \"\n",
        "\n",
        "while True:\n",
        "    age = input(prompt)\n",
        "    if age == 'quit':\n",
        "        break\n",
        "    age = int(age)\n",
        "\n",
        "    if age < 3:\n",
        "        print(\"  You get in free!\")\n",
        "    elif age < 13:\n",
        "        print(\"  Your ticket is $10.\")\n",
        "    else:\n",
        "        print(\"  Your ticket is $15.\")"
      ],
      "metadata": {
        "id": "KDDnqfhR4The"
      },
      "execution_count": null,
      "outputs": []
    },
    {
      "cell_type": "code",
      "source": [
        "prompt = \"\\nWhat topping would you like on your pizza?\"\n",
        "prompt += \"\\nEnter 'quit' when you are finished: \"\n",
        "\n",
        "while True:\n",
        "    topping = input(prompt)\n",
        "    if topping != 'quit':\n",
        "        print(f\"  I'll add {topping} to your pizza.\")\n",
        "    elif topping == 'quit':\n",
        "        break"
      ],
      "metadata": {
        "colab": {
          "base_uri": "https://localhost:8080/"
        },
        "id": "ZkTTu9_m4Zra",
        "outputId": "5770bf3a-a1a8-4dd6-b3af-d0f984bcedef"
      },
      "execution_count": 42,
      "outputs": [
        {
          "name": "stdout",
          "output_type": "stream",
          "text": [
            "\n",
            "What topping would you like on your pizza?\n",
            "Enter 'quit' when you are finished: quit\n"
          ]
        }
      ]
    },
    {
      "cell_type": "code",
      "source": [
        "unconfirmed_users = ['alice', 'brian', 'candace']\n",
        "confirmed_users = []\n",
        "while unconfirmed_users:\n",
        "  current_user = unconfirmed_users.pop()\n",
        "\n",
        "  print(f\"Verifying user: {current_user.title()}\")\n",
        "  confirmed_users.append(current_user)\n",
        "print(\"\\nThe following users have been confirmed:\")\n",
        "for confirmed_user in confirmed_users:\n",
        "  print(confirmed_user.title())"
      ],
      "metadata": {
        "colab": {
          "base_uri": "https://localhost:8080/"
        },
        "id": "8feiBlts4og8",
        "outputId": "7d090e4a-80b4-4817-e21b-d3b66953d402"
      },
      "execution_count": 44,
      "outputs": [
        {
          "output_type": "stream",
          "name": "stdout",
          "text": [
            "Verifying user: Candace\n",
            "Verifying user: Brian\n",
            "Verifying user: Alice\n",
            "\n",
            "The following users have been confirmed:\n",
            "Candace\n",
            "Brian\n",
            "Alice\n"
          ]
        }
      ]
    },
    {
      "cell_type": "code",
      "source": [
        "pets =['dog', 'cat', 'dog', 'goldfish', 'cat', 'rabbit', 'cat']\n",
        "print(pets)\n",
        "\n",
        "while 'cat' in pets:\n",
        "  pets.remove('cat')\n",
        "\n",
        "print(pets)"
      ],
      "metadata": {
        "colab": {
          "base_uri": "https://localhost:8080/"
        },
        "id": "VrBuWg-N5gaI",
        "outputId": "81dd5db5-7789-4208-bcac-5fae6308740e"
      },
      "execution_count": 45,
      "outputs": [
        {
          "output_type": "stream",
          "name": "stdout",
          "text": [
            "['dog', 'cat', 'dog', 'goldfish', 'cat', 'rabbit', 'cat']\n",
            "['dog', 'dog', 'goldfish', 'rabbit']\n"
          ]
        }
      ]
    },
    {
      "cell_type": "code",
      "source": [
        "responses = {}\n",
        "polling_active = True\n",
        "while polling_active:\n",
        "  name = input(\"\\nWhat is your name? \")\n",
        "  response = input(\"Which mountain would you like to climb someday? \")\n",
        "\n",
        "  responses[name] = response\n",
        "  repeat = input(\"Would you like to let another person respond? (yes/no) \")\n",
        "  if repeat == 'no':\n",
        "    polling_active = False\n",
        "print(\"\\n--- Poll Results ---\")\n",
        "for name, response in responses.items():\n",
        "  print(f\"{name} would like to climb {response}.\")"
      ],
      "metadata": {
        "colab": {
          "base_uri": "https://localhost:8080/"
        },
        "id": "hBKs5GCp6Mcs",
        "outputId": "05f0b849-224a-4f91-fef1-a0e8a980e761"
      },
      "execution_count": 46,
      "outputs": [
        {
          "output_type": "stream",
          "name": "stdout",
          "text": [
            "\n",
            "What is your name? Alex\n",
            "Which mountain would you like to climb someday? Everest\n",
            "Would you like to let another person respond? (yes/no) no\n",
            "\n",
            "--- Poll Results ---\n",
            "Alex would like to climb Everest.\n"
          ]
        }
      ]
    },
    {
      "cell_type": "code",
      "source": [
        "sandwich_orders = ['veggie', 'grilled cheese', 'turkey', 'roast beef']\n",
        "finished_sandwiches = []\n",
        "\n",
        "while sandwich_orders:\n",
        "    current_sandwich = sandwich_orders.pop()\n",
        "    print(f\"I'm working on your {current_sandwich} sandwich.\")\n",
        "    finished_sandwiches.append(current_sandwich)\n",
        "\n",
        "print(\"\\n\")\n",
        "for sandwich in finished_sandwiches:\n",
        "    print(f\"I made a {sandwich} sandwich.\")"
      ],
      "metadata": {
        "colab": {
          "base_uri": "https://localhost:8080/"
        },
        "id": "Tponz0ve7K3i",
        "outputId": "8a980c58-378c-470c-8050-e9d02e006d27"
      },
      "execution_count": 47,
      "outputs": [
        {
          "output_type": "stream",
          "name": "stdout",
          "text": [
            "I'm working on your roast beef sandwich.\n",
            "I'm working on your turkey sandwich.\n",
            "I'm working on your grilled cheese sandwich.\n",
            "I'm working on your veggie sandwich.\n",
            "\n",
            "\n",
            "I made a roast beef sandwich.\n",
            "I made a turkey sandwich.\n",
            "I made a grilled cheese sandwich.\n",
            "I made a veggie sandwich.\n"
          ]
        }
      ]
    },
    {
      "cell_type": "code",
      "source": [
        "calc = True\n",
        "total = 0\n",
        "while calc == True:\n",
        "  number = input(f\"\\nPlease pick a number to add/subtract/divide/or multiply by {total}.\")\n",
        "  number = int(number)\n",
        "  sign = input(f\"\\nWould u like to - (subtract) from {total}, + (add) to it / (divide) {total} by it or * (multiply) it.\")\n",
        "  if sign == '-':\n",
        "    total = total - number\n",
        "    print(total)\n",
        "  if sign == '+':\n",
        "    total = total + number\n",
        "    print(total)\n",
        "  if sign == ('/'):\n",
        "    total = total / number\n",
        "    print(total)\n",
        "  if sign == ('*'):\n",
        "    total = total * number\n",
        "    print(total)\n",
        "\n"
      ],
      "metadata": {
        "id": "A6ohiwmq7WAw"
      },
      "execution_count": null,
      "outputs": []
    }
  ]
}