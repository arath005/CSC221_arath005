{
  "nbformat": 4,
  "nbformat_minor": 0,
  "metadata": {
    "colab": {
      "provenance": [],
      "authorship_tag": "ABX9TyMc/N/bjBVWy+sIS/DpoCnr",
      "include_colab_link": true
    },
    "kernelspec": {
      "name": "python3",
      "display_name": "Python 3"
    },
    "language_info": {
      "name": "python"
    }
  },
  "cells": [
    {
      "cell_type": "markdown",
      "metadata": {
        "id": "view-in-github",
        "colab_type": "text"
      },
      "source": [
        "<a href=\"https://colab.research.google.com/github/arath005/CSC221_arath005/blob/main/Assignment6.ipynb\" target=\"_parent\"><img src=\"https://colab.research.google.com/assets/colab-badge.svg\" alt=\"Open In Colab\"/></a>"
      ]
    },
    {
      "cell_type": "code",
      "execution_count": 2,
      "metadata": {
        "colab": {
          "base_uri": "https://localhost:8080/"
        },
        "id": "6FTtcdlfK1hQ",
        "outputId": "5dbeb76c-2c64-4a7b-b25c-168cd5614912"
      },
      "outputs": [
        {
          "output_type": "stream",
          "name": "stdout",
          "text": [
            "Audi\n",
            "BMW\n",
            "Subaru\n",
            "Toyota\n"
          ]
        }
      ],
      "source": [
        "cars = ['audi', 'bmw', 'subaru', 'toyota']\n",
        "\n",
        "for car in cars:\n",
        "  if car == 'bmw':\n",
        "    print(car.upper())\n",
        "  else:\n",
        "    print(car.title())\n"
      ]
    },
    {
      "cell_type": "code",
      "source": [
        "car = 'bmw'\n",
        "car == 'bmw'"
      ],
      "metadata": {
        "colab": {
          "base_uri": "https://localhost:8080/"
        },
        "id": "7o_FitchMTAb",
        "outputId": "ccb67c47-e729-437d-ae8e-6e44c74fc8ab"
      },
      "execution_count": 3,
      "outputs": [
        {
          "output_type": "execute_result",
          "data": {
            "text/plain": [
              "True"
            ]
          },
          "metadata": {},
          "execution_count": 3
        }
      ]
    },
    {
      "cell_type": "code",
      "source": [
        "car = 'audi'\n",
        "car == 'bmw'"
      ],
      "metadata": {
        "colab": {
          "base_uri": "https://localhost:8080/"
        },
        "id": "SPWEnY7CMWlu",
        "outputId": "ac033aa8-fdd3-4903-94f4-90fbd59397c9"
      },
      "execution_count": 4,
      "outputs": [
        {
          "output_type": "execute_result",
          "data": {
            "text/plain": [
              "False"
            ]
          },
          "metadata": {},
          "execution_count": 4
        }
      ]
    },
    {
      "cell_type": "code",
      "source": [
        "requested_topping = 'mushrooms'\n",
        "\n",
        "if requested_topping != 'anchovies':\n",
        "  print('Hold the anchovies!')"
      ],
      "metadata": {
        "colab": {
          "base_uri": "https://localhost:8080/"
        },
        "id": "CkkMak-DMhxH",
        "outputId": "54f2bdc1-7879-4110-921f-31ee04c5d3a0"
      },
      "execution_count": 7,
      "outputs": [
        {
          "output_type": "stream",
          "name": "stdout",
          "text": [
            "Hold the anchovies!\n"
          ]
        }
      ]
    },
    {
      "cell_type": "code",
      "source": [
        "age_0 = 22\n",
        "age_1 = 18\n",
        "age_0 >= 21 or age_1 >= 21\n",
        "age_0 = 18\n",
        "(age_0 >= 21) or (age_1 >= 21)"
      ],
      "metadata": {
        "colab": {
          "base_uri": "https://localhost:8080/"
        },
        "id": "W6bFrQLEOe7X",
        "outputId": "832898ab-8812-47d2-e10d-3cb0635d464e"
      },
      "execution_count": 15,
      "outputs": [
        {
          "output_type": "execute_result",
          "data": {
            "text/plain": [
              "False"
            ]
          },
          "metadata": {},
          "execution_count": 15
        }
      ]
    },
    {
      "cell_type": "code",
      "source": [
        "requested_toppings = ['mushrooms', 'onions', 'pineapple']\n",
        "'mushrooms' in requested_toppings\n",
        "\n",
        "'pepperoni' in requested_toppings"
      ],
      "metadata": {
        "colab": {
          "base_uri": "https://localhost:8080/"
        },
        "id": "QZqLoSYYO3b8",
        "outputId": "d916f2db-002d-41ed-9a69-4a39a4525a18"
      },
      "execution_count": 18,
      "outputs": [
        {
          "output_type": "execute_result",
          "data": {
            "text/plain": [
              "False"
            ]
          },
          "metadata": {},
          "execution_count": 18
        }
      ]
    },
    {
      "cell_type": "code",
      "source": [
        "banned_users = ['andrew', 'carolina', 'david']\n",
        "user = 'marie'\n",
        "if user not in banned_users:\n",
        "  print(f\"{user.title()}, you can post a response if you wish\")"
      ],
      "metadata": {
        "colab": {
          "base_uri": "https://localhost:8080/"
        },
        "id": "e1D6YkH7P5Cn",
        "outputId": "f129d3da-fcec-40a1-df91-88d766de20d2"
      },
      "execution_count": 20,
      "outputs": [
        {
          "output_type": "stream",
          "name": "stdout",
          "text": [
            "Marie, you can post a response if you wish\n"
          ]
        }
      ]
    },
    {
      "cell_type": "code",
      "source": [
        "game_active = True\n",
        "can_edit = False"
      ],
      "metadata": {
        "id": "uGMdwasEQXKN"
      },
      "execution_count": 22,
      "outputs": []
    },
    {
      "cell_type": "markdown",
      "source": [
        "5-1\n",
        "5-2\n"
      ],
      "metadata": {
        "id": "_CHdui7eQjLE"
      }
    },
    {
      "cell_type": "code",
      "source": [
        "car = 'camaro'\n",
        "print(\"Is car == 'camaro'? I predict True.\")\n",
        "print(car == 'camaro')\n",
        "\n",
        "print(\"\\nIs car == 'audi'? I predict False\")\n",
        "print(car == 'audi')"
      ],
      "metadata": {
        "colab": {
          "base_uri": "https://localhost:8080/"
        },
        "id": "x_CIhyPzQgOI",
        "outputId": "bebac691-abb4-4aa9-f333-1ffbd1e08598"
      },
      "execution_count": 24,
      "outputs": [
        {
          "output_type": "stream",
          "name": "stdout",
          "text": [
            "Is car == 'camaro'? I predict True.\n",
            "True\n",
            "\n",
            "Is car == 'audi'? I predict False\n",
            "False\n"
          ]
        }
      ]
    },
    {
      "cell_type": "code",
      "source": [
        "car = 'bmw'\n",
        "print(\"Is car == 'bmw'? I predict True.\")\n",
        "print(car == 'bmw')\n",
        "\n",
        "print(\"\\nIs car == 'toyota'? I predict False\")\n",
        "print(car == 'toyota')"
      ],
      "metadata": {
        "colab": {
          "base_uri": "https://localhost:8080/"
        },
        "id": "j1g0mmwdRKBS",
        "outputId": "f11b2288-bcbc-4d91-8bc2-f3f679fa6778"
      },
      "execution_count": 25,
      "outputs": [
        {
          "output_type": "stream",
          "name": "stdout",
          "text": [
            "Is car == 'bmw'? I predict True.\n",
            "True\n",
            "\n",
            "Is car == 'toyota'? I predict False\n",
            "False\n"
          ]
        }
      ]
    },
    {
      "cell_type": "code",
      "source": [
        "food = 'pizza'\n",
        "print(\"Is food == 'pizza'? I predict True.\")\n",
        "print(food == 'pizza')\n",
        "\n",
        "print(\"\\nIs food == 'pear'? I predict False\")\n",
        "print(food == 'pear')"
      ],
      "metadata": {
        "colab": {
          "base_uri": "https://localhost:8080/"
        },
        "id": "mjIBr4pXRa6g",
        "outputId": "08348d88-3394-46c3-8d4f-fdf8035ddee0"
      },
      "execution_count": 28,
      "outputs": [
        {
          "output_type": "stream",
          "name": "stdout",
          "text": [
            "Is food == 'pizza'? I predict True.\n",
            "True\n",
            "\n",
            "Is food == 'pear'? I predict False\n",
            "False\n"
          ]
        }
      ]
    },
    {
      "cell_type": "code",
      "source": [
        "food = 'hotdog'\n",
        "print(\"Is food == 'hotdog'? I predict True.\")\n",
        "print(food == 'hotdog')\n",
        "\n",
        "print(\"\\nIs food == 'apple'? I predict False\")\n",
        "print(food == 'apple')"
      ],
      "metadata": {
        "colab": {
          "base_uri": "https://localhost:8080/"
        },
        "id": "0r7gi7VARq2z",
        "outputId": "9eed29e0-3861-4992-d33b-2aed27a528b5"
      },
      "execution_count": 30,
      "outputs": [
        {
          "output_type": "stream",
          "name": "stdout",
          "text": [
            "Is food == 'hotdog'? I predict True.\n",
            "True\n",
            "\n",
            "Is food == 'apple'? I predict False\n",
            "False\n"
          ]
        }
      ]
    },
    {
      "cell_type": "code",
      "source": [
        "food = 'hamburger'\n",
        "print(\"Is food == 'hamburger'? I predict True.\")\n",
        "print(food == 'hamburger')\n",
        "\n",
        "print(\"\\nIs food == 'cheese'? I predict False\")\n",
        "print(food == 'cheese')"
      ],
      "metadata": {
        "colab": {
          "base_uri": "https://localhost:8080/"
        },
        "id": "OlDCgwZ7Rz3F",
        "outputId": "7fb026ef-6ffd-4a0b-87eb-a91839daf02c"
      },
      "execution_count": 32,
      "outputs": [
        {
          "output_type": "stream",
          "name": "stdout",
          "text": [
            "Is food == 'hamburger'? I predict True.\n",
            "True\n",
            "\n",
            "Is food == 'cheese'? I predict False\n",
            "False\n"
          ]
        }
      ]
    },
    {
      "cell_type": "code",
      "source": [
        "car = 'camaro'\n",
        "print(car == 'audi')\n",
        "print(car == 'camaro')"
      ],
      "metadata": {
        "colab": {
          "base_uri": "https://localhost:8080/"
        },
        "id": "SuWAOUrFR7Pd",
        "outputId": "7f40974a-d828-4c4f-fb93-d1207c662cd5"
      },
      "execution_count": 44,
      "outputs": [
        {
          "output_type": "stream",
          "name": "stdout",
          "text": [
            "False\n",
            "True\n"
          ]
        }
      ]
    },
    {
      "cell_type": "code",
      "source": [
        "cars = ['camaro', 'bmw', 'audi']\n",
        "for car in cars:\n",
        "  if car == 'bmw':\n",
        "    print(True)\n",
        "  else:\n",
        "    print(False)"
      ],
      "metadata": {
        "colab": {
          "base_uri": "https://localhost:8080/"
        },
        "id": "lbwiT0DBT4b0",
        "outputId": "6a9d6ea6-d09d-4d2e-dbde-bcef3b39b3f6"
      },
      "execution_count": 46,
      "outputs": [
        {
          "output_type": "stream",
          "name": "stdout",
          "text": [
            "False\n",
            "True\n",
            "False\n"
          ]
        }
      ]
    },
    {
      "cell_type": "code",
      "source": [
        "cars = ['camaro', 'bmw', 'audi']\n",
        "for car in cars:\n",
        "  if car == 'toyota':\n",
        "    print(True)\n",
        "  else:\n",
        "    print(False)"
      ],
      "metadata": {
        "colab": {
          "base_uri": "https://localhost:8080/"
        },
        "id": "2rBGf4pjUuBz",
        "outputId": "c918bddf-d1a8-4a1c-b15a-f0496f3852f3"
      },
      "execution_count": 49,
      "outputs": [
        {
          "output_type": "stream",
          "name": "stdout",
          "text": [
            "False\n",
            "False\n",
            "False\n"
          ]
        }
      ]
    },
    {
      "cell_type": "code",
      "source": [
        "cars = 'camaro'\n",
        "cars2 = 'toyota'\n",
        "if cars == ('camaro') and cars2 == ('toyota'):\n",
        "  print(True)\n",
        "else:\n",
        "  print(False)"
      ],
      "metadata": {
        "colab": {
          "base_uri": "https://localhost:8080/"
        },
        "id": "5HzW9ijvVAET",
        "outputId": "1927b601-2afc-421c-e339-80e744db0acf"
      },
      "execution_count": 55,
      "outputs": [
        {
          "output_type": "stream",
          "name": "stdout",
          "text": [
            "True\n"
          ]
        }
      ]
    },
    {
      "cell_type": "markdown",
      "source": [
        "5-3\n",
        "5-6"
      ],
      "metadata": {
        "id": "74UDEOG2V40-"
      }
    },
    {
      "cell_type": "code",
      "source": [
        "alien_color = 'green'\n",
        "if alien_color == 'green':\n",
        "  print('You gained 5 points')"
      ],
      "metadata": {
        "colab": {
          "base_uri": "https://localhost:8080/"
        },
        "id": "2myITMR0VnLk",
        "outputId": "72a85bcc-e209-451e-ae4b-c5326bd23882"
      },
      "execution_count": 60,
      "outputs": [
        {
          "output_type": "stream",
          "name": "stdout",
          "text": [
            "You gained 5 points\n"
          ]
        }
      ]
    },
    {
      "cell_type": "code",
      "source": [
        "age = 30\n",
        "if age < 2:\n",
        "  print('You are a baby.')\n",
        "elif age >= 2 and age < 4:\n",
        "  print('You are a toddler.')\n",
        "elif age >= 4 and age < 13:\n",
        "  print('You are a kid.')\n",
        "elif age >= 13 and age < 20:\n",
        "  print('You are a teenager.')\n",
        "elif age >= 20 and age < 60:\n",
        "  print('You are an adult.')\n",
        "else:\n",
        "  print('You are an elder')"
      ],
      "metadata": {
        "colab": {
          "base_uri": "https://localhost:8080/"
        },
        "id": "umJZHWPhWgQ4",
        "outputId": "b7409006-8c6b-452f-a4f6-4aa8187b2b7a"
      },
      "execution_count": 69,
      "outputs": [
        {
          "output_type": "stream",
          "name": "stdout",
          "text": [
            "You are an adult.\n"
          ]
        }
      ]
    },
    {
      "cell_type": "markdown",
      "source": [
        "5-13\n",
        "Not really a problem but i made a code that counts the amount of vowels used. I know we hav ent went over input really in this class but we used it in the lab class so i thought i could use it here"
      ],
      "metadata": {
        "id": "aB1_RghKX2EL"
      }
    },
    {
      "cell_type": "code",
      "source": [
        "a_count = 0\n",
        "e_count = 0\n",
        "i_count = 0\n",
        "o_count = 0\n",
        "u_count = 0\n",
        "\n",
        "user_input = input(\"Enter a string: \")\n",
        "\n",
        "user_input = user_input.lower()\n",
        "\n",
        "for char in user_input:\n",
        "    if char == 'a':\n",
        "        a_count += 1\n",
        "    elif char == 'e':\n",
        "        e_count += 1\n",
        "    elif char == 'i':\n",
        "        i_count += 1\n",
        "    elif char == 'o':\n",
        "        o_count += 1\n",
        "    elif char == 'u':\n",
        "        u_count += 1\n",
        "\n",
        "print(\"Number of 'a' in the string:\", a_count)\n",
        "print(\"Number of 'e' in the string:\", e_count)\n",
        "print(\"Number of 'i' in the string:\", i_count)\n",
        "print(\"Number of 'o' in the string:\", o_count)\n",
        "print(\"Number of 'u' in the string:\", u_count)\n",
        "\n",
        "\n",
        "\n",
        "\n",
        "\n"
      ],
      "metadata": {
        "colab": {
          "base_uri": "https://localhost:8080/"
        },
        "id": "tTrApVHnXu0z",
        "outputId": "d3b5b9bc-a00d-4820-c115-0ab8f365c63f"
      },
      "execution_count": 77,
      "outputs": [
        {
          "output_type": "stream",
          "name": "stdout",
          "text": [
            "Enter a string: hello guys i am very bored today\n",
            "Number of 'a' in the string: 2\n",
            "Number of 'e' in the string: 3\n",
            "Number of 'i' in the string: 1\n",
            "Number of 'o' in the string: 3\n",
            "Number of 'u' in the string: 1\n"
          ]
        }
      ]
    }
  ]
}