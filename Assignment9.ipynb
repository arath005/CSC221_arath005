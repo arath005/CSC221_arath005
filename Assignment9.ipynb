{
  "nbformat": 4,
  "nbformat_minor": 0,
  "metadata": {
    "colab": {
      "provenance": [],
      "authorship_tag": "ABX9TyOkekU5xmOlznwn3XjuFN6C",
      "include_colab_link": true
    },
    "kernelspec": {
      "name": "python3",
      "display_name": "Python 3"
    },
    "language_info": {
      "name": "python"
    }
  },
  "cells": [
    {
      "cell_type": "markdown",
      "metadata": {
        "id": "view-in-github",
        "colab_type": "text"
      },
      "source": [
        "<a href=\"https://colab.research.google.com/github/arath005/CSC221_arath005/blob/main/Assignment9.ipynb\" target=\"_parent\"><img src=\"https://colab.research.google.com/assets/colab-badge.svg\" alt=\"Open In Colab\"/></a>"
      ]
    },
    {
      "cell_type": "markdown",
      "source": [
        "8-2"
      ],
      "metadata": {
        "id": "6drkV8HNJvTQ"
      }
    },
    {
      "cell_type": "code",
      "execution_count": 4,
      "metadata": {
        "colab": {
          "base_uri": "https://localhost:8080/"
        },
        "id": "J65p_ZGhJtXf",
        "outputId": "91eaddcc-4309-4967-a2ab-07fe43fe41c5"
      },
      "outputs": [
        {
          "output_type": "stream",
          "name": "stdout",
          "text": [
            "One of my favorit books is Alice in Wonderland.\n"
          ]
        }
      ],
      "source": [
        "def favorite_book(title):\n",
        "  print(f\"One of my favorit books is {title}.\")\n",
        "\n",
        "favorite_book(\"Alice in Wonderland\")"
      ]
    },
    {
      "cell_type": "markdown",
      "source": [
        "8-3"
      ],
      "metadata": {
        "id": "frAh86crJxz3"
      }
    },
    {
      "cell_type": "code",
      "source": [
        "def make_shirt(size, message):\n",
        "  \"\"\"sumarize the shirts thats going to be made\"\"\"\n",
        "  print(f\"I'm going to make a {size} t-shirt.\")\n",
        "  print(f'It will say \"{message}\"')\n",
        "\n",
        "make_shirt('large', 'Hello')\n",
        "make_shirt(message=\"Hi\", size='medium')"
      ],
      "metadata": {
        "colab": {
          "base_uri": "https://localhost:8080/"
        },
        "id": "Rln6u_mVJ33q",
        "outputId": "bb58436e-aea3-4c4e-ca94-d4bd8795a454"
      },
      "execution_count": 7,
      "outputs": [
        {
          "output_type": "stream",
          "name": "stdout",
          "text": [
            "I'm going to make a large t-shirt.\n",
            "It will say \"Hello\"\n",
            "I'm going to make a medium t-shirt.\n",
            "It will say \"Hi\"\n"
          ]
        }
      ]
    },
    {
      "cell_type": "markdown",
      "source": [
        "8-4"
      ],
      "metadata": {
        "id": "hR80RYWoJ0r1"
      }
    },
    {
      "cell_type": "code",
      "source": [
        "def make_shirt(size='large', message='I love Python!'):\n",
        "    \"\"\"Summarize the shirt that's going to be made.\"\"\"\n",
        "    print(f\"\\nI'm going to make a {size} t-shirt.\")\n",
        "    print(f'It will say, \"{message}\"')\n",
        "\n",
        "make_shirt()\n",
        "make_shirt(size='medium')\n",
        "make_shirt('small', 'Quack')"
      ],
      "metadata": {
        "colab": {
          "base_uri": "https://localhost:8080/"
        },
        "id": "HZ6TYTNDJ4Ni",
        "outputId": "b333b78f-f53a-42e0-d75a-0325f1b9bf88"
      },
      "execution_count": 10,
      "outputs": [
        {
          "output_type": "stream",
          "name": "stdout",
          "text": [
            "\n",
            "I'm going to make a large t-shirt.\n",
            "It will say, \"I love Python!\"\n",
            "\n",
            "I'm going to make a medium t-shirt.\n",
            "It will say, \"I love Python!\"\n",
            "\n",
            "I'm going to make a small t-shirt.\n",
            "It will say, \"Quack\"\n"
          ]
        }
      ]
    },
    {
      "cell_type": "markdown",
      "source": [
        "8-14"
      ],
      "metadata": {
        "id": "O3mtrBu9J2Ud"
      }
    },
    {
      "cell_type": "code",
      "source": [
        "def make_car(manufacturer, model, **options):\n",
        "    \"\"\"Make a dictionary representing a car.\"\"\"\n",
        "    car_dict = {\n",
        "        'manufacturer': manufacturer.title(),\n",
        "        'model': model.title(),\n",
        "        }\n",
        "    for option, value in options.items():\n",
        "        car_dict[option] = value\n",
        "\n",
        "    return car_dict\n",
        "\n",
        "my_outback = make_car('subaru', 'outback', color='blue', tow_package=True)\n",
        "print(my_outback)\n",
        "\n",
        "my_old_accord = make_car('honda', 'accord', year=1991, color='white',\n",
        "        headlights='popup')\n",
        "print(my_old_accord)"
      ],
      "metadata": {
        "colab": {
          "base_uri": "https://localhost:8080/"
        },
        "id": "RYukC2zhJ4o5",
        "outputId": "b6ff47cf-30fd-43c4-9f90-f01d0b9adc18"
      },
      "execution_count": 11,
      "outputs": [
        {
          "output_type": "stream",
          "name": "stdout",
          "text": [
            "{'manufacturer': 'Subaru', 'model': 'Outback', 'color': 'blue', 'tow_package': True}\n",
            "{'manufacturer': 'Honda', 'model': 'Accord', 'year': 1991, 'color': 'white', 'headlights': 'popup'}\n"
          ]
        }
      ]
    },
    {
      "cell_type": "code",
      "source": [
        "def math(num1, num2= 3.141592653):\n",
        "  print(f\"The sum of {num1} and {num2} is {num1 + num2}\")\n",
        "  num_list = [num1, num2]\n",
        "  num_list.sort()\n",
        "  print(num_list)\n",
        "\n",
        "math(1, 3)\n",
        "math(3)\n",
        "math(124, 973913)\n",
        "math(1038383098, 345)"
      ],
      "metadata": {
        "colab": {
          "base_uri": "https://localhost:8080/"
        },
        "id": "4kT9_vfKMHnP",
        "outputId": "36f40362-4516-4886-de0c-67746f3844fa"
      },
      "execution_count": 20,
      "outputs": [
        {
          "output_type": "stream",
          "name": "stdout",
          "text": [
            "The sum of 1 and 3 is 4\n",
            "[1, 3]\n",
            "The sum of 3 and 3.141592653 is 6.141592653\n",
            "[3, 3.141592653]\n",
            "The sum of 124 and 973913 is 974037\n",
            "[124, 973913]\n",
            "The sum of 1038383098 and 345 is 1038383443\n",
            "[345, 1038383098]\n"
          ]
        }
      ]
    },
    {
      "cell_type": "code",
      "source": [
        "def math(num1, num2=3.141592653, verbose=True):\n",
        "    if verbose:\n",
        "        print(f\"The sum of {num1} and {num2} is {num1 + num2}\")\n",
        "        num_list = [num1, num2]\n",
        "        num_list.sort()\n",
        "        print(num_list)\n",
        "math(1, 3, False)\n",
        "math(3, )\n",
        "math(124, 973913, False)\n",
        "math(1038383098, 345, True)"
      ],
      "metadata": {
        "colab": {
          "base_uri": "https://localhost:8080/"
        },
        "id": "QtGq6IwDOSX1",
        "outputId": "b4eddf1d-b7a0-4328-a9a0-962735e80d44"
      },
      "execution_count": 42,
      "outputs": [
        {
          "output_type": "stream",
          "name": "stdout",
          "text": [
            "The sum of 3 and 3.141592653 is 6.141592653\n",
            "[3, 3.141592653]\n",
            "The sum of 1038383098 and 345 is 1038383443\n",
            "[345, 1038383098]\n"
          ]
        }
      ]
    }
  ]
}