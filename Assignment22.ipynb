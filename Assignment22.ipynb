{
  "nbformat": 4,
  "nbformat_minor": 0,
  "metadata": {
    "colab": {
      "provenance": [],
      "authorship_tag": "ABX9TyMpROEWfWR2DdOT6e9muBnE",
      "include_colab_link": true
    },
    "kernelspec": {
      "name": "python3",
      "display_name": "Python 3"
    },
    "language_info": {
      "name": "python"
    }
  },
  "cells": [
    {
      "cell_type": "markdown",
      "metadata": {
        "id": "view-in-github",
        "colab_type": "text"
      },
      "source": [
        "<a href=\"https://colab.research.google.com/github/arath005/CSC221_arath005/blob/main/Assignment22.ipynb\" target=\"_parent\"><img src=\"https://colab.research.google.com/assets/colab-badge.svg\" alt=\"Open In Colab\"/></a>"
      ]
    },
    {
      "cell_type": "code",
      "execution_count": 1,
      "metadata": {
        "colab": {
          "base_uri": "https://localhost:8080/"
        },
        "id": "o75Q6wCwc7as",
        "outputId": "3586312c-d384-4e9e-d3aa-2ba6a5e5d846"
      },
      "outputs": [
        {
          "output_type": "stream",
          "name": "stdout",
          "text": [
            "Original Vectors:\n",
            "(3, 4)\n",
            "(-1, 2)\n",
            "(0, 5)\n",
            "(-3, -1)\n",
            "\n",
            "Sorted Vectors by Length:\n",
            "(-1, 2)\n",
            "(-3, -1)\n",
            "(3, 4)\n",
            "(0, 5)\n"
          ]
        }
      ],
      "source": [
        "import math\n",
        "\n",
        "class Vector2D:\n",
        "    def __init__(self, x, y):\n",
        "        self.x = x\n",
        "        self.y = y\n",
        "\n",
        "    def __str__(self):\n",
        "        return f\"({self.x}, {self.y})\"\n",
        "\n",
        "    def __lt__(self, other):\n",
        "        return self.length() < other.length()\n",
        "\n",
        "    def length(self):\n",
        "        return math.sqrt(self.x**2 + self.y**2)\n",
        "\n",
        "vectors = [\n",
        "    Vector2D(3, 4),\n",
        "    Vector2D(-1, 2),\n",
        "    Vector2D(0, 5),\n",
        "    Vector2D(-3, -1)\n",
        "]\n",
        "\n",
        "print(\"Original Vectors:\")\n",
        "for vector in vectors:\n",
        "    print(vector)\n",
        "\n",
        "sorted_vectors = sorted(vectors)\n",
        "print(\"\\nSorted Vectors by Length:\")\n",
        "for vector in sorted_vectors:\n",
        "    print(vector)\n"
      ]
    },
    {
      "cell_type": "code",
      "source": [
        "class Vector2D:\n",
        "    def __init__(self, x, y):\n",
        "        self.x = x\n",
        "        self.y = y\n",
        "\n",
        "    def __str__(self):\n",
        "        return f\"({self.x}, {self.y})\"\n",
        "\n",
        "    def __lt__(self, other):\n",
        "        return (self.x + self.y) < (other.x + other.y)\n",
        "\n",
        "vectors = [\n",
        "    Vector2D(3, 4),\n",
        "    Vector2D(-1, 2),\n",
        "    Vector2D(0, 5),\n",
        "    Vector2D(-3, -1)\n",
        "]\n",
        "\n",
        "print(\"Original Vectors:\")\n",
        "for vector in vectors:\n",
        "    print(vector)\n",
        "\n",
        "sorted_vectors = sorted(vectors)\n",
        "print(\"\\nSorted Vectors by Euclidean Length:\")\n",
        "for vector in sorted_vectors:\n",
        "    print(vector)\n"
      ],
      "metadata": {
        "colab": {
          "base_uri": "https://localhost:8080/"
        },
        "id": "HEAkvAqGdQEL",
        "outputId": "f8d51242-f723-482c-ec03-925cf177b44c"
      },
      "execution_count": 2,
      "outputs": [
        {
          "output_type": "stream",
          "name": "stdout",
          "text": [
            "Original Vectors:\n",
            "(3, 4)\n",
            "(-1, 2)\n",
            "(0, 5)\n",
            "(-3, -1)\n",
            "\n",
            "Sorted Vectors by Euclidean Length:\n",
            "(-3, -1)\n",
            "(-1, 2)\n",
            "(0, 5)\n",
            "(3, 4)\n"
          ]
        }
      ]
    },
    {
      "cell_type": "code",
      "source": [
        "class Special:\n",
        "    def __getitem__(self, key):\n",
        "        return len(key)\n",
        "\n",
        "\n",
        "s1 = Special()\n",
        "print(s1[\"ned\"])\n",
        "print(s1[\"ned2\"])\n",
        "print(s1[\"ned2\" * 5])\n",
        "print(s1[\"alexander\" * 9])\n"
      ],
      "metadata": {
        "colab": {
          "base_uri": "https://localhost:8080/"
        },
        "id": "uzunhJFAdQOT",
        "outputId": "7544706e-4e7c-495e-85da-9a39a045a62a"
      },
      "execution_count": 4,
      "outputs": [
        {
          "output_type": "stream",
          "name": "stdout",
          "text": [
            "3\n",
            "4\n",
            "20\n",
            "81\n"
          ]
        }
      ]
    }
  ]
}