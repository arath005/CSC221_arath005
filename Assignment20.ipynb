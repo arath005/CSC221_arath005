{
  "nbformat": 4,
  "nbformat_minor": 0,
  "metadata": {
    "colab": {
      "provenance": [],
      "include_colab_link": true
    },
    "kernelspec": {
      "name": "python3",
      "display_name": "Python 3"
    },
    "language_info": {
      "name": "python"
    }
  },
  "cells": [
    {
      "cell_type": "markdown",
      "metadata": {
        "id": "view-in-github",
        "colab_type": "text"
      },
      "source": [
        "<a href=\"https://colab.research.google.com/github/arath005/CSC221_arath005/blob/main/Assignment20.ipynb\" target=\"_parent\"><img src=\"https://colab.research.google.com/assets/colab-badge.svg\" alt=\"Open In Colab\"/></a>"
      ]
    },
    {
      "cell_type": "markdown",
      "source": [
        "# Assignment 20\n",
        "## CSC 221\n",
        "- PLEASE INSERT YOUR NAME HERE!\n",
        "\n",
        "### Instructions:\n",
        "Fill in each code cell below the question. We are following along in Chapter 4 of Python Distilled."
      ],
      "metadata": {
        "id": "IAOUzGWE1eDx"
      }
    },
    {
      "cell_type": "code",
      "execution_count": 1,
      "metadata": {
        "id": "Gnj3su7i5-lx",
        "colab": {
          "base_uri": "https://localhost:8080/"
        },
        "outputId": "8ddc3322-2c46-4042-f39a-c5f4ef7f218f"
      },
      "outputs": [
        {
          "output_type": "stream",
          "name": "stdout",
          "text": [
            "19\n",
            "44.5\n",
            "asdfg13\n"
          ]
        }
      ],
      "source": [
        "# 4.1 Essential Concepts\n",
        "\n",
        "# When we write \"a + b\" in Python, the interpreter tries to execute a.__add__(b)\n",
        "\n",
        "# Show that this is true by trying the following:\n",
        "a = 6\n",
        "b = 31.5\n",
        "c = 'asdfg'\n",
        "a1 = a.__add__(13)\n",
        "b1 = b.__add__(13)\n",
        "c1 = c.__add__('13')\n",
        "print(a1)\n",
        "print(b1)\n",
        "print(c1)\n",
        "\n",
        "# What are the types of a, b, and c?\n",
        "# a is an integer, b is a float, c is a string\n",
        "\n",
        "# Explain the results\n",
        "# a is just 6 + 13 so a1 will be 19\n",
        "# b is also just adding 31.5 to 13 which is 44.5\n",
        "# c will concatenate the string '13' to 'asdfg' so c1 will be 'asdfg13'"
      ]
    },
    {
      "cell_type": "code",
      "source": [
        "# 4.2 through 4.4 will be covered in the next assignment\n"
      ],
      "metadata": {
        "id": "w2uYd3DO2do6"
      },
      "execution_count": null,
      "outputs": []
    },
    {
      "cell_type": "code",
      "source": [
        "# 4.5 str and repr\n",
        "# How many categpries of printing are shown below for a datetime object?\n",
        "# What in the Pythion code makes each one get callled?\n",
        "\n",
        "from datetime import date\n",
        "d = date(2023, 11, 7)\n",
        "\n",
        "#print(d)\n",
        "#print(f'{d}')\n",
        "#print(f'{d!s}')\n",
        "#print(f'{d!r}')\n",
        "#print(str(d))\n",
        "#print(repr(d))\n",
        "#print(d.__str__())\n",
        "#print(d.__repr__())\n",
        "\n",
        "# there are 2 different ways of printing shown here, one using the f-string, and the second kind was using the __str__ and __repr__\n",
        "# not positive what the second one is asking, i think its either print or what i said in the previous question"
      ],
      "metadata": {
        "id": "Aa3ylzmV2wNF"
      },
      "execution_count": null,
      "outputs": []
    },
    {
      "cell_type": "code",
      "source": [
        "# 4.6 First-Class Objects\n",
        "# What is the significance of all objects being \"first-class\" in Python?\n",
        "#it can be used to write some very compact and flexible code\n",
        "items = {\n",
        "    'number': 42,\n",
        "    'text': \"Hello World\"\n",
        "}\n",
        "\n",
        "number_value = items['number']\n",
        "text_value = items['text']\n",
        "print(number_value)\n",
        "print(text_value)\n",
        "\n",
        "def display_value(value):\n",
        "    print(value)\n",
        "\n",
        "display_value(items['number'])\n",
        "display_value(items['text'])\n",
        "\n",
        "def get_value(key):\n",
        "    return items[key]\n",
        "\n",
        "result = get_value('number')\n",
        "print(result)\n",
        "\n",
        "items['new_number'] = 100\n",
        "print(items)\n",
        "\n",
        "\n",
        "# Explain by typing in the code to create and use the 'items' dictionary shown in section 4.6.\n",
        "# Explain each of the lines starting with '>>>' in the section.\n",
        "#>>> items['func'](-45)\n",
        "#This line executes the function stored in the 'func' key of the items\n",
        "#dictionary with the argument -45. In this case, it appears to be the abs\n",
        "#function, so it returns the absolute value of -45, which is 45\n",
        "\n",
        "#>>> items['mod'].sqrt(4)\n",
        "\n",
        "#Here, it calls the sqrt method of the object stored in the 'mod' key of\n",
        "#the items dictionary. It seems to be the math module,\n",
        "#and it calculates the square root of 4, resulting in 2.0.\n",
        "\n",
        "#>>> try: ... except items['error'] as e: ...\n",
        "\n",
        "#This block attempts to execute the code inside the try block.\n",
        "#If an exception of the type stored in the 'error' key of the\n",
        "#items dictionary occurs it catches the exception and prints \"Couldn't convert.\"\n",
        "\n",
        "#>>> items['append'](100)\n",
        "\n",
        "#It calls the append method of the object stored in the 'append' key of the\n",
        "#items dictionary. It appears to modify a list named nums,\n",
        "#adding the value 100 to the end of the list.\n",
        "\n",
        "#>>> nums\n",
        "\n",
        "#Prints the content of the nums list after the previous modification.\n",
        "\n",
        "#>>> line = 'ACME,100,490.10'\n",
        "\n",
        "#Initializes a string variable named line with the value 'ACME,100,490.10'.\n",
        "\n",
        "#>>> column_types = [str, int, float]\n",
        "\n",
        "#Creates a list of types [str, int, float] to represent the desired types for\n",
        "#each part of the string when it's split.\n",
        "\n",
        "#>>> parts = line.split(',')\n",
        "\n",
        "#Splits the string line using ',' as the delimiter and stores the parts in\n",
        "#the parts list.\n",
        "\n",
        "#>>> row = [ty(val) for ty, val in zip(column_types, parts)]\n",
        "\n",
        "#Uses a list comprehension to convert each part of the string to its\n",
        "#corresponding type, creating a new list named row.\n",
        "\n",
        "#>>> row\n",
        "\n",
        "#Prints the resulting row list, which contains the values with appropriate\n",
        "#type conversions.\n"
      ],
      "metadata": {
        "id": "9LRpP06Vsw6n",
        "colab": {
          "base_uri": "https://localhost:8080/"
        },
        "outputId": "7df3b879-ceff-4e79-b4db-dbc32627eda6"
      },
      "execution_count": 5,
      "outputs": [
        {
          "output_type": "stream",
          "name": "stdout",
          "text": [
            "42\n",
            "Hello World\n",
            "42\n",
            "Hello World\n",
            "42\n",
            "{'number': 42, 'text': 'Hello World', 'new_number': 100}\n"
          ]
        }
      ]
    },
    {
      "cell_type": "code",
      "source": [
        "# 4.7 Using None\n",
        "# Write a function that takes two parameters and returns their sum if they are\n",
        "#  integers or returns None if either one is not.\n",
        "\n",
        "# Put in some test code to show that your function works\n",
        "\n",
        "def sum_integers(a, b):\n",
        "    if isinstance(a, int) and isinstance(b, int):\n",
        "        return a + b\n",
        "    else:\n",
        "        return None\n",
        "\n",
        "result1 = sum_integers(3, 5)\n",
        "result2 = sum_integers('hello', 5)\n",
        "result3 = sum_integers(8, 'world')\n",
        "result4 = sum_integers('not', 'int')\n",
        "\n",
        "print(result1)\n",
        "print(result2)\n",
        "print(result3)\n",
        "print(result4)\n"
      ],
      "metadata": {
        "id": "dUhRWGnCtewU",
        "colab": {
          "base_uri": "https://localhost:8080/"
        },
        "outputId": "726bbe9e-5386-4176-fd56-e87405f90a91"
      },
      "execution_count": 6,
      "outputs": [
        {
          "output_type": "stream",
          "name": "stdout",
          "text": [
            "8\n",
            "None\n",
            "None\n",
            "None\n"
          ]
        }
      ]
    },
    {
      "cell_type": "code",
      "source": [
        "# 4.9 Object Protocol\n",
        "# Create a simple object that has methods for:\n",
        "#  __new__\n",
        "#  __init__\n",
        "#  __del__\n",
        "#  __repr__\n",
        "#  __str__\n",
        "\n",
        "# Put in some test code to show how and when each of these 'magic' functions gets called.\n",
        "\n",
        "class SimpleObject:\n",
        "    def __new__(cls, *args, **kwargs):\n",
        "        print(\"__new__ called\")\n",
        "        instance = super().__new__(cls)\n",
        "        return instance\n",
        "\n",
        "    def __init__(self, value):\n",
        "        print(\"__init__ called\")\n",
        "        self.value = value\n",
        "\n",
        "    def __del__(self):\n",
        "        print(\"__del__ called\")\n",
        "\n",
        "    def __repr__(self):\n",
        "        return f\"SimpleObject({self.value})\"\n",
        "\n",
        "    def __str__(self):\n",
        "        return f\"SimpleObject with value: {self.value}\"\n",
        "\n",
        "obj = SimpleObject(42)\n",
        "\n",
        "print(repr(obj))\n",
        "\n",
        "print(str(obj))\n",
        "\n",
        "del obj\n"
      ],
      "metadata": {
        "id": "4M-CQevEt2xQ",
        "colab": {
          "base_uri": "https://localhost:8080/"
        },
        "outputId": "4cba86f7-bbca-41f2-ae15-bddbc5083f7d"
      },
      "execution_count": 20,
      "outputs": [
        {
          "output_type": "stream",
          "name": "stdout",
          "text": [
            "__new__ called\n",
            "__init__ called\n",
            "SimpleObject(42)\n",
            "SimpleObject with value: 42\n",
            "__del__ called\n"
          ]
        }
      ]
    }
  ]
}