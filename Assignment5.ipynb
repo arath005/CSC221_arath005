{
  "nbformat": 4,
  "nbformat_minor": 0,
  "metadata": {
    "colab": {
      "provenance": [],
      "authorship_tag": "ABX9TyPqOsW4XUiYGoY2Y+wGlAuY",
      "include_colab_link": true
    },
    "kernelspec": {
      "name": "python3",
      "display_name": "Python 3"
    },
    "language_info": {
      "name": "python"
    }
  },
  "cells": [
    {
      "cell_type": "markdown",
      "metadata": {
        "id": "view-in-github",
        "colab_type": "text"
      },
      "source": [
        "<a href=\"https://colab.research.google.com/github/arath005/CSC221_arath005/blob/main/Assignment5.ipynb\" target=\"_parent\"><img src=\"https://colab.research.google.com/assets/colab-badge.svg\" alt=\"Open In Colab\"/></a>"
      ]
    },
    {
      "cell_type": "code",
      "execution_count": 2,
      "metadata": {
        "colab": {
          "base_uri": "https://localhost:8080/"
        },
        "id": "_XXsV2_oe7qN",
        "outputId": "ab23d1f0-d4fa-430f-cb3f-a6267232368b"
      },
      "outputs": [
        {
          "output_type": "stream",
          "name": "stdout",
          "text": [
            "alice\n",
            "david\n",
            "caroline\n"
          ]
        }
      ],
      "source": [
        "magicians = ['alice', 'david', 'caroline']\n",
        "for magician in magicians:\n",
        "  print(magician)"
      ]
    },
    {
      "cell_type": "code",
      "source": [
        "magicians = ['alice', 'david', 'caroline']\n",
        "for magician in magicians:\n",
        "  print(f\"{magician.title()}, that was a great trick!\")\n",
        "  print(f\"I cant wait for your next trick, {magician.title()}.\\n\")\n",
        "\n",
        "print(\"Thank your, everyone. That was a great magic show.\")"
      ],
      "metadata": {
        "colab": {
          "base_uri": "https://localhost:8080/"
        },
        "id": "FRJHZmntfuiG",
        "outputId": "2d6430a2-405e-4853-e23b-04cb72d02e18"
      },
      "execution_count": 6,
      "outputs": [
        {
          "output_type": "stream",
          "name": "stdout",
          "text": [
            "Alice, that was a great trick!\n",
            "I cant wait for your next trick, Alice.\n",
            "\n",
            "David, that was a great trick!\n",
            "I cant wait for your next trick, David.\n",
            "\n",
            "Caroline, that was a great trick!\n",
            "I cant wait for your next trick, Caroline.\n",
            "\n",
            "Thank your, everyone. That was a great magic show\n"
          ]
        }
      ]
    },
    {
      "cell_type": "markdown",
      "source": [
        "4-1\n",
        "4-2"
      ],
      "metadata": {
        "id": "5EnndfjfhD8S"
      }
    },
    {
      "cell_type": "code",
      "source": [
        "tops = [\"pepperoni\", \"meatball\", \"mushroom\"]\n",
        "for top in tops:\n",
        "  print('I love', top, 'pizza.')\n",
        "print('I really love pizza!')"
      ],
      "metadata": {
        "colab": {
          "base_uri": "https://localhost:8080/"
        },
        "id": "XcgYUC0qhAjI",
        "outputId": "c0aa2b64-3502-4bc9-9b81-34ca005dd19d"
      },
      "execution_count": 13,
      "outputs": [
        {
          "output_type": "stream",
          "name": "stdout",
          "text": [
            "I love pepperoni pizza\n",
            "I love meatball pizza\n",
            "I love mushroom pizza\n",
            "I really love pizza!\n"
          ]
        }
      ]
    },
    {
      "cell_type": "code",
      "source": [
        "pets = ['dog', 'cat', 'duck']\n",
        "for pet in pets:\n",
        "  print('A', pet, 'would make a great pet.')\n",
        "print('All of these animals are very fluffy and like to be pet')"
      ],
      "metadata": {
        "colab": {
          "base_uri": "https://localhost:8080/"
        },
        "id": "zwJiWYfOiJbq",
        "outputId": "4a025e5b-ed95-4e0b-cf49-6dadcdeb86e6"
      },
      "execution_count": 16,
      "outputs": [
        {
          "output_type": "stream",
          "name": "stdout",
          "text": [
            "A dog would make a great pet.\n",
            "A cat would make a great pet.\n",
            "A duck would make a great pet.\n",
            "All of these animals are very fluffy and like to be pet\n"
          ]
        }
      ]
    },
    {
      "cell_type": "code",
      "source": [
        "for value in range(1, 6):\n",
        "  print(value)"
      ],
      "metadata": {
        "colab": {
          "base_uri": "https://localhost:8080/"
        },
        "id": "mIRxYgRJi2eL",
        "outputId": "f7e470ab-267f-4760-9c28-b70e15233963"
      },
      "execution_count": 19,
      "outputs": [
        {
          "output_type": "stream",
          "name": "stdout",
          "text": [
            "1\n",
            "2\n",
            "3\n",
            "4\n",
            "5\n"
          ]
        }
      ]
    },
    {
      "cell_type": "code",
      "source": [
        "numbers = list(range(1, 6))\n",
        "print(numbers)"
      ],
      "metadata": {
        "colab": {
          "base_uri": "https://localhost:8080/"
        },
        "id": "JNiYU_i9jGlJ",
        "outputId": "f4b603e3-f6bc-4947-a7d2-a7964daed9b6"
      },
      "execution_count": 21,
      "outputs": [
        {
          "output_type": "stream",
          "name": "stdout",
          "text": [
            "[1, 2, 3, 4, 5]\n"
          ]
        }
      ]
    },
    {
      "cell_type": "code",
      "source": [
        "even_numbers = list(range(2, 11, 2))\n",
        "print(even_numbers)"
      ],
      "metadata": {
        "colab": {
          "base_uri": "https://localhost:8080/"
        },
        "id": "ouADAcXJjQhj",
        "outputId": "e26537d2-0fdd-4540-b3a2-f5c3685dfdc8"
      },
      "execution_count": 49,
      "outputs": [
        {
          "output_type": "stream",
          "name": "stdout",
          "text": [
            "[2, 4, 6, 8, 10]\n"
          ]
        }
      ]
    },
    {
      "cell_type": "code",
      "source": [
        "squares = []\n",
        "for value in range(1, 11):\n",
        "  squares.append(value**2)\n",
        "print(squares)"
      ],
      "metadata": {
        "colab": {
          "base_uri": "https://localhost:8080/"
        },
        "id": "LBo7bw4QjZtV",
        "outputId": "9700c186-e55c-44a4-868c-9bab77087989"
      },
      "execution_count": 29,
      "outputs": [
        {
          "output_type": "stream",
          "name": "stdout",
          "text": [
            "[1, 4, 9, 16, 25, 36, 49, 64, 81, 100]\n"
          ]
        }
      ]
    },
    {
      "cell_type": "code",
      "source": [
        "digits = [1, 2, 3, 4, 5, 6, 7, 8, 9, 0]\n",
        "min(digits)\n",
        "max(digits)\n",
        "sum(digits)"
      ],
      "metadata": {
        "colab": {
          "base_uri": "https://localhost:8080/"
        },
        "id": "Jl66KwU-lvof",
        "outputId": "5acfd293-615a-4d4d-f94c-58ea9895e18a"
      },
      "execution_count": 34,
      "outputs": [
        {
          "output_type": "execute_result",
          "data": {
            "text/plain": [
              "45"
            ]
          },
          "metadata": {},
          "execution_count": 34
        }
      ]
    },
    {
      "cell_type": "code",
      "source": [
        "squares = [value**2 for value in range(1,11)]\n",
        "print(squares)"
      ],
      "metadata": {
        "colab": {
          "base_uri": "https://localhost:8080/"
        },
        "id": "uIOQ0q1-mDlz",
        "outputId": "46ab22a5-9302-45a2-ef4a-d816a6e9835d"
      },
      "execution_count": 35,
      "outputs": [
        {
          "output_type": "stream",
          "name": "stdout",
          "text": [
            "[1, 4, 9, 16, 25, 36, 49, 64, 81, 100]\n"
          ]
        }
      ]
    },
    {
      "cell_type": "markdown",
      "source": [
        "4-3\n",
        "4-4 said notebook limit was too small didnt know how to fix\n",
        "4-5\n",
        "4-6\n",
        "4-7\n",
        "4-9\n",
        "\n",
        "```\n",
        "# This is formatted as code\n",
        "```\n",
        "\n"
      ],
      "metadata": {
        "id": "CAp7exwTmSdx"
      }
    },
    {
      "cell_type": "code",
      "source": [
        "digs = []\n",
        "for value in range(1,21):\n",
        "  digs.append(value)\n",
        "print(digs)"
      ],
      "metadata": {
        "colab": {
          "base_uri": "https://localhost:8080/"
        },
        "id": "B2DfsS3FmTGC",
        "outputId": "b4cd1510-3798-4d8b-ec16-716076bb558a"
      },
      "execution_count": 37,
      "outputs": [
        {
          "output_type": "stream",
          "name": "stdout",
          "text": [
            "[1, 2, 3, 4, 5, 6, 7, 8, 9, 10, 11, 12, 13, 14, 15, 16, 17, 18, 19, 20]\n"
          ]
        }
      ]
    },
    {
      "cell_type": "code",
      "source": [
        "digs = []\n",
        "for value in range(1,1000001):\n",
        "  digs.append(value)\n",
        "print(digs)"
      ],
      "metadata": {
        "colab": {
          "base_uri": "https://localhost:8080/"
        },
        "id": "HE_-VHRnm4uo",
        "outputId": "b214fcc6-307a-481a-b749-ff95a1ebbf40"
      },
      "execution_count": 43,
      "outputs": [
        {
          "output_type": "stream",
          "name": "stderr",
          "text": [
            "IOPub data rate exceeded.\n",
            "The notebook server will temporarily stop sending output\n",
            "to the client in order to avoid crashing it.\n",
            "To change this limit, set the config variable\n",
            "`--NotebookApp.iopub_data_rate_limit`.\n",
            "\n",
            "Current values:\n",
            "NotebookApp.iopub_data_rate_limit=1000000.0 (bytes/sec)\n",
            "NotebookApp.rate_limit_window=3.0 (secs)\n",
            "\n"
          ]
        }
      ]
    },
    {
      "cell_type": "code",
      "source": [
        "digs = []\n",
        "for value in range(1,1000001):\n",
        "  digs.append(value)\n",
        "min(digs)\n",
        "max(digs)\n",
        "sum(digs)"
      ],
      "metadata": {
        "colab": {
          "base_uri": "https://localhost:8080/"
        },
        "id": "kk4P_OHonW6R",
        "outputId": "5723bc65-b018-4d72-856e-ea90c4e4952e"
      },
      "execution_count": 44,
      "outputs": [
        {
          "output_type": "execute_result",
          "data": {
            "text/plain": [
              "500000500000"
            ]
          },
          "metadata": {},
          "execution_count": 44
        }
      ]
    },
    {
      "cell_type": "code",
      "source": [
        "odds = list(range(1, 21, 2))\n",
        "print(odds)"
      ],
      "metadata": {
        "colab": {
          "base_uri": "https://localhost:8080/"
        },
        "id": "DBsXjZjioJ2M",
        "outputId": "8f6eb9a1-0dce-4acf-8909-2453a87b1407"
      },
      "execution_count": 51,
      "outputs": [
        {
          "output_type": "stream",
          "name": "stdout",
          "text": [
            "[1, 3, 5, 7, 9, 11, 13, 15, 17, 19]\n"
          ]
        }
      ]
    },
    {
      "cell_type": "code",
      "source": [
        "odds = list(range(3, 31, 3))\n",
        "print(odds)"
      ],
      "metadata": {
        "colab": {
          "base_uri": "https://localhost:8080/"
        },
        "id": "ScXwG-79ood1",
        "outputId": "81630414-5794-4b5f-9413-976ac8ae14b0"
      },
      "execution_count": 52,
      "outputs": [
        {
          "output_type": "stream",
          "name": "stdout",
          "text": [
            "[3, 6, 9, 12, 15, 18, 21, 24, 27, 30]\n"
          ]
        }
      ]
    },
    {
      "cell_type": "code",
      "source": [
        "num = [value**3 for value in range(1, 11)]\n",
        "print(num)"
      ],
      "metadata": {
        "colab": {
          "base_uri": "https://localhost:8080/"
        },
        "id": "FTjmebaDo0Fx",
        "outputId": "75c5abb9-3b51-4d02-c2ea-0d44800f17d0"
      },
      "execution_count": 54,
      "outputs": [
        {
          "output_type": "stream",
          "name": "stdout",
          "text": [
            "[1, 8, 27, 64, 125, 216, 343, 512, 729, 1000]\n"
          ]
        }
      ]
    },
    {
      "cell_type": "code",
      "source": [
        "players = ['charles', 'martina', 'michael', 'florence', 'eli']\n",
        "print(players[-3:])"
      ],
      "metadata": {
        "colab": {
          "base_uri": "https://localhost:8080/"
        },
        "id": "3ed05S_BpFxX",
        "outputId": "713ccf95-cc26-47e1-a037-b6950fde6e09"
      },
      "execution_count": 61,
      "outputs": [
        {
          "output_type": "stream",
          "name": "stdout",
          "text": [
            "['michael', 'florence', 'eli']\n"
          ]
        }
      ]
    },
    {
      "cell_type": "code",
      "source": [
        "print('here are the first three players on my team:')\n",
        "for player in players[:3]:\n",
        "  print(player.title())"
      ],
      "metadata": {
        "colab": {
          "base_uri": "https://localhost:8080/"
        },
        "id": "xUdyMIjrp7bY",
        "outputId": "95ed12a8-6feb-4125-f791-c7e7bb90c496"
      },
      "execution_count": 62,
      "outputs": [
        {
          "output_type": "stream",
          "name": "stdout",
          "text": [
            "here are the first three players on my team:\n",
            "Charles\n",
            "Martina\n",
            "Michael\n"
          ]
        }
      ]
    },
    {
      "cell_type": "code",
      "source": [
        "my_foods = ['pizza', 'falafel', 'carrot cake']\n",
        "friend_foods = my_foods[:]\n",
        "\n",
        "my_foods.append('cannoli')\n",
        "friend_foods.append('ice cream')\n",
        "\n",
        "print('My favorite foods are:')\n",
        "print(my_foods)\n",
        "\n",
        "print(\"\\nMy frien's favorite foods are:\")\n",
        "print(friend_foods)"
      ],
      "metadata": {
        "colab": {
          "base_uri": "https://localhost:8080/"
        },
        "id": "xPhorYGMqO8I",
        "outputId": "175c1376-65f3-4db4-c8c6-35a169b047e6"
      },
      "execution_count": 65,
      "outputs": [
        {
          "output_type": "stream",
          "name": "stdout",
          "text": [
            "My favorite foods are:\n",
            "['pizza', 'falafel', 'carrot cake', 'cannoli']\n",
            "\n",
            "My frien's favorite foods are:\n",
            "['pizza', 'falafel', 'carrot cake', 'ice cream']\n"
          ]
        }
      ]
    },
    {
      "cell_type": "markdown",
      "source": [
        "4-10\n",
        "4-11"
      ],
      "metadata": {
        "id": "dFyBT9cErH9E"
      }
    },
    {
      "cell_type": "code",
      "source": [
        "players = ['charles', 'martina', 'michael', 'florence', 'eli']\n",
        "print('The first three items in the list are:')\n",
        "print(players[:3])\n",
        "print('The middle three items in the list are:')\n",
        "print(players[1:4])\n",
        "print('The last three items in the list are:')\n",
        "print(players[2:])"
      ],
      "metadata": {
        "colab": {
          "base_uri": "https://localhost:8080/"
        },
        "id": "f3hIfWv7qrs8",
        "outputId": "cc9aa2ea-ab79-4f4f-83a2-25bb75eda7ae"
      },
      "execution_count": 74,
      "outputs": [
        {
          "output_type": "stream",
          "name": "stdout",
          "text": [
            "The first three items in the list are:\n",
            "['charles', 'martina', 'michael']\n",
            "The middle three items in the list are:\n",
            "['martina', 'michael', 'florence']\n",
            "The last three items in the list are:\n",
            "['michael', 'florence', 'eli']\n"
          ]
        }
      ]
    },
    {
      "cell_type": "code",
      "source": [
        "tops = [\"pepperoni\", \"meatball\", \"mushroom\"]\n",
        "friend_pizzas = tops[:]\n",
        "tops.append('ranch')\n",
        "friend_pizzas.append('pineapple')\n",
        "for top in tops:\n",
        "  print('My favorite pizzas are', top)\n",
        "for top in friend_pizzas:\n",
        "  print('My friends favorite pizzas are' , top)"
      ],
      "metadata": {
        "colab": {
          "base_uri": "https://localhost:8080/"
        },
        "id": "8VvNOlfwroEF",
        "outputId": "e28c1116-7c09-4740-eb94-efc85332e4a5"
      },
      "execution_count": 76,
      "outputs": [
        {
          "output_type": "stream",
          "name": "stdout",
          "text": [
            "My favorite pizzas are pepperoni\n",
            "My favorite pizzas are meatball\n",
            "My favorite pizzas are mushroom\n",
            "My favorite pizzas are ranch\n",
            "My friends favorite pizzas are pepperoni\n",
            "My friends favorite pizzas are meatball\n",
            "My friends favorite pizzas are mushroom\n",
            "My friends favorite pizzas are pineapple\n"
          ]
        }
      ]
    },
    {
      "cell_type": "code",
      "source": [
        "dimensions = (200, 50)\n",
        "print(dimensions[0])\n",
        "print(dimensions[1])"
      ],
      "metadata": {
        "colab": {
          "base_uri": "https://localhost:8080/"
        },
        "id": "jdtKz2mftWrx",
        "outputId": "26624ed4-f121-4f1b-d1f6-cd9e9f3f556f"
      },
      "execution_count": 77,
      "outputs": [
        {
          "output_type": "stream",
          "name": "stdout",
          "text": [
            "200\n",
            "50\n"
          ]
        }
      ]
    },
    {
      "cell_type": "code",
      "source": [
        "dimensions = (200, 50)\n",
        "for dimension in dimensions:\n",
        "  print(dimension)"
      ],
      "metadata": {
        "colab": {
          "base_uri": "https://localhost:8080/"
        },
        "id": "XMuQMLAotlSO",
        "outputId": "b16a5ef3-3691-454c-df36-80871f3876d8"
      },
      "execution_count": 80,
      "outputs": [
        {
          "output_type": "stream",
          "name": "stdout",
          "text": [
            "200\n",
            "50\n"
          ]
        }
      ]
    },
    {
      "cell_type": "code",
      "source": [
        "dimensions = (200, 50)\n",
        "print(\"Original dimensions:\")\n",
        "for dimension in dimensions:\n",
        "  print(dimension)\n",
        "\n",
        "dimensions = (400, 100)\n",
        "print(\"\\nModified dimensions:\")\n",
        "for dimension in dimensions:\n",
        "  print(dimension)"
      ],
      "metadata": {
        "colab": {
          "base_uri": "https://localhost:8080/"
        },
        "id": "ua0PTcEYt6qR",
        "outputId": "f3cee429-40fb-48be-8692-689b3833b4f7"
      },
      "execution_count": 82,
      "outputs": [
        {
          "output_type": "stream",
          "name": "stdout",
          "text": [
            "Original dimensions:\n",
            "200\n",
            "50\n",
            "\n",
            "Modified dimensions:\n",
            "400\n",
            "100\n"
          ]
        }
      ]
    },
    {
      "cell_type": "markdown",
      "source": [
        "4-13"
      ],
      "metadata": {
        "id": "9Y7QbIQBuZjL"
      }
    },
    {
      "cell_type": "code",
      "source": [
        "foods = ('pizza', 'apple', 'cheese', 'chips', 'cake')\n",
        "for food in foods:\n",
        "  print(food)"
      ],
      "metadata": {
        "colab": {
          "base_uri": "https://localhost:8080/"
        },
        "id": "OTHIMEEAuY1h",
        "outputId": "28b7954c-46a0-4c96-8fbf-8c548f786f6b"
      },
      "execution_count": 83,
      "outputs": [
        {
          "output_type": "stream",
          "name": "stdout",
          "text": [
            "pizza\n",
            "apple\n",
            "cheese\n",
            "chips\n",
            "cake\n"
          ]
        }
      ]
    },
    {
      "cell_type": "code",
      "source": [
        "foods = ('pizza', 'apple', 'cheese', 'chips', 'cake')\n",
        "foods[0] = ('pie')\n",
        "for food in foods:\n",
        "  print(food)"
      ],
      "metadata": {
        "colab": {
          "base_uri": "https://localhost:8080/",
          "height": 232
        },
        "id": "YInh17DEuzjl",
        "outputId": "10c20721-4bac-4596-ed76-257db708ab3e"
      },
      "execution_count": 84,
      "outputs": [
        {
          "output_type": "error",
          "ename": "TypeError",
          "evalue": "ignored",
          "traceback": [
            "\u001b[0;31m---------------------------------------------------------------------------\u001b[0m",
            "\u001b[0;31mTypeError\u001b[0m                                 Traceback (most recent call last)",
            "\u001b[0;32m<ipython-input-84-9fbdef2d4ae9>\u001b[0m in \u001b[0;36m<cell line: 2>\u001b[0;34m()\u001b[0m\n\u001b[1;32m      1\u001b[0m \u001b[0mfoods\u001b[0m \u001b[0;34m=\u001b[0m \u001b[0;34m(\u001b[0m\u001b[0;34m'pizza'\u001b[0m\u001b[0;34m,\u001b[0m \u001b[0;34m'apple'\u001b[0m\u001b[0;34m,\u001b[0m \u001b[0;34m'cheese'\u001b[0m\u001b[0;34m,\u001b[0m \u001b[0;34m'chips'\u001b[0m\u001b[0;34m,\u001b[0m \u001b[0;34m'cake'\u001b[0m\u001b[0;34m)\u001b[0m\u001b[0;34m\u001b[0m\u001b[0;34m\u001b[0m\u001b[0m\n\u001b[0;32m----> 2\u001b[0;31m \u001b[0mfoods\u001b[0m\u001b[0;34m[\u001b[0m\u001b[0;36m0\u001b[0m\u001b[0;34m]\u001b[0m \u001b[0;34m=\u001b[0m \u001b[0;34m(\u001b[0m\u001b[0;34m'pie'\u001b[0m\u001b[0;34m)\u001b[0m\u001b[0;34m\u001b[0m\u001b[0;34m\u001b[0m\u001b[0m\n\u001b[0m\u001b[1;32m      3\u001b[0m \u001b[0;32mfor\u001b[0m \u001b[0mfood\u001b[0m \u001b[0;32min\u001b[0m \u001b[0mfoods\u001b[0m\u001b[0;34m:\u001b[0m\u001b[0;34m\u001b[0m\u001b[0;34m\u001b[0m\u001b[0m\n\u001b[1;32m      4\u001b[0m   \u001b[0mprint\u001b[0m\u001b[0;34m(\u001b[0m\u001b[0mfood\u001b[0m\u001b[0;34m)\u001b[0m\u001b[0;34m\u001b[0m\u001b[0;34m\u001b[0m\u001b[0m\n",
            "\u001b[0;31mTypeError\u001b[0m: 'tuple' object does not support item assignment"
          ]
        }
      ]
    },
    {
      "cell_type": "code",
      "source": [
        "foods = ('pizza', 'apple', 'cheese', 'chips', 'cake')\n",
        "print('Original Menu:')\n",
        "for food in foods:\n",
        "  print(food)\n",
        "foods = ('pizza', 'apple', 'cheese', 'fries', 'hamburger')\n",
        "print('New Menu:')\n",
        "for food in foods:\n",
        "  print(food)"
      ],
      "metadata": {
        "colab": {
          "base_uri": "https://localhost:8080/"
        },
        "id": "46cIHujkvJQj",
        "outputId": "2c161f5c-02b3-4165-923f-808de97a3548"
      },
      "execution_count": 88,
      "outputs": [
        {
          "output_type": "stream",
          "name": "stdout",
          "text": [
            "Original Menu:\n",
            "pizza\n",
            "apple\n",
            "cheese\n",
            "chips\n",
            "cake\n",
            "New Menu:\n",
            "pizza\n",
            "apple\n",
            "cheese\n",
            "fries\n",
            "hamburger\n"
          ]
        }
      ]
    },
    {
      "cell_type": "code",
      "source": [
        "def factorial(n):\n",
        "  for value in range(1, n):\n",
        "\n",
        "    print"
      ],
      "metadata": {
        "id": "tjbDHUrMvrOA"
      },
      "execution_count": 102,
      "outputs": []
    },
    {
      "cell_type": "code",
      "source": [
        "def factorial(n):\n",
        "  my_list = []\n",
        "  for value in (range(1, n+1)):\n",
        "    my_list.append(value)\n",
        "  product = 1\n",
        "  for x in my_list:\n",
        "    product *= x\n",
        "  return product"
      ],
      "metadata": {
        "id": "_DZ0uo6JxbTl"
      },
      "execution_count": 207,
      "outputs": []
    },
    {
      "cell_type": "code",
      "source": [
        "def special_factorial(n):\n",
        "  my_list = []\n",
        "  for value in (range(1, n+1)):\n",
        "    my_list.append(value)\n",
        "  product = 1\n",
        "  if n >=4:\n",
        "    my_list.remove(4)\n",
        "  if n >=13:\n",
        "    my_list.remove(13)\n",
        "  if n >=22:\n",
        "    my_list.remove(22)\n",
        "  for x in my_list:\n",
        "    product *= x\n",
        "  return product"
      ],
      "metadata": {
        "id": "ARiy_4Z63vT-"
      },
      "execution_count": 209,
      "outputs": []
    },
    {
      "cell_type": "code",
      "source": [
        "print(special_factorial(5))\n",
        "print(special_factorial(10))\n"
      ],
      "metadata": {
        "colab": {
          "base_uri": "https://localhost:8080/"
        },
        "id": "de_b5ckF4d7d",
        "outputId": "04cf0757-38e5-45c5-d4e7-72e99f7eafd9"
      },
      "execution_count": 211,
      "outputs": [
        {
          "output_type": "stream",
          "name": "stdout",
          "text": [
            "30\n",
            "907200\n"
          ]
        }
      ]
    }
  ]
}