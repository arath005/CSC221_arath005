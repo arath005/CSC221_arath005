{
  "nbformat": 4,
  "nbformat_minor": 0,
  "metadata": {
    "colab": {
      "provenance": [],
      "authorship_tag": "ABX9TyNMCkdrDHgVBCV8hq+kO/kJ",
      "include_colab_link": true
    },
    "kernelspec": {
      "name": "python3",
      "display_name": "Python 3"
    },
    "language_info": {
      "name": "python"
    }
  },
  "cells": [
    {
      "cell_type": "markdown",
      "metadata": {
        "id": "view-in-github",
        "colab_type": "text"
      },
      "source": [
        "<a href=\"https://colab.research.google.com/github/arath005/CSC221_arath005/blob/main/Assignment7.ipynb\" target=\"_parent\"><img src=\"https://colab.research.google.com/assets/colab-badge.svg\" alt=\"Open In Colab\"/></a>"
      ]
    },
    {
      "cell_type": "code",
      "execution_count": null,
      "metadata": {
        "colab": {
          "base_uri": "https://localhost:8080/"
        },
        "id": "RJjkv50-5dSF",
        "outputId": "5ff280e3-1af7-4b31-8438-bc8b4332369a"
      },
      "outputs": [
        {
          "output_type": "stream",
          "name": "stdout",
          "text": [
            "green\n",
            "5\n"
          ]
        }
      ],
      "source": [
        "alien_0 = {'color': 'green', 'points': 5}\n",
        "print(alien_0['color'])\n",
        "print(alien_0['points'])"
      ]
    },
    {
      "cell_type": "code",
      "source": [
        "alien_0 = {'color': 'green', 'points': 5}\n",
        "print(alien_0)\n",
        "\n",
        "alien_0['x_position'] = 0\n",
        "alien_0['y_position'] = 25\n",
        "print(alien_0)"
      ],
      "metadata": {
        "colab": {
          "base_uri": "https://localhost:8080/"
        },
        "id": "RVzFlFL_6zok",
        "outputId": "3a74c881-1d98-4624-db77-e9cffbb630d7"
      },
      "execution_count": null,
      "outputs": [
        {
          "output_type": "stream",
          "name": "stdout",
          "text": [
            "{'color': 'green', 'points': 5}\n",
            "{'color': 'green', 'points': 5, 'x_position': 0, 'y_position': 25}\n"
          ]
        }
      ]
    },
    {
      "cell_type": "markdown",
      "source": [
        "6-1, 6-2, 6-3"
      ],
      "metadata": {
        "id": "YqiRzpMy7pT5"
      }
    },
    {
      "cell_type": "code",
      "source": [],
      "metadata": {
        "colab": {
          "base_uri": "https://localhost:8080/"
        },
        "id": "IPKmQmoI65eU",
        "outputId": "545dacf2-053c-4738-c265-445d7437983d"
      },
      "execution_count": null,
      "outputs": [
        {
          "output_type": "stream",
          "name": "stdout",
          "text": [
            "{'first_name': 'Gabby', 'last_name': 'Spaddevechia', 'age': '18', 'city': 'plattsburgh'}\n"
          ]
        }
      ]
    },
    {
      "cell_type": "code",
      "source": [
        "favnum = {'Jake': '5',\n",
        "          'Alex': '3',\n",
        "          'Gabby': '8',\n",
        "          'Dylan': '2',\n",
        "          'Caleb': '6'}\n",
        "print(favnum)"
      ],
      "metadata": {
        "colab": {
          "base_uri": "https://localhost:8080/"
        },
        "id": "wefVEKKf8mGD",
        "outputId": "63668ffd-bfc6-402e-869e-c4149fd62037"
      },
      "execution_count": null,
      "outputs": [
        {
          "output_type": "stream",
          "name": "stdout",
          "text": [
            "{'Jake': '5', 'Alex': '3', 'Gabby': '8', 'Dylan': '2', 'Caleb': '6'}\n"
          ]
        }
      ]
    },
    {
      "cell_type": "code",
      "source": [
        "glossary = {\n",
        "    'string': 'A series of characters.',\n",
        "    'comment': 'A note in a program that the Python interpreter ignores.',\n",
        "    'list': 'A collection of items in a particular order.',\n",
        "    'loop': 'Work through a collection of items, one at a time.',\n",
        "    'dictionary': \"A collection of key-value pairs.\",\n",
        "    'key': 'The first item in a key-value pair in a dictionary.',\n",
        "    'value': 'An item associated with a key in a dictionary.',\n",
        "    'conditional test': 'A comparison between two values.',\n",
        "    'float': 'A numerical value with a decimal component.',\n",
        "    'boolean expression': 'An expression that evaluates to True or False.',\n",
        "    }\n",
        "\n",
        "for word, definition in glossary.items():\n",
        "    print(\"\\n\" + word.title() + \": \" + definition)"
      ],
      "metadata": {
        "colab": {
          "base_uri": "https://localhost:8080/"
        },
        "id": "NR0GallY9Krx",
        "outputId": "8ef22ed7-f9c0-4884-c54d-ada4ebbb32d5"
      },
      "execution_count": 2,
      "outputs": [
        {
          "output_type": "stream",
          "name": "stdout",
          "text": [
            "\n",
            "String: A series of characters.\n",
            "\n",
            "Comment: A note in a program that the Python interpreter ignores.\n",
            "\n",
            "List: A collection of items in a particular order.\n",
            "\n",
            "Loop: Work through a collection of items, one at a time.\n",
            "\n",
            "Dictionary: A collection of key-value pairs.\n",
            "\n",
            "Key: The first item in a key-value pair in a dictionary.\n",
            "\n",
            "Value: An item associated with a key in a dictionary.\n",
            "\n",
            "Conditional Test: A comparison between two values.\n",
            "\n",
            "Float: A numerical value with a decimal component.\n",
            "\n",
            "Boolean Expression: An expression that evaluates to True or False.\n"
          ]
        }
      ]
    },
    {
      "cell_type": "code",
      "source": [
        "cities = {\n",
        "    'santiago': {\n",
        "        'country': 'chile',\n",
        "        'population': 6158080,\n",
        "        'nearby mountains': 'andes',\n",
        "        },\n",
        "    'talkeetna': {\n",
        "        'country': 'alaska',\n",
        "        'population': 876,\n",
        "        'nearby mountains': 'alaska range',\n",
        "        },\n",
        "    'kathmandu': {\n",
        "        'country': 'nepal',\n",
        "        'population': 1003285,\n",
        "        'nearby mountains': 'himilaya',\n",
        "        }\n",
        "    }\n",
        "\n",
        "for city, city_info in cities.items():\n",
        "    country = city_info['country'].title()\n",
        "    population = city_info['population']\n",
        "    mountains = city_info['nearby mountains'].title()\n",
        "\n",
        "    print(\"\\n\" + city.title() + \" is in \" + country + \".\")\n",
        "    print(\"  It has a population of about \" + str(population) + \".\")\n",
        "    print(\"  The \" + mountains + \" mountains are nearby.\")"
      ],
      "metadata": {
        "colab": {
          "base_uri": "https://localhost:8080/"
        },
        "id": "2m9bZ7KX-WrY",
        "outputId": "4e03abcf-b0e0-49d5-c45b-93dc4e5572cf"
      },
      "execution_count": 1,
      "outputs": [
        {
          "output_type": "stream",
          "name": "stdout",
          "text": [
            "\n",
            "Santiago is in Chile.\n",
            "  It has a population of about 6158080.\n",
            "  The Andes mountains are nearby.\n",
            "\n",
            "Talkeetna is in Alaska.\n",
            "  It has a population of about 876.\n",
            "  The Alaska Range mountains are nearby.\n",
            "\n",
            "Kathmandu is in Nepal.\n",
            "  It has a population of about 1003285.\n",
            "  The Himilaya mountains are nearby.\n"
          ]
        }
      ]
    },
    {
      "cell_type": "code",
      "source": [
        "favnum = {'Jake': '5',\n",
        "          'Alex': '3',\n",
        "          'Gabby': '8',\n",
        "          'Dylan': '2',\n",
        "          'Caleb': '6',\n",
        "          'Ned' : '81718237489163946936597973649618934.3'}\n",
        "for word, num in favnum.items():\n",
        "    print(\"\\n\" + word.title() + \"'s favorite number is \" + num)"
      ],
      "metadata": {
        "id": "0U-eNvaC_g8G",
        "colab": {
          "base_uri": "https://localhost:8080/"
        },
        "outputId": "d34d1d57-3e7b-42d4-9052-2d04c58f0e9a"
      },
      "execution_count": 9,
      "outputs": [
        {
          "output_type": "stream",
          "name": "stdout",
          "text": [
            "\n",
            "Jake's favorite number is 5\n",
            "\n",
            "Alex's favorite number is 3\n",
            "\n",
            "Gabby's favorite number is 8\n",
            "\n",
            "Dylan's favorite number is 2\n",
            "\n",
            "Caleb's favorite number is 6\n",
            "\n",
            "Ned's favorite number is 81718237489163946936597973649618934.3\n"
          ]
        }
      ]
    }
  ]
}