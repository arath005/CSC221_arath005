{
  "nbformat": 4,
  "nbformat_minor": 0,
  "metadata": {
    "colab": {
      "provenance": [],
      "authorship_tag": "ABX9TyNkKQAeiNgd5dNe3VpOvt5T",
      "include_colab_link": true
    },
    "kernelspec": {
      "name": "python3",
      "display_name": "Python 3"
    },
    "language_info": {
      "name": "python"
    }
  },
  "cells": [
    {
      "cell_type": "markdown",
      "metadata": {
        "id": "view-in-github",
        "colab_type": "text"
      },
      "source": [
        "<a href=\"https://colab.research.google.com/github/arath005/CSC221_arath005/blob/main/Assignment4.ipynb\" target=\"_parent\"><img src=\"https://colab.research.google.com/assets/colab-badge.svg\" alt=\"Open In Colab\"/></a>"
      ]
    },
    {
      "cell_type": "code",
      "source": [
        "bicycles = ['trek', 'cannondale', 'redline', 'specialized']\n",
        "print(bicycles)"
      ],
      "metadata": {
        "colab": {
          "base_uri": "https://localhost:8080/"
        },
        "id": "dEyunzBsbvmW",
        "outputId": "87b2f859-12be-4036-b2ef-2db777ad2ad7"
      },
      "execution_count": 1,
      "outputs": [
        {
          "output_type": "stream",
          "name": "stdout",
          "text": [
            "['trek', 'cannondale', 'redline', 'specialized']\n"
          ]
        }
      ]
    },
    {
      "cell_type": "code",
      "source": [
        "bicycles = ['trek', 'cannondale', 'redline', 'specialized']\n",
        "print(bicycles[0])"
      ],
      "metadata": {
        "colab": {
          "base_uri": "https://localhost:8080/"
        },
        "id": "dOAE8mvhby6-",
        "outputId": "fed3cab4-165c-4360-f138-473a85b164f2"
      },
      "execution_count": 2,
      "outputs": [
        {
          "output_type": "stream",
          "name": "stdout",
          "text": [
            "trek\n"
          ]
        }
      ]
    },
    {
      "cell_type": "code",
      "source": [
        "bicycles = ['trek', 'cannondale', 'redline', 'specialized']\n",
        "print(bicycles[0].title())"
      ],
      "metadata": {
        "colab": {
          "base_uri": "https://localhost:8080/"
        },
        "id": "Jh-2qP5Rb2Mt",
        "outputId": "55d554ad-5871-4ad3-8543-5bdc7ff7364d"
      },
      "execution_count": 3,
      "outputs": [
        {
          "output_type": "stream",
          "name": "stdout",
          "text": [
            "Trek\n"
          ]
        }
      ]
    },
    {
      "cell_type": "code",
      "source": [
        "bicycles = ['trek', 'cannondale', 'redline', 'specialized']\n",
        "print(bicycles[1])\n",
        "print(bicycles[3])"
      ],
      "metadata": {
        "colab": {
          "base_uri": "https://localhost:8080/"
        },
        "id": "AkQk7ornb448",
        "outputId": "6254eff2-ccdd-48b5-fa35-32200e67bf50"
      },
      "execution_count": 4,
      "outputs": [
        {
          "output_type": "stream",
          "name": "stdout",
          "text": [
            "cannondale\n",
            "specialized\n"
          ]
        }
      ]
    },
    {
      "cell_type": "code",
      "source": [
        "bicycles = ['trek', 'cannondale', 'redline', 'specialized']\n",
        "print(bicycles[-1])"
      ],
      "metadata": {
        "colab": {
          "base_uri": "https://localhost:8080/"
        },
        "id": "2THMEA2eb8OK",
        "outputId": "f94e94a0-9767-49ec-956a-d8b9e4a1cd56"
      },
      "execution_count": 5,
      "outputs": [
        {
          "output_type": "stream",
          "name": "stdout",
          "text": [
            "specialized\n"
          ]
        }
      ]
    },
    {
      "cell_type": "code",
      "source": [
        "bicycles = ['trek', 'cannondale', 'redline', 'specialized']\n",
        "message = \"My first bicycle was a \" + bicycles[0].title() + \".\"\n",
        "print(message)"
      ],
      "metadata": {
        "colab": {
          "base_uri": "https://localhost:8080/"
        },
        "id": "kF4czTyzb-SA",
        "outputId": "1dcbe1e3-8329-4d73-b0dc-dbd4920dc23a"
      },
      "execution_count": 6,
      "outputs": [
        {
          "output_type": "stream",
          "name": "stdout",
          "text": [
            "My first bicycle was a Trek.\n"
          ]
        }
      ]
    },
    {
      "cell_type": "code",
      "source": [
        "names = [\"Alice\", \"Bob\", \"Charlie\", \"David\", \"Eve\"]\n",
        "\n",
        "for name in names:\n",
        "    print(name)"
      ],
      "metadata": {
        "colab": {
          "base_uri": "https://localhost:8080/"
        },
        "id": "ewkSV41JtELT",
        "outputId": "f35d2ec8-aa77-464f-c08a-213dd04e62df"
      },
      "execution_count": null,
      "outputs": [
        {
          "output_type": "stream",
          "name": "stdout",
          "text": [
            "Alice\n",
            "Bob\n",
            "Charlie\n",
            "David\n",
            "Eve\n"
          ]
        }
      ]
    },
    {
      "cell_type": "code",
      "source": [
        "names = [\"Alice\", \"Bob\", \"Charlie\", \"David\", \"Eve\"]\n",
        "\n",
        "for name in names:\n",
        "    print(\"hello \" + name + \" how are you?\")"
      ],
      "metadata": {
        "colab": {
          "base_uri": "https://localhost:8080/"
        },
        "id": "UOcApcRytLhK",
        "outputId": "79526de9-47a2-4475-aa66-2b2e0faff211"
      },
      "execution_count": null,
      "outputs": [
        {
          "output_type": "stream",
          "name": "stdout",
          "text": [
            "hello Alice how are you?\n",
            "hello Bob how are you?\n",
            "hello Charlie how are you?\n",
            "hello David how are you?\n",
            "hello Eve how are you?\n"
          ]
        }
      ]
    },
    {
      "cell_type": "code",
      "source": [
        "trans = [\"car\", \"airplane\", \"bike\"]\n",
        "\n",
        "for tran in trans:\n",
        "  print('I would like to own a ' + tran)"
      ],
      "metadata": {
        "colab": {
          "base_uri": "https://localhost:8080/"
        },
        "id": "TvkcvIShtve5",
        "outputId": "461f421a-4868-43ef-c745-d6e715e306aa"
      },
      "execution_count": null,
      "outputs": [
        {
          "output_type": "stream",
          "name": "stdout",
          "text": [
            "I would like to own a car\n",
            "I would like to own a airplane\n",
            "I would like to own a bike\n"
          ]
        }
      ]
    },
    {
      "cell_type": "code",
      "source": [
        "motorcycles = ['honda', 'yamaha', 'suzuki']\n",
        "print(motorcycles)\n",
        "motorcycles[0] = 'ducati'\n",
        "print(motorcycles)"
      ],
      "metadata": {
        "colab": {
          "base_uri": "https://localhost:8080/"
        },
        "id": "0IF-P60ucHIb",
        "outputId": "a8fbd976-6c68-4706-be80-23578e40812c"
      },
      "execution_count": 7,
      "outputs": [
        {
          "output_type": "stream",
          "name": "stdout",
          "text": [
            "['honda', 'yamaha', 'suzuki']\n",
            "['ducati', 'yamaha', 'suzuki']\n"
          ]
        }
      ]
    },
    {
      "cell_type": "code",
      "source": [
        "motorcycles = ['honda', 'yamaha', 'suzuki']\n",
        "print(motorcycles)\n",
        "motorcycles.append('ducati')\n",
        "print(motorcycles)"
      ],
      "metadata": {
        "colab": {
          "base_uri": "https://localhost:8080/"
        },
        "id": "es8drnhFcOP1",
        "outputId": "0dceb7aa-dcd0-40c2-d395-db77de24b2eb"
      },
      "execution_count": 8,
      "outputs": [
        {
          "output_type": "stream",
          "name": "stdout",
          "text": [
            "['honda', 'yamaha', 'suzuki']\n",
            "['honda', 'yamaha', 'suzuki', 'ducati']\n"
          ]
        }
      ]
    },
    {
      "cell_type": "code",
      "source": [
        "motorcycles = []\n",
        "motorcycles.append('honda')\n",
        "motorcycles.append('yamaha')\n",
        "motorcycles.append('suzuki')\n",
        "print(motorcycles)"
      ],
      "metadata": {
        "colab": {
          "base_uri": "https://localhost:8080/"
        },
        "id": "jt-ndOCFcS5z",
        "outputId": "3ad9dee2-be87-4ade-f42c-78856c7ec84d"
      },
      "execution_count": 9,
      "outputs": [
        {
          "output_type": "stream",
          "name": "stdout",
          "text": [
            "['honda', 'yamaha', 'suzuki']\n"
          ]
        }
      ]
    },
    {
      "cell_type": "code",
      "source": [
        "motorcycles = ['honda', 'yamaha', 'suzuki']\n",
        "motorcycles.insert(0, 'ducati')\n",
        "print(motorcycles)"
      ],
      "metadata": {
        "colab": {
          "base_uri": "https://localhost:8080/"
        },
        "id": "oU01VQLqcW7e",
        "outputId": "724758f2-df6c-4577-8ced-db4d309d6835"
      },
      "execution_count": 11,
      "outputs": [
        {
          "output_type": "stream",
          "name": "stdout",
          "text": [
            "['ducati', 'honda', 'yamaha', 'suzuki']\n"
          ]
        }
      ]
    },
    {
      "cell_type": "code",
      "source": [
        "motorcycles = ['honda', 'yamaha', 'suzuki']\n",
        "print(motorcycles)\n",
        "del motorcycles[0]\n",
        "print(motorcycles)"
      ],
      "metadata": {
        "colab": {
          "base_uri": "https://localhost:8080/"
        },
        "id": "yaMBYprQcZ--",
        "outputId": "1ca08b4d-be58-40a8-a7ef-aa50ba6eb08d"
      },
      "execution_count": 12,
      "outputs": [
        {
          "output_type": "stream",
          "name": "stdout",
          "text": [
            "['honda', 'yamaha', 'suzuki']\n",
            "['yamaha', 'suzuki']\n"
          ]
        }
      ]
    },
    {
      "cell_type": "code",
      "source": [
        "motorcycles = ['honda', 'yamaha', 'suzuki']\n",
        "print(motorcycles)\n",
        "del motorcycles[1]\n",
        "print(motorcycles)"
      ],
      "metadata": {
        "colab": {
          "base_uri": "https://localhost:8080/"
        },
        "id": "dn24tyD7cfMW",
        "outputId": "8bf25e22-9fea-4545-c088-1582a68ca30c"
      },
      "execution_count": 13,
      "outputs": [
        {
          "output_type": "stream",
          "name": "stdout",
          "text": [
            "['honda', 'yamaha', 'suzuki']\n",
            "['honda', 'suzuki']\n"
          ]
        }
      ]
    },
    {
      "cell_type": "code",
      "source": [
        "motorcycles = ['honda', 'yamaha', 'suzuki']\n",
        "print(motorcycles)\n",
        "popped_motorcycle = motorcycles.pop()\n",
        "print(motorcycles)\n",
        "print(popped_motorcycle)"
      ],
      "metadata": {
        "colab": {
          "base_uri": "https://localhost:8080/"
        },
        "id": "Ok6TLmYPcidp",
        "outputId": "1da241df-a20e-4fac-f974-1ef77c71cf2a"
      },
      "execution_count": 14,
      "outputs": [
        {
          "output_type": "stream",
          "name": "stdout",
          "text": [
            "['honda', 'yamaha', 'suzuki']\n",
            "['honda', 'yamaha']\n",
            "suzuki\n"
          ]
        }
      ]
    },
    {
      "cell_type": "code",
      "source": [
        "motorcycles = ['honda', 'yamaha', 'suzuki']\n",
        "last_owned = motorcycles.pop()\n",
        "print(\"The last motorcycle I owned was a \" + last_owned.title() + \".\")"
      ],
      "metadata": {
        "colab": {
          "base_uri": "https://localhost:8080/"
        },
        "id": "nBfJP3Qtcol2",
        "outputId": "16fe49ce-3e85-4f3e-f501-c0dad00b42eb"
      },
      "execution_count": 15,
      "outputs": [
        {
          "output_type": "stream",
          "name": "stdout",
          "text": [
            "The last motorcycle I owned was a Suzuki.\n"
          ]
        }
      ]
    },
    {
      "cell_type": "code",
      "source": [
        "motorcycles = ['honda', 'yamaha', 'suzuki']\n",
        "first_owned = motorcycles.pop(0)\n",
        "print('The first motorcycle I owned was a ' + first_owned.title() + '.')"
      ],
      "metadata": {
        "colab": {
          "base_uri": "https://localhost:8080/"
        },
        "id": "bUZzUn90cr8W",
        "outputId": "44a1ffcb-4b8a-43d7-ad29-96ba83433ddd"
      },
      "execution_count": 16,
      "outputs": [
        {
          "output_type": "stream",
          "name": "stdout",
          "text": [
            "The first motorcycle I owned was a Honda.\n"
          ]
        }
      ]
    },
    {
      "cell_type": "code",
      "source": [
        "motorcycles = ['honda', 'yamaha', 'suzuki', 'ducati']\n",
        "print(motorcycles)\n",
        "motorcycles.remove('ducati')\n",
        "print(motorcycles)\n"
      ],
      "metadata": {
        "colab": {
          "base_uri": "https://localhost:8080/"
        },
        "id": "iFykS3Njcvrp",
        "outputId": "4824f185-7ee3-4475-cc3e-81337e5e27c0"
      },
      "execution_count": 17,
      "outputs": [
        {
          "output_type": "stream",
          "name": "stdout",
          "text": [
            "['honda', 'yamaha', 'suzuki', 'ducati']\n",
            "['honda', 'yamaha', 'suzuki']\n"
          ]
        }
      ]
    },
    {
      "cell_type": "code",
      "source": [
        "motorcycles = ['honda', 'yamaha', 'suzuki', 'ducati']\n",
        "print(motorcycles)\n",
        "too_expensive = 'ducati'\n",
        "motorcycles.remove(too_expensive)\n",
        "print(motorcycles)\n",
        "print(\"\\nA \" + too_expensive.title() + \" is too expensive for me.\")"
      ],
      "metadata": {
        "colab": {
          "base_uri": "https://localhost:8080/"
        },
        "id": "zijmgr4rczU-",
        "outputId": "88be6ac4-8495-4362-9e38-5bff3b346c9c"
      },
      "execution_count": 18,
      "outputs": [
        {
          "output_type": "stream",
          "name": "stdout",
          "text": [
            "['honda', 'yamaha', 'suzuki', 'ducati']\n",
            "['honda', 'yamaha', 'suzuki']\n",
            "\n",
            "A Ducati is too expensive for me.\n"
          ]
        }
      ]
    },
    {
      "cell_type": "code",
      "source": [
        "peeps = ['Dad', 'Mom', 'Brother']\n",
        "for peep in peeps:\n",
        "  print('I would like to formally invite you, ' + peep + ', to join us in dinner at our house on this fine evening.')"
      ],
      "metadata": {
        "colab": {
          "base_uri": "https://localhost:8080/"
        },
        "id": "_xhPRL3CuUo8",
        "outputId": "fdd0baf6-08f5-405c-ac44-911431981e92"
      },
      "execution_count": null,
      "outputs": [
        {
          "output_type": "stream",
          "name": "stdout",
          "text": [
            "I would like to formally invite you, Sister, to join us in dinner at our house on this fine evening.\n",
            "I would like to formally invite you, Mom, to join us in dinner at our house on this fine evening.\n",
            "I would like to formally invite you, Brother, to join us in dinner at our house on this fine evening.\n"
          ]
        }
      ]
    },
    {
      "cell_type": "code",
      "source": [
        "peeps = ['Sister', 'Mom', 'Brother']\n",
        "for peep in peeps:\n",
        "  print('I would like to formally invite you, ' + peep + ', to join us in dinner at our house on this fine evening.')\n",
        "  print('Dad can not make it')"
      ],
      "metadata": {
        "colab": {
          "base_uri": "https://localhost:8080/"
        },
        "id": "VR1HWsZGvMmQ",
        "outputId": "dca50dad-a413-4f5e-f636-42c51cbb34e4"
      },
      "execution_count": null,
      "outputs": [
        {
          "output_type": "stream",
          "name": "stdout",
          "text": [
            "I would like to formally invite you, Sister, to join us in dinner at our house on this fine evening.\n",
            "Dad can not make it\n",
            "I would like to formally invite you, Mom, to join us in dinner at our house on this fine evening.\n",
            "Dad can not make it\n",
            "I would like to formally invite you, Brother, to join us in dinner at our house on this fine evening.\n",
            "Dad can not make it\n"
          ]
        }
      ]
    },
    {
      "cell_type": "code",
      "source": [
        "peeps = ['Dad', 'Mom', 'Brother', 'Jake', 'Dave']\n",
        "for peep in peeps:\n",
        "  print('I would like to formally invite you, ' + peep + ', to join us in dinner at our house on this fine evening.')\n",
        "print('I found a bigger table')"
      ],
      "metadata": {
        "colab": {
          "base_uri": "https://localhost:8080/"
        },
        "id": "AEdZH2skwPFo",
        "outputId": "1158a084-d14e-41f8-fa00-c65ab4dcf8a1"
      },
      "execution_count": null,
      "outputs": [
        {
          "output_type": "stream",
          "name": "stdout",
          "text": [
            "I would like to formally invite you, Dad, to join us in dinner at our house on this fine evening.\n",
            "I would like to formally invite you, Mom, to join us in dinner at our house on this fine evening.\n",
            "I would like to formally invite you, Brother, to join us in dinner at our house on this fine evening.\n",
            "I would like to formally invite you, Jake, to join us in dinner at our house on this fine evening.\n",
            "I would like to formally invite you, Dave, to join us in dinner at our house on this fine evening.\n",
            "I found a bigger table\n"
          ]
        }
      ]
    },
    {
      "cell_type": "code",
      "source": [
        "peeps = ['Dad', 'Mom', 'Brother', 'Jake', 'Dave']\n",
        "while len(peeps) > 2:\n",
        "  popped_item = peeps.pop()\n",
        "  print(\"Im sorry to inform you, \" + popped_item + ', that you have been uninvited')\n",
        "\n",
        "for peep in peeps:\n",
        "  print('I would like to formally invite you, ' + peep + ', to join us in dinner at our house on this fine evening.')\n",
        "print('I can only invite 2 of you for dinner')\n",
        "del peeps\n",
        "peeps = (\"\")\n",
        "print(peeps)"
      ],
      "metadata": {
        "colab": {
          "base_uri": "https://localhost:8080/"
        },
        "id": "OVwI6odbwm8z",
        "outputId": "f6c60b93-1d07-4856-ac59-1cc9ed303359"
      },
      "execution_count": 25,
      "outputs": [
        {
          "output_type": "stream",
          "name": "stdout",
          "text": [
            "Im sorry to inform you, Dave, that you have been uninvited\n",
            "Im sorry to inform you, Jake, that you have been uninvited\n",
            "Im sorry to inform you, Brother, that you have been uninvited\n",
            "I would like to formally invite you, Dad, to join us in dinner at our house on this fine evening.\n",
            "I would like to formally invite you, Mom, to join us in dinner at our house on this fine evening.\n",
            "I can only invite 2 of you for dinner\n",
            "\n"
          ]
        }
      ]
    },
    {
      "cell_type": "code",
      "source": [
        "cars = ['bmw', 'audi', 'toyota', 'subaru']\n",
        "cars.sort()\n",
        "print(cars)"
      ],
      "metadata": {
        "colab": {
          "base_uri": "https://localhost:8080/"
        },
        "id": "7PrCbQPWdMkI",
        "outputId": "ed8261dc-52ff-44b6-fdd0-e69d39db94ab"
      },
      "execution_count": 26,
      "outputs": [
        {
          "output_type": "stream",
          "name": "stdout",
          "text": [
            "['audi', 'bmw', 'subaru', 'toyota']\n"
          ]
        }
      ]
    },
    {
      "cell_type": "code",
      "source": [
        "cars = ['bmw', 'audi', 'toyota', 'subaru']\n",
        "cars.sort(reverse=True)\n",
        "print(cars)"
      ],
      "metadata": {
        "colab": {
          "base_uri": "https://localhost:8080/"
        },
        "id": "ADR_gSUMdPVm",
        "outputId": "2fd45b32-fe53-478b-eb67-04f93868bb82"
      },
      "execution_count": 27,
      "outputs": [
        {
          "output_type": "stream",
          "name": "stdout",
          "text": [
            "['toyota', 'subaru', 'bmw', 'audi']\n"
          ]
        }
      ]
    },
    {
      "cell_type": "code",
      "source": [
        "cars = ['bmw', 'audi', 'toyota', 'subaru']\n",
        "print(\"Here is the original list:\")\n",
        "print(cars)\n",
        "print(\"\\nHere is the sorted list:\")\n",
        "print(sorted(cars))\n",
        "print(\"\\nHere is the original list again:\")\n",
        "print(cars)\n"
      ],
      "metadata": {
        "colab": {
          "base_uri": "https://localhost:8080/"
        },
        "id": "U7GPob3ddVJz",
        "outputId": "6e7102fc-eabd-49c4-bddc-e61f4696f950"
      },
      "execution_count": 28,
      "outputs": [
        {
          "output_type": "stream",
          "name": "stdout",
          "text": [
            "Here is the original list:\n",
            "['bmw', 'audi', 'toyota', 'subaru']\n",
            "\n",
            "Here is the sorted list:\n",
            "['audi', 'bmw', 'subaru', 'toyota']\n",
            "\n",
            "Here is the original list again:\n",
            "['bmw', 'audi', 'toyota', 'subaru']\n"
          ]
        }
      ]
    },
    {
      "cell_type": "code",
      "source": [
        "cars = ['bmw', 'audi', 'toyota', 'subaru']\n",
        "print(cars)\n",
        "cars.reverse()\n",
        "print(cars)\n"
      ],
      "metadata": {
        "colab": {
          "base_uri": "https://localhost:8080/"
        },
        "id": "MI7uUH2kdZhD",
        "outputId": "997f353e-57f4-402e-b222-5fb9dfeaf380"
      },
      "execution_count": 29,
      "outputs": [
        {
          "output_type": "stream",
          "name": "stdout",
          "text": [
            "['bmw', 'audi', 'toyota', 'subaru']\n",
            "['subaru', 'toyota', 'audi', 'bmw']\n"
          ]
        }
      ]
    },
    {
      "cell_type": "code",
      "source": [
        "locations = ['himalaya', 'andes', 'tierra del fuego', 'labrador', 'guam']\n",
        "\n",
        "print(\"Original order:\")\n",
        "print(locations)\n",
        "\n",
        "print(\"\\nAlphabetical:\")\n",
        "print(sorted(locations))\n",
        "\n",
        "print(\"\\nOriginal order:\")\n",
        "print(locations)\n",
        "\n",
        "print(\"\\nReverse alphabetical:\")\n",
        "print(sorted(locations, reverse=True))\n",
        "\n",
        "print(\"\\nOriginal order:\")\n",
        "print(locations)\n",
        "\n",
        "print(\"\\nReversed:\")\n",
        "locations.reverse()\n",
        "print(locations)\n",
        "\n",
        "print(\"\\nOriginal order:\")\n",
        "locations.reverse()\n",
        "print(locations)\n",
        "\n",
        "print(\"\\nAlphabetical\")\n",
        "locations.sort()\n",
        "print(locations)\n",
        "\n",
        "print(\"\\nReverse alphabetical\")\n",
        "locations.sort(reverse=True)\n",
        "print(locations)"
      ],
      "metadata": {
        "colab": {
          "base_uri": "https://localhost:8080/"
        },
        "id": "TB9JHaYpdxws",
        "outputId": "dcb08985-cdf3-44c3-c2d5-f8cdb3c7df20"
      },
      "execution_count": 30,
      "outputs": [
        {
          "output_type": "stream",
          "name": "stdout",
          "text": [
            "Original order:\n",
            "['himalaya', 'andes', 'tierra del fuego', 'labrador', 'guam']\n",
            "\n",
            "Alphabetical:\n",
            "['andes', 'guam', 'himalaya', 'labrador', 'tierra del fuego']\n",
            "\n",
            "Original order:\n",
            "['himalaya', 'andes', 'tierra del fuego', 'labrador', 'guam']\n",
            "\n",
            "Reverse alphabetical:\n",
            "['tierra del fuego', 'labrador', 'himalaya', 'guam', 'andes']\n",
            "\n",
            "Original order:\n",
            "['himalaya', 'andes', 'tierra del fuego', 'labrador', 'guam']\n",
            "\n",
            "Reversed:\n",
            "['guam', 'labrador', 'tierra del fuego', 'andes', 'himalaya']\n",
            "\n",
            "Original order:\n",
            "['himalaya', 'andes', 'tierra del fuego', 'labrador', 'guam']\n",
            "\n",
            "Alphabetical\n",
            "['andes', 'guam', 'himalaya', 'labrador', 'tierra del fuego']\n",
            "\n",
            "Reverse alphabetical\n",
            "['tierra del fuego', 'labrador', 'himalaya', 'guam', 'andes']\n"
          ]
        }
      ]
    },
    {
      "cell_type": "code",
      "source": [
        "peeps = ['Dad', 'Mom', 'Brother', 'Jake', 'Dave']\n",
        "\n",
        "for peep in peeps:\n",
        "    print('I would like to formally invite you, ' + peep + ', to join us in dinner at our house on this fine evening.')\n",
        "\n",
        "print('I found a bigger table.')\n",
        "\n",
        "number_of_guests = len(peeps)\n",
        "print(f\"We are inviting {number_of_guests} people to dinner.\")\n"
      ],
      "metadata": {
        "colab": {
          "base_uri": "https://localhost:8080/"
        },
        "id": "KAAkd7INeBPT",
        "outputId": "901da0cd-64c0-469d-9c17-3d995a721d22"
      },
      "execution_count": 31,
      "outputs": [
        {
          "output_type": "stream",
          "name": "stdout",
          "text": [
            "I would like to formally invite you, Dad, to join us in dinner at our house on this fine evening.\n",
            "I would like to formally invite you, Mom, to join us in dinner at our house on this fine evening.\n",
            "I would like to formally invite you, Brother, to join us in dinner at our house on this fine evening.\n",
            "I would like to formally invite you, Jake, to join us in dinner at our house on this fine evening.\n",
            "I would like to formally invite you, Dave, to join us in dinner at our house on this fine evening.\n",
            "I found a bigger table.\n",
            "We are inviting 5 people to dinner.\n"
          ]
        }
      ]
    },
    {
      "cell_type": "code",
      "source": [
        "countries = ['USA', 'Canada', 'Australia', 'Germany', 'Japan']\n",
        "print(\"Original List:\", countries)\n",
        "\n",
        "countries.append('France')\n",
        "print(\"After Append:\", countries)\n",
        "\n",
        "countries.insert(2, 'Brazil')\n",
        "print(\"After Insert:\", countries)\n",
        "\n",
        "countries.remove('Germany')\n",
        "print(\"After Remove:\", countries)\n",
        "\n",
        "popped_country = countries.pop()\n",
        "print(\"Popped Country:\", popped_country)\n",
        "print(\"After Pop:\", countries)\n",
        "\n",
        "countries.sort()\n",
        "print(\"After Sort:\", countries)\n",
        "\n",
        "countries.reverse()\n",
        "print(\"After Reverse:\", countries)\n",
        "\n",
        "list_length = len(countries)\n",
        "print(\"List Length:\", list_length)\n",
        "\n",
        "smallest_country = min(countries)\n",
        "largest_country = max(countries)\n",
        "print(\"Smallest Country:\", smallest_country)\n",
        "print(\"Largest Country:\", largest_country)\n"
      ],
      "metadata": {
        "colab": {
          "base_uri": "https://localhost:8080/"
        },
        "id": "x8jJ0IAmeQvv",
        "outputId": "26fd5e44-707c-472d-e2cb-0291e13e7d2c"
      },
      "execution_count": 32,
      "outputs": [
        {
          "output_type": "stream",
          "name": "stdout",
          "text": [
            "Original List: ['USA', 'Canada', 'Australia', 'Germany', 'Japan']\n",
            "After Append: ['USA', 'Canada', 'Australia', 'Germany', 'Japan', 'France']\n",
            "After Insert: ['USA', 'Canada', 'Brazil', 'Australia', 'Germany', 'Japan', 'France']\n",
            "After Remove: ['USA', 'Canada', 'Brazil', 'Australia', 'Japan', 'France']\n",
            "Popped Country: France\n",
            "After Pop: ['USA', 'Canada', 'Brazil', 'Australia', 'Japan']\n",
            "After Sort: ['Australia', 'Brazil', 'Canada', 'Japan', 'USA']\n",
            "After Reverse: ['USA', 'Japan', 'Canada', 'Brazil', 'Australia']\n",
            "List Length: 5\n",
            "Smallest Country: Australia\n",
            "Largest Country: USA\n"
          ]
        }
      ]
    },
    {
      "cell_type": "code",
      "source": [
        "my_list = [1, 2, 3, 4, 5]\n",
        "\n",
        "try:\n",
        "    value = my_list[10]\n",
        "    print(\"Value at index 10:\", value)\n",
        "except IndexError as e:\n",
        "    print(f\"IndexError: {e}\")\n"
      ],
      "metadata": {
        "colab": {
          "base_uri": "https://localhost:8080/"
        },
        "id": "_o9HUXKreXRn",
        "outputId": "2668b4c7-6ef4-404e-c9bb-fb37878111a1"
      },
      "execution_count": 33,
      "outputs": [
        {
          "output_type": "stream",
          "name": "stdout",
          "text": [
            "IndexError: list index out of range\n"
          ]
        }
      ]
    },
    {
      "cell_type": "code",
      "execution_count": 34,
      "metadata": {
        "colab": {
          "base_uri": "https://localhost:8080/"
        },
        "id": "c-Y0BCt0rCDq",
        "outputId": "4dea6af7-436a-493a-e1ce-27bf41e4e1ab"
      },
      "outputs": [
        {
          "output_type": "stream",
          "name": "stdout",
          "text": [
            "[250047, 343000, 456533, 592704]\n"
          ]
        }
      ],
      "source": [
        "cubes_of_multiples_of_seven = [num ** 3 for num in range(60, 86) if num % 7 == 0]\n",
        "\n",
        "print(cubes_of_multiples_of_seven)\n"
      ]
    },
    {
      "cell_type": "code",
      "source": [
        "input_values = [40, 50, 120, -8, 6]\n",
        "\n",
        "result_values = [7.4 * x + 51 for x in input_values]\n",
        "\n",
        "print(result_values)\n"
      ],
      "metadata": {
        "colab": {
          "base_uri": "https://localhost:8080/"
        },
        "id": "2fPrD-xCslBk",
        "outputId": "ae82a1f4-5255-4af6-8d73-d4a336c96cc8"
      },
      "execution_count": 35,
      "outputs": [
        {
          "output_type": "stream",
          "name": "stdout",
          "text": [
            "[347.0, 421.0, 939.0, -8.200000000000003, 95.4]\n"
          ]
        }
      ]
    }
  ]
}