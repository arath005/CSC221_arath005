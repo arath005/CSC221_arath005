{
  "nbformat": 4,
  "nbformat_minor": 0,
  "metadata": {
    "colab": {
      "provenance": [],
      "authorship_tag": "ABX9TyPrIg66QLPHq7IRAFLSWoEz",
      "include_colab_link": true
    },
    "kernelspec": {
      "name": "python3",
      "display_name": "Python 3"
    },
    "language_info": {
      "name": "python"
    }
  },
  "cells": [
    {
      "cell_type": "markdown",
      "metadata": {
        "id": "view-in-github",
        "colab_type": "text"
      },
      "source": [
        "<a href=\"https://colab.research.google.com/github/arath005/CSC221_arath005/blob/main/Assignment4.ipynb\" target=\"_parent\"><img src=\"https://colab.research.google.com/assets/colab-badge.svg\" alt=\"Open In Colab\"/></a>"
      ]
    },
    {
      "cell_type": "code",
      "source": [
        "names = [\"Alice\", \"Bob\", \"Charlie\", \"David\", \"Eve\"]\n",
        "\n",
        "for name in names:\n",
        "    print(name)"
      ],
      "metadata": {
        "colab": {
          "base_uri": "https://localhost:8080/"
        },
        "id": "ewkSV41JtELT",
        "outputId": "f35d2ec8-aa77-464f-c08a-213dd04e62df"
      },
      "execution_count": 6,
      "outputs": [
        {
          "output_type": "stream",
          "name": "stdout",
          "text": [
            "Alice\n",
            "Bob\n",
            "Charlie\n",
            "David\n",
            "Eve\n"
          ]
        }
      ]
    },
    {
      "cell_type": "code",
      "source": [
        "names = [\"Alice\", \"Bob\", \"Charlie\", \"David\", \"Eve\"]\n",
        "\n",
        "for name in names:\n",
        "    print(\"hello \" + name + \" how are you?\")"
      ],
      "metadata": {
        "colab": {
          "base_uri": "https://localhost:8080/"
        },
        "id": "UOcApcRytLhK",
        "outputId": "79526de9-47a2-4475-aa66-2b2e0faff211"
      },
      "execution_count": 7,
      "outputs": [
        {
          "output_type": "stream",
          "name": "stdout",
          "text": [
            "hello Alice how are you?\n",
            "hello Bob how are you?\n",
            "hello Charlie how are you?\n",
            "hello David how are you?\n",
            "hello Eve how are you?\n"
          ]
        }
      ]
    },
    {
      "cell_type": "code",
      "source": [
        "trans = [\"car\", \"airplane\", \"bike\"]\n",
        "\n",
        "for tran in trans:\n",
        "  print('I would like to own a ' + tran)"
      ],
      "metadata": {
        "colab": {
          "base_uri": "https://localhost:8080/"
        },
        "id": "TvkcvIShtve5",
        "outputId": "461f421a-4868-43ef-c745-d6e715e306aa"
      },
      "execution_count": 8,
      "outputs": [
        {
          "output_type": "stream",
          "name": "stdout",
          "text": [
            "I would like to own a car\n",
            "I would like to own a airplane\n",
            "I would like to own a bike\n"
          ]
        }
      ]
    },
    {
      "cell_type": "code",
      "source": [
        "peeps = ['Dad', 'Mom', 'Brother']\n",
        "for peep in peeps:\n",
        "  print('I would like to formally invite you, ' + peep + ', to join us in dinner at our house on this fine evening.')"
      ],
      "metadata": {
        "colab": {
          "base_uri": "https://localhost:8080/"
        },
        "id": "_xhPRL3CuUo8",
        "outputId": "fdd0baf6-08f5-405c-ac44-911431981e92"
      },
      "execution_count": 13,
      "outputs": [
        {
          "output_type": "stream",
          "name": "stdout",
          "text": [
            "I would like to formally invite you, Sister, to join us in dinner at our house on this fine evening.\n",
            "I would like to formally invite you, Mom, to join us in dinner at our house on this fine evening.\n",
            "I would like to formally invite you, Brother, to join us in dinner at our house on this fine evening.\n"
          ]
        }
      ]
    },
    {
      "cell_type": "code",
      "source": [
        "peeps = ['Sister', 'Mom', 'Brother']\n",
        "for peep in peeps:\n",
        "  print('I would like to formally invite you, ' + peep + ', to join us in dinner at our house on this fine evening.')\n",
        "  print('Dad can not make it')"
      ],
      "metadata": {
        "colab": {
          "base_uri": "https://localhost:8080/"
        },
        "id": "VR1HWsZGvMmQ",
        "outputId": "dca50dad-a413-4f5e-f636-42c51cbb34e4"
      },
      "execution_count": 14,
      "outputs": [
        {
          "output_type": "stream",
          "name": "stdout",
          "text": [
            "I would like to formally invite you, Sister, to join us in dinner at our house on this fine evening.\n",
            "Dad can not make it\n",
            "I would like to formally invite you, Mom, to join us in dinner at our house on this fine evening.\n",
            "Dad can not make it\n",
            "I would like to formally invite you, Brother, to join us in dinner at our house on this fine evening.\n",
            "Dad can not make it\n"
          ]
        }
      ]
    },
    {
      "cell_type": "code",
      "source": [
        "peeps = ['Dad', 'Mom', 'Brother', 'Jake', 'Dave']\n",
        "for peep in peeps:\n",
        "  print('I would like to formally invite you, ' + peep + ', to join us in dinner at our house on this fine evening.')\n",
        "print('I found a bigger table')"
      ],
      "metadata": {
        "colab": {
          "base_uri": "https://localhost:8080/"
        },
        "id": "AEdZH2skwPFo",
        "outputId": "1158a084-d14e-41f8-fa00-c65ab4dcf8a1"
      },
      "execution_count": 15,
      "outputs": [
        {
          "output_type": "stream",
          "name": "stdout",
          "text": [
            "I would like to formally invite you, Dad, to join us in dinner at our house on this fine evening.\n",
            "I would like to formally invite you, Mom, to join us in dinner at our house on this fine evening.\n",
            "I would like to formally invite you, Brother, to join us in dinner at our house on this fine evening.\n",
            "I would like to formally invite you, Jake, to join us in dinner at our house on this fine evening.\n",
            "I would like to formally invite you, Dave, to join us in dinner at our house on this fine evening.\n",
            "I found a bigger table\n"
          ]
        }
      ]
    },
    {
      "cell_type": "code",
      "source": [
        "peeps = ['Dad', 'Mom', 'Brother', 'Jake', 'Dave']\n",
        "while len(peeps) > 2:\n",
        "  popped_item = peeps.pop()\n",
        "  print(\"Im sorry to inform you, \" + popped_item + ', that you have been uninvited')\n",
        "\n",
        "for peep in peeps:\n",
        "  print('I would like to formally invite you, ' + peep + ', to join us in dinner at our house on this fine evening.')\n",
        "print('I can only invite 2 of you for dinner')\n",
        "del peeps\n",
        "print(peeps)"
      ],
      "metadata": {
        "colab": {
          "base_uri": "https://localhost:8080/",
          "height": 322
        },
        "id": "OVwI6odbwm8z",
        "outputId": "c19000b9-40e1-4526-f561-bd73308e47de"
      },
      "execution_count": 29,
      "outputs": [
        {
          "output_type": "stream",
          "name": "stdout",
          "text": [
            "Im sorry to inform you, Dave, that you have been uninvited\n",
            "Im sorry to inform you, Jake, that you have been uninvited\n",
            "Im sorry to inform you, Brother, that you have been uninvited\n",
            "I would like to formally invite you, Dad, to join us in dinner at our house on this fine evening.\n",
            "I would like to formally invite you, Mom, to join us in dinner at our house on this fine evening.\n",
            "I can only invite 2 of you for dinner\n"
          ]
        },
        {
          "output_type": "error",
          "ename": "NameError",
          "evalue": "ignored",
          "traceback": [
            "\u001b[0;31m---------------------------------------------------------------------------\u001b[0m",
            "\u001b[0;31mNameError\u001b[0m                                 Traceback (most recent call last)",
            "\u001b[0;32m<ipython-input-29-9a12509d2ad7>\u001b[0m in \u001b[0;36m<cell line: 10>\u001b[0;34m()\u001b[0m\n\u001b[1;32m      8\u001b[0m \u001b[0mprint\u001b[0m\u001b[0;34m(\u001b[0m\u001b[0;34m'I can only invite 2 of you for dinner'\u001b[0m\u001b[0;34m)\u001b[0m\u001b[0;34m\u001b[0m\u001b[0;34m\u001b[0m\u001b[0m\n\u001b[1;32m      9\u001b[0m \u001b[0;32mdel\u001b[0m \u001b[0mpeeps\u001b[0m\u001b[0;34m\u001b[0m\u001b[0;34m\u001b[0m\u001b[0m\n\u001b[0;32m---> 10\u001b[0;31m \u001b[0mprint\u001b[0m\u001b[0;34m(\u001b[0m\u001b[0mpeeps\u001b[0m\u001b[0;34m)\u001b[0m\u001b[0;34m\u001b[0m\u001b[0;34m\u001b[0m\u001b[0m\n\u001b[0m",
            "\u001b[0;31mNameError\u001b[0m: name 'peeps' is not defined"
          ]
        }
      ]
    },
    {
      "cell_type": "code",
      "execution_count": 3,
      "metadata": {
        "colab": {
          "base_uri": "https://localhost:8080/"
        },
        "id": "c-Y0BCt0rCDq",
        "outputId": "890dca55-9d74-44ca-cd1d-be7af819a9ea"
      },
      "outputs": [
        {
          "output_type": "stream",
          "name": "stdout",
          "text": [
            "The cube of 63 is 250047\n",
            "The cube of 70 is 343000\n",
            "The cube of 77 is 456533\n",
            "The cube of 84 is 592704\n"
          ]
        }
      ],
      "source": [
        "for num in range(60, 86):\n",
        "    if num % 7 == 0:\n",
        "        cube = num ** 3\n",
        "        print(f\"The cube of {num} is {cube}\")"
      ]
    },
    {
      "cell_type": "code",
      "source": [
        "x_values = [40, 50, 120, -8, 6]\n",
        "\n",
        "for x in x_values:\n",
        "    y = 7.4 * x + 51\n",
        "    print(f\"For x = {x}, y = {y}\")"
      ],
      "metadata": {
        "colab": {
          "base_uri": "https://localhost:8080/"
        },
        "id": "2fPrD-xCslBk",
        "outputId": "af85b561-7962-432f-f7b3-9461f5727366"
      },
      "execution_count": 4,
      "outputs": [
        {
          "output_type": "stream",
          "name": "stdout",
          "text": [
            "For x = 40, y = 347.0\n",
            "For x = 50, y = 421.0\n",
            "For x = 120, y = 939.0\n",
            "For x = -8, y = -8.200000000000003\n",
            "For x = 6, y = 95.4\n"
          ]
        }
      ]
    }
  ]
}